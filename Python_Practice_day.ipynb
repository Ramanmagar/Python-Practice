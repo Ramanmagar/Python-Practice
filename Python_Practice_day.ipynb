{
  "nbformat": 4,
  "nbformat_minor": 0,
  "metadata": {
    "colab": {
      "name": "Python Practice day1-17.04.ipynb",
      "provenance": [],
      "collapsed_sections": [],
      "authorship_tag": "ABX9TyOp2FkJj63JPBNAnlIV9Icx",
      "include_colab_link": true
    },
    "kernelspec": {
      "name": "python3",
      "display_name": "Python 3"
    },
    "language_info": {
      "name": "python"
    }
  },
  "cells": [
    {
      "cell_type": "markdown",
      "metadata": {
        "id": "view-in-github",
        "colab_type": "text"
      },
      "source": [
        "<a href=\"https://colab.research.google.com/github/Ramanmagar/Python-Practice/blob/main/Python_Practice_day.ipynb\" target=\"_parent\"><img src=\"https://colab.research.google.com/assets/colab-badge.svg\" alt=\"Open In Colab\"/></a>"
      ]
    },
    {
      "cell_type": "code",
      "execution_count": null,
      "metadata": {
        "id": "-cq3HdXvggE-"
      },
      "outputs": [],
      "source": [
        ""
      ]
    },
    {
      "cell_type": "markdown",
      "source": [
        "##What are Identifiers ?\n",
        "\n",
        "A Python identifier is a name used to identify a variable, function, class, module or other object. An identifier starts with a letter A to Z or a to z or an underscore (_) followed by zero or more letters, underscores and digits\n",
        "(0 to 9).\n",
        "\n",
        "Python does not allow punctuation characters such as @, $, and % within identifiers.Python is a case sensitive programming language. Thus, Manpower and manpower are two different identifiers in Python.\n",
        "\n"
      ],
      "metadata": {
        "id": "BD8Qd9LfhgTG"
      }
    },
    {
      "cell_type": "code",
      "source": [
        "# Run this cell and see the answer in boolean way(True, False) and don't worry if you don't\n",
        "# Just keep in mind, there's a way to cross check the identifier.\n",
        "print(\"abc\".isidentifier())\n",
        "print(\"99a\".isidentifier())\n",
        "print(\"_\".isidentifier())\n",
        "print(\"for\".isidentifier()) # True - wrong output"
      ],
      "metadata": {
        "colab": {
          "base_uri": "https://localhost:8080/"
        },
        "id": "ElkFukEvh-ia",
        "outputId": "fa2d166a-8699-4aca-fd2c-1654a289fa6c"
      },
      "execution_count": null,
      "outputs": [
        {
          "output_type": "stream",
          "name": "stdout",
          "text": [
            "True\n",
            "False\n",
            "True\n",
            "True\n"
          ]
        }
      ]
    },
    {
      "cell_type": "code",
      "source": [
        "import keyword"
      ],
      "metadata": {
        "id": "QIEIst3XiO06"
      },
      "execution_count": null,
      "outputs": []
    },
    {
      "cell_type": "code",
      "source": [
        "keyword"
      ],
      "metadata": {
        "colab": {
          "base_uri": "https://localhost:8080/"
        },
        "id": "v4f8dq22kdYH",
        "outputId": "50e613fd-5609-4a6d-8203-1a7e8db96ddf"
      },
      "execution_count": null,
      "outputs": [
        {
          "output_type": "execute_result",
          "data": {
            "text/plain": [
              "<module 'keyword' from '/usr/lib/python3.7/keyword.py'>"
            ]
          },
          "metadata": {},
          "execution_count": 3
        }
      ]
    },
    {
      "cell_type": "code",
      "source": [
        "print(keyword)"
      ],
      "metadata": {
        "colab": {
          "base_uri": "https://localhost:8080/"
        },
        "id": "NlbD3HLzkfeo",
        "outputId": "ec471f4d-acd2-4cb9-ede9-da581acbfbfc"
      },
      "execution_count": null,
      "outputs": [
        {
          "output_type": "stream",
          "name": "stdout",
          "text": [
            "<module 'keyword' from '/usr/lib/python3.7/keyword.py'>\n"
          ]
        }
      ]
    },
    {
      "cell_type": "code",
      "source": [
        "print(KeyboardInterrupt)"
      ],
      "metadata": {
        "colab": {
          "base_uri": "https://localhost:8080/"
        },
        "id": "o8kYKOIJkkny",
        "outputId": "5311143f-c40e-42c7-fd1e-21cb81299c8c"
      },
      "execution_count": null,
      "outputs": [
        {
          "output_type": "stream",
          "name": "stdout",
          "text": [
            "<class 'KeyboardInterrupt'>\n"
          ]
        }
      ]
    },
    {
      "cell_type": "code",
      "source": [
        "Integer i\n",
        "Set i = 3do\n",
        "print i + 3\n",
        "i = i - 1\n",
        "while(i not equals 0)\n",
        "end while"
      ],
      "metadata": {
        "id": "VBWoibdrknyK",
        "colab": {
          "base_uri": "https://localhost:8080/",
          "height": 130
        },
        "outputId": "08e00a26-7fa7-4df2-af96-7d0a7c002340"
      },
      "execution_count": null,
      "outputs": [
        {
          "output_type": "error",
          "ename": "SyntaxError",
          "evalue": "ignored",
          "traceback": [
            "\u001b[0;36m  File \u001b[0;32m\"<ipython-input-1-f2c867eedf8b>\"\u001b[0;36m, line \u001b[0;32m1\u001b[0m\n\u001b[0;31m    Integer i\u001b[0m\n\u001b[0m            ^\u001b[0m\n\u001b[0;31mSyntaxError\u001b[0m\u001b[0;31m:\u001b[0m invalid syntax\n"
          ]
        }
      ]
    },
    {
      "cell_type": "code",
      "source": [
        " int i=3;\n",
        "      do{\n",
        "          cout<<i+3; => 3+3 =6 =>2+3 =>5 =>1+3=4\n",
        "          i=i-1;      => 3-1=2  =>2-1 =>1 =>1-1=0  \n",
        "      }while(i!=0);\n",
        "\n"
      ],
      "metadata": {
        "colab": {
          "base_uri": "https://localhost:8080/",
          "height": 130
        },
        "id": "eI9Z5tneA370",
        "outputId": "2a2e3aad-2985-4380-afe9-7dbc45b2e5f8"
      },
      "execution_count": null,
      "outputs": [
        {
          "output_type": "error",
          "ename": "SyntaxError",
          "evalue": "ignored",
          "traceback": [
            "\u001b[0;36m  File \u001b[0;32m\"<ipython-input-2-c3fad68ca676>\"\u001b[0;36m, line \u001b[0;32m1\u001b[0m\n\u001b[0;31m    int i=3;\u001b[0m\n\u001b[0m        ^\u001b[0m\n\u001b[0;31mSyntaxError\u001b[0m\u001b[0;31m:\u001b[0m invalid syntax\n"
          ]
        }
      ]
    },
    {
      "cell_type": "code",
      "source": [
        "def testgen(index):\n",
        "\n",
        "weekdays = ['sun', 'mon', 'tue', 'wed', 'thu', 'fri', 'sat']\n",
        "\n",
        "yield weekdays[index]\n",
        "\n",
        "yield weekdays[index+1]\n",
        "\n",
        "day = testgen(0)\n",
        "\n",
        "print(next(day), next(day))"
      ],
      "metadata": {
        "colab": {
          "base_uri": "https://localhost:8080/",
          "height": 130
        },
        "id": "KmGw32NeA5O2",
        "outputId": "c4499107-6744-441f-8adb-84a22024f53f"
      },
      "execution_count": null,
      "outputs": [
        {
          "output_type": "error",
          "ename": "IndentationError",
          "evalue": "ignored",
          "traceback": [
            "\u001b[0;36m  File \u001b[0;32m\"<ipython-input-7-5457c63bdd19>\"\u001b[0;36m, line \u001b[0;32m3\u001b[0m\n\u001b[0;31m    weekdays = ['sun', 'mon', 'tue', 'wed', 'thu', 'fri', 'sat']\u001b[0m\n\u001b[0m           ^\u001b[0m\n\u001b[0;31mIndentationError\u001b[0m\u001b[0;31m:\u001b[0m expected an indented block\n"
          ]
        }
      ]
    },
    {
      "cell_type": "code",
      "source": [
        "#convert List into string\n",
        "\n",
        "weekdays = ['sun','mon','tue','wed','thu','fri','sat']\n",
        "\n",
        "list_to_String = ' '.join(weekdays)\n",
        "print(list_to_String)"
      ],
      "metadata": {
        "colab": {
          "base_uri": "https://localhost:8080/"
        },
        "id": "LcgbC9CKIwo4",
        "outputId": "861a322b-90f4-4822-e79e-56e704495e69"
      },
      "execution_count": null,
      "outputs": [
        {
          "output_type": "stream",
          "name": "stdout",
          "text": [
            "sun mon tue wed thu fri sat\n"
          ]
        }
      ]
    },
    {
      "cell_type": "code",
      "source": [
        "#convert List into string\n",
        "names = ['ram','shyam','nitin','ajay','vijay','raj']\n",
        "list_to_string = ' '.join(names)\n",
        "print(weaks)\n",
        "print(list_to_string)"
      ],
      "metadata": {
        "colab": {
          "base_uri": "https://localhost:8080/"
        },
        "id": "g6EMMvkDJZ4h",
        "outputId": "a28c3d77-a2e2-4cd7-fc40-4848d1a98833"
      },
      "execution_count": null,
      "outputs": [
        {
          "output_type": "stream",
          "name": "stdout",
          "text": [
            "['ram', 'shyam', 'nitin', 'ajay', 'vijay', 'raj']\n",
            "ram shyam nitin ajay vijay raj\n"
          ]
        }
      ]
    },
    {
      "cell_type": "code",
      "source": [
        "#convert list into tuple\n",
        "\n",
        "weekdays = ['sun','mon','tue','wed','thu','fri','sat']\n",
        "list_to_Tuple = tuple(weekdays)\n",
        "print(list_to_Tuple)"
      ],
      "metadata": {
        "colab": {
          "base_uri": "https://localhost:8080/"
        },
        "id": "MBwWIybAJICg",
        "outputId": "be6db842-b7d5-46a9-f9b8-1ea1b2fee5d2"
      },
      "execution_count": null,
      "outputs": [
        {
          "output_type": "stream",
          "name": "stdout",
          "text": [
            "('sun', 'mon', 'tue', 'wed', 'thu', 'fri', 'sat')\n"
          ]
        }
      ]
    },
    {
      "cell_type": "code",
      "source": [
        "#convert list into set\n",
        "\n",
        "weekdays = ['sun','mon','tue','wed','thu','fri','sat']\n",
        "list_to_Tuple = set(weekdays)\n",
        "print(list_to_Tuple)"
      ],
      "metadata": {
        "colab": {
          "base_uri": "https://localhost:8080/"
        },
        "id": "loC04UcbLbt-",
        "outputId": "3f36cccb-ec03-440a-8ea7-8a0be2203bdb"
      },
      "execution_count": null,
      "outputs": [
        {
          "output_type": "stream",
          "name": "stdout",
          "text": [
            "{'sun', 'sat', 'thu', 'wed', 'tue', 'mon', 'fri'}\n"
          ]
        }
      ]
    },
    {
      "cell_type": "code",
      "source": [
        "weekdays = ['sun','mon','tue','wed','thu','fri','sat','mon','tue','wed','thu','fri','sat','tue']\n",
        "\n",
        "print(weekdays.count('tue'))"
      ],
      "metadata": {
        "colab": {
          "base_uri": "https://localhost:8080/"
        },
        "id": "pXzxXvt3L3Ud",
        "outputId": "4e65edf3-3537-4172-82b1-e8c93aa935de"
      },
      "execution_count": null,
      "outputs": [
        {
          "output_type": "stream",
          "name": "stdout",
          "text": [
            "3\n"
          ]
        }
      ]
    },
    {
      "cell_type": "code",
      "source": [
        "''' What is NumPy array?\n",
        "\n",
        "NumPy arrays are more flexible then lists in Python. By using NumPy arrays reading and writing items is faster and more efficient'''"
      ],
      "metadata": {
        "id": "Fn7jCN6RMUv4"
      },
      "execution_count": null,
      "outputs": []
    },
    {
      "cell_type": "code",
      "source": [
        "# What is local and global variable??\n",
        "\n",
        "# global variable and it is not function dependant\n",
        "x = \"awesome\" \n",
        "def myfunc():\n",
        "# Local variable because it is defined inside function and it has scope\n",
        " x = \"fantastic\"\n",
        " # here local variable gets priority when name of local and g\n",
        " print(\"CloudyML is \" + x) \n",
        "myfunc()\n",
        "print(\"CloudyML is \" + x)"
      ],
      "metadata": {
        "id": "JHiB_ejEe1YA",
        "colab": {
          "base_uri": "https://localhost:8080/"
        },
        "outputId": "155b1940-e241-4fca-9fac-947ee04ba726"
      },
      "execution_count": 2,
      "outputs": [
        {
          "output_type": "stream",
          "name": "stdout",
          "text": [
            "CloudyML is fantastic\n",
            "CloudyML is awesome\n"
          ]
        }
      ]
    },
    {
      "cell_type": "code",
      "source": [
        " ##What if you want to call global variable with same name as local inside a function??\n",
        "# Use global keyword\n",
        "x = \"awesome\" # global variable and it is not function dependant\n",
        "def myfunc():\n",
        "  global x\n",
        " x = \"fantastic\" # Local variable because it is defined inside function and it has scope\n",
        " print(\"CloudyML is \" + x) # here global variable gets priority because I used global k\n",
        "myfunc()\n",
        "print(\"CloudyML is \" + x)\n"
      ],
      "metadata": {
        "colab": {
          "base_uri": "https://localhost:8080/"
        },
        "id": "G23xYDbimFY7",
        "outputId": "8fdd021f-9768-4d52-be37-2297f94df928"
      },
      "execution_count": 10,
      "outputs": [
        {
          "output_type": "stream",
          "name": "stdout",
          "text": [
            "CloudyML is fantastic\n",
            "CloudyML is fantastic\n"
          ]
        }
      ]
    },
    {
      "cell_type": "code",
      "source": [
        "x  = \"awesome\"\n",
        "def myfunc():\n",
        "  global x\n",
        "  x= 'fantastic'\n",
        "  print(\"it is \" + x)\n",
        "myfunc()\n",
        "print(\"it is \" +x)"
      ],
      "metadata": {
        "colab": {
          "base_uri": "https://localhost:8080/"
        },
        "id": "IkI_cKzrmFVV",
        "outputId": "e1dc2afc-7876-43a1-d8b1-5c84a0163a0a"
      },
      "execution_count": 8,
      "outputs": [
        {
          "output_type": "stream",
          "name": "stdout",
          "text": [
            "it is fantastic\n",
            "it is fantastic\n"
          ]
        }
      ]
    },
    {
      "cell_type": "code",
      "source": [
        " #String formatting method\n",
        "# Method 1\n",
        "quantity = 5\n",
        "item_name = \"Mango\"\n",
        "price = 10\n",
        "\n",
        "# {} is called placeholder, so 3 placehold\n",
        "order = \"I want {} pieces of {} for {} dollars.\"\n",
        "print(order.format(quantity, item_name, price))\n",
        "# Method 2\n",
        "order = \"I want {0} pieces of {1} for {2} dollars.\" # here 0,1,2 tells the position of qu\n",
        "print(order.format(quantity, item_name, price))\n",
        "# Method 3\n",
        "print(f\"I want {quantity} pieces of {item_name} for {price} dollars.\") # Observe the f out\n",
        " # names passed in\n",
        "# Method 4\n",
        "print(\"I want %d pieces of %s for %.0f dollars.\"%(quantity, item_name, price)) "
      ],
      "metadata": {
        "colab": {
          "base_uri": "https://localhost:8080/"
        },
        "id": "Dy2Dgi6pmFRe",
        "outputId": "6de8149a-d61a-4b99-f8d9-f44b2c60e81b"
      },
      "execution_count": 11,
      "outputs": [
        {
          "output_type": "stream",
          "name": "stdout",
          "text": [
            "I want 5 pieces of Mango for 10 dollars.\n",
            "I want 5 pieces of Mango for 10 dollars.\n",
            "I want 5 pieces of Mango for 10 dollars.\n",
            "I want 5 pieces of Mango for 10 dollars.\n"
          ]
        }
      ]
    },
    {
      "cell_type": "code",
      "source": [
        ""
      ],
      "metadata": {
        "id": "_gNy295vmFNT"
      },
      "execution_count": null,
      "outputs": []
    },
    {
      "cell_type": "code",
      "source": [
        ""
      ],
      "metadata": {
        "id": "E4zbAJ39mFF4"
      },
      "execution_count": null,
      "outputs": []
    },
    {
      "cell_type": "code",
      "source": [
        ""
      ],
      "metadata": {
        "id": "ibRFMq1FmFDQ"
      },
      "execution_count": null,
      "outputs": []
    },
    {
      "cell_type": "code",
      "source": [
        ""
      ],
      "metadata": {
        "id": "twjE_cWAmE8X"
      },
      "execution_count": null,
      "outputs": []
    },
    {
      "cell_type": "code",
      "source": [
        ""
      ],
      "metadata": {
        "id": "NyVKTHOlmE3V"
      },
      "execution_count": null,
      "outputs": []
    },
    {
      "cell_type": "code",
      "source": [
        ""
      ],
      "metadata": {
        "id": "gGopno04mEyg"
      },
      "execution_count": null,
      "outputs": []
    },
    {
      "cell_type": "code",
      "source": [
        ""
      ],
      "metadata": {
        "id": "7LFCvuiwmEvo"
      },
      "execution_count": null,
      "outputs": []
    },
    {
      "cell_type": "code",
      "source": [
        ""
      ],
      "metadata": {
        "id": "6kHHhUKKmEsW"
      },
      "execution_count": null,
      "outputs": []
    }
  ]
}