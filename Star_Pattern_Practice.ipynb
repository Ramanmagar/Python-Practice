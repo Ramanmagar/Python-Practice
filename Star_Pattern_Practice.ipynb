{
  "nbformat": 4,
  "nbformat_minor": 0,
  "metadata": {
    "colab": {
      "name": "Star Pattern Practice.ipynb",
      "provenance": [],
      "collapsed_sections": [],
      "authorship_tag": "ABX9TyMOhhEbphPys2c5doyl1qZG",
      "include_colab_link": true
    },
    "kernelspec": {
      "name": "python3",
      "display_name": "Python 3"
    },
    "language_info": {
      "name": "python"
    }
  },
  "cells": [
    {
      "cell_type": "markdown",
      "metadata": {
        "id": "view-in-github",
        "colab_type": "text"
      },
      "source": [
        "<a href=\"https://colab.research.google.com/github/Ramanmagar/Python-Practice/blob/main/Star_Pattern_Practice.ipynb\" target=\"_parent\"><img src=\"https://colab.research.google.com/assets/colab-badge.svg\" alt=\"Open In Colab\"/></a>"
      ]
    },
    {
      "cell_type": "code",
      "source": [
        "n= 5\n",
        "for i in range(n):\n",
        "  for j in range(i+1):\n",
        "    print('*')"
      ],
      "metadata": {
        "colab": {
          "base_uri": "https://localhost:8080/"
        },
        "id": "EYxrahNExMxf",
        "outputId": "01473a3b-b688-4a52-eecc-b95780a93350"
      },
      "execution_count": null,
      "outputs": [
        {
          "output_type": "stream",
          "name": "stdout",
          "text": [
            "*\n",
            "*\n",
            "*\n",
            "*\n",
            "*\n",
            "*\n",
            "*\n",
            "*\n",
            "*\n",
            "*\n",
            "*\n",
            "*\n",
            "*\n",
            "*\n",
            "*\n"
          ]
        }
      ]
    },
    {
      "cell_type": "code",
      "source": [
        "n= 5\n",
        "for i in range(n):\n",
        "  for j in range(i+1):\n",
        "    print(j ,end=' ')"
      ],
      "metadata": {
        "id": "4b7HSgMFf3QU",
        "colab": {
          "base_uri": "https://localhost:8080/"
        },
        "outputId": "ec440ead-4160-467e-dc49-721c040939f3"
      },
      "execution_count": null,
      "outputs": [
        {
          "output_type": "stream",
          "name": "stdout",
          "text": [
            "0 0 1 0 1 2 0 1 2 3 0 1 2 3 4 "
          ]
        }
      ]
    },
    {
      "cell_type": "code",
      "source": [
        "n= 5\n",
        "for i in range(n):\n",
        "  #for j in range(i+1):\n",
        "    print(i ,end=' ')"
      ],
      "metadata": {
        "colab": {
          "base_uri": "https://localhost:8080/"
        },
        "id": "L6BpNM_vwoNx",
        "outputId": "90bc6898-88f4-45fa-fff3-a9caf2b0e68e"
      },
      "execution_count": null,
      "outputs": [
        {
          "output_type": "stream",
          "name": "stdout",
          "text": [
            "0 1 2 3 4 "
          ]
        }
      ]
    },
    {
      "cell_type": "code",
      "source": [
        "n= 5\n",
        "for i in range(n):\n",
        "  #for j in range(i+1):\n",
        "    print(i)"
      ],
      "metadata": {
        "colab": {
          "base_uri": "https://localhost:8080/"
        },
        "id": "AmpVNG60woTF",
        "outputId": "f8f5cb2b-e662-4b99-93a0-c728eb00d568"
      },
      "execution_count": null,
      "outputs": [
        {
          "output_type": "stream",
          "name": "stdout",
          "text": [
            "0\n",
            "1\n",
            "2\n",
            "3\n",
            "4\n"
          ]
        }
      ]
    },
    {
      "cell_type": "code",
      "source": [
        "n = 5\n",
        "for i in ranje(n):\n",
        "  for j in range(i+1):\n",
        "    print(\"*\", end=' ')\n",
        "  print()"
      ],
      "metadata": {
        "colab": {
          "base_uri": "https://localhost:8080/",
          "height": 235
        },
        "id": "j43B_j47woXs",
        "outputId": "749077dd-39c7-4fdd-cd3f-50ac758217bc"
      },
      "execution_count": null,
      "outputs": [
        {
          "output_type": "error",
          "ename": "NameError",
          "evalue": "ignored",
          "traceback": [
            "\u001b[0;31m---------------------------------------------------------------------------\u001b[0m",
            "\u001b[0;31mNameError\u001b[0m                                 Traceback (most recent call last)",
            "\u001b[0;32m<ipython-input-18-7115df8cae6a>\u001b[0m in \u001b[0;36m<module>\u001b[0;34m()\u001b[0m\n\u001b[1;32m      1\u001b[0m \u001b[0mn\u001b[0m \u001b[0;34m=\u001b[0m \u001b[0;36m5\u001b[0m\u001b[0;34m\u001b[0m\u001b[0;34m\u001b[0m\u001b[0m\n\u001b[0;32m----> 2\u001b[0;31m \u001b[0;32mfor\u001b[0m \u001b[0mi\u001b[0m \u001b[0;32min\u001b[0m \u001b[0mranje\u001b[0m\u001b[0;34m(\u001b[0m\u001b[0mn\u001b[0m\u001b[0;34m)\u001b[0m\u001b[0;34m:\u001b[0m\u001b[0;34m\u001b[0m\u001b[0;34m\u001b[0m\u001b[0m\n\u001b[0m\u001b[1;32m      3\u001b[0m   \u001b[0;32mfor\u001b[0m \u001b[0mj\u001b[0m \u001b[0;32min\u001b[0m \u001b[0mrange\u001b[0m\u001b[0;34m(\u001b[0m\u001b[0mi\u001b[0m\u001b[0;34m+\u001b[0m\u001b[0;36m1\u001b[0m\u001b[0;34m)\u001b[0m\u001b[0;34m:\u001b[0m\u001b[0;34m\u001b[0m\u001b[0;34m\u001b[0m\u001b[0m\n\u001b[1;32m      4\u001b[0m     \u001b[0mprint\u001b[0m\u001b[0;34m(\u001b[0m\u001b[0;34m\"*\"\u001b[0m\u001b[0;34m,\u001b[0m \u001b[0mend\u001b[0m\u001b[0;34m=\u001b[0m\u001b[0;34m' '\u001b[0m\u001b[0;34m)\u001b[0m\u001b[0;34m\u001b[0m\u001b[0;34m\u001b[0m\u001b[0m\n\u001b[1;32m      5\u001b[0m   \u001b[0mprint\u001b[0m\u001b[0;34m(\u001b[0m\u001b[0;34m)\u001b[0m\u001b[0;34m\u001b[0m\u001b[0;34m\u001b[0m\u001b[0m\n",
            "\u001b[0;31mNameError\u001b[0m: name 'ranje' is not defined"
          ]
        }
      ]
    },
    {
      "cell_type": "code",
      "source": [
        "n= 5 \n",
        "for i in range(n):\n",
        "  for j in range(i+1):\n",
        "    print(\"*\", end =' ')\n",
        "  print()\n"
      ],
      "metadata": {
        "colab": {
          "base_uri": "https://localhost:8080/"
        },
        "id": "C-nW6VMCwobH",
        "outputId": "5b96810f-5fb2-40f9-ee27-98d38c237a7b"
      },
      "execution_count": null,
      "outputs": [
        {
          "output_type": "stream",
          "name": "stdout",
          "text": [
            "* \n",
            "* * \n",
            "* * * \n",
            "* * * * \n",
            "* * * * * \n"
          ]
        }
      ]
    },
    {
      "cell_type": "code",
      "source": [
        "n= 5\n",
        "for i in range(n):\n",
        "  for j in range(i, n):\n",
        "    print(\"*\", end =' ')\n",
        "  print()"
      ],
      "metadata": {
        "colab": {
          "base_uri": "https://localhost:8080/"
        },
        "id": "frvTyxbewods",
        "outputId": "3a800340-8a38-40e1-fdf5-6cedd37cf948"
      },
      "execution_count": null,
      "outputs": [
        {
          "output_type": "stream",
          "name": "stdout",
          "text": [
            "* * * * * \n",
            "* * * * \n",
            "* * * \n",
            "* * \n",
            "* \n"
          ]
        }
      ]
    },
    {
      "cell_type": "code",
      "source": [
        "i = 5\n",
        "for i in range(n):\n",
        "  for j in range(i, n):\n",
        "    print('*', end=' ')\n",
        "  for j in range(i+1):\n",
        "    print(\"*\", end=' ')\n",
        "  print()"
      ],
      "metadata": {
        "colab": {
          "base_uri": "https://localhost:8080/"
        },
        "id": "Rdo6d0QwwohP",
        "outputId": "466777fc-bb0b-484f-b0d9-797892c81305"
      },
      "execution_count": null,
      "outputs": [
        {
          "output_type": "stream",
          "name": "stdout",
          "text": [
            "* * * * * * \n",
            "* * * * * * \n",
            "* * * * * * \n",
            "* * * * * * \n",
            "* * * * * * \n"
          ]
        }
      ]
    },
    {
      "cell_type": "code",
      "source": [
        "i = 5\n",
        "for i in range(n):\n",
        "  for j in range(i+1):\n",
        "    print(' ', end=' ')\n",
        "  for j in range(i,n):\n",
        "    print(\"*\", end=' ')\n",
        "  print()"
      ],
      "metadata": {
        "colab": {
          "base_uri": "https://localhost:8080/"
        },
        "id": "J8bYPoTowope",
        "outputId": "a540abc3-bc8f-4d71-cb3c-eafe76029946"
      },
      "execution_count": null,
      "outputs": [
        {
          "output_type": "stream",
          "name": "stdout",
          "text": [
            "  * * * * * \n",
            "    * * * * \n",
            "      * * * \n",
            "        * * \n",
            "          * \n"
          ]
        }
      ]
    },
    {
      "cell_type": "code",
      "source": [
        "i = 5\n",
        "for i in range(n):\n",
        "  for j in range(i+1):\n",
        "    print('*', end=' ')\n",
        "  for j in range(i,n):\n",
        "    print(\" \", end=' ')\n",
        "  print()"
      ],
      "metadata": {
        "colab": {
          "base_uri": "https://localhost:8080/"
        },
        "id": "Y8-WPgqo_G5U",
        "outputId": "61f6ff99-7e50-4663-d0c3-3ea2e60ec1ae"
      },
      "execution_count": null,
      "outputs": [
        {
          "output_type": "stream",
          "name": "stdout",
          "text": [
            "*           \n",
            "* *         \n",
            "* * *       \n",
            "* * * *     \n",
            "* * * * *   \n"
          ]
        }
      ]
    },
    {
      "cell_type": "code",
      "source": [
        "i = 5\n",
        "for i in range(n):\n",
        "  for j in range(i, n):\n",
        "    print(' ', end=' ')\n",
        "  for j in range(i+1):\n",
        "    print(\"*\", end=' ')\n",
        "  print()"
      ],
      "metadata": {
        "colab": {
          "base_uri": "https://localhost:8080/"
        },
        "id": "jBEAosbO_YXk",
        "outputId": "2af65bb5-6ab0-4438-da3c-f8874fe23f5d"
      },
      "execution_count": null,
      "outputs": [
        {
          "output_type": "stream",
          "name": "stdout",
          "text": [
            "          * \n",
            "        * * \n",
            "      * * * \n",
            "    * * * * \n",
            "  * * * * * \n"
          ]
        }
      ]
    },
    {
      "cell_type": "code",
      "source": [
        "i = 5\n",
        "for i in range(n):\n",
        "  for j in range(i, n):\n",
        "    print(' ', end=' ')\n",
        "  for j in range(i+1):\n",
        "    print(\"*\", end=' ')\n",
        "  for j in range(i,n):\n",
        "    print(\"*\", end=' ')\n",
        "  print()"
      ],
      "metadata": {
        "colab": {
          "base_uri": "https://localhost:8080/"
        },
        "id": "SMfheqDpAXoh",
        "outputId": "c7316fde-3c71-4809-ba3d-c0b05c1534d0"
      },
      "execution_count": null,
      "outputs": [
        {
          "output_type": "stream",
          "name": "stdout",
          "text": [
            "          * * * * * * \n",
            "        * * * * * * \n",
            "      * * * * * * \n",
            "    * * * * * * \n",
            "  * * * * * * \n"
          ]
        }
      ]
    },
    {
      "cell_type": "code",
      "source": [
        "i = 5\n",
        "for i in range(n):\n",
        "  for j in range(i, n):\n",
        "    print(' ', end=' ')\n",
        "  for j in range(i+1):\n",
        "    print(\"*\", end=' ')\n",
        "  for j in range(i+1):\n",
        "    print(\"*\", end=' ')\n",
        "  print()"
      ],
      "metadata": {
        "colab": {
          "base_uri": "https://localhost:8080/"
        },
        "id": "jJyPRqRuBGeu",
        "outputId": "444ffa57-db37-4b81-cbd3-b2d62424efb0"
      },
      "execution_count": null,
      "outputs": [
        {
          "output_type": "stream",
          "name": "stdout",
          "text": [
            "          * * \n",
            "        * * * * \n",
            "      * * * * * * \n",
            "    * * * * * * * * \n",
            "  * * * * * * * * * * \n"
          ]
        }
      ]
    },
    {
      "cell_type": "code",
      "source": [
        "i = 5\n",
        "for i in range(n):\n",
        "  for j in range(i, n):\n",
        "    print(' ', end=' ')\n",
        "  for j in range(i):\n",
        "    print(\"*\", end=' ')\n",
        "  for j in range(i+1):\n",
        "    print(\"*\", end=' ')\n",
        "  print()"
      ],
      "metadata": {
        "colab": {
          "base_uri": "https://localhost:8080/"
        },
        "id": "Gyv_mqQVBXDX",
        "outputId": "a38ce977-a1bd-4093-dfe6-cc8165cfa9f1"
      },
      "execution_count": null,
      "outputs": [
        {
          "output_type": "stream",
          "name": "stdout",
          "text": [
            "          * \n",
            "        * * * \n",
            "      * * * * * \n",
            "    * * * * * * * \n",
            "  * * * * * * * * * \n"
          ]
        }
      ]
    },
    {
      "cell_type": "code",
      "source": [
        "n= 5\n",
        "for i in range(n):\n",
        "  for j in range(n+1):\n",
        "    print('1', end=' ')\n",
        "  "
      ],
      "metadata": {
        "colab": {
          "base_uri": "https://localhost:8080/"
        },
        "id": "feOn5IKDBdwr",
        "outputId": "9b235cee-1c8c-48e1-c65d-a3a43415acee"
      },
      "execution_count": null,
      "outputs": [
        {
          "output_type": "stream",
          "name": "stdout",
          "text": [
            "1 1 1 1 1 1 1 1 1 1 1 1 1 1 1 1 1 1 1 1 1 1 1 1 1 1 1 1 1 1 "
          ]
        }
      ]
    },
    {
      "cell_type": "code",
      "source": [
        ""
      ],
      "metadata": {
        "id": "GAQSH7F5DEa5"
      },
      "execution_count": null,
      "outputs": []
    },
    {
      "cell_type": "code",
      "source": [
        ""
      ],
      "metadata": {
        "id": "SW9cD3pDDcK0"
      },
      "execution_count": null,
      "outputs": []
    }
  ]
}