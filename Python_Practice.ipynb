{
  "nbformat": 4,
  "nbformat_minor": 0,
  "metadata": {
    "colab": {
      "name": "Python Practice.ipynb",
      "provenance": [],
      "collapsed_sections": [],
      "authorship_tag": "ABX9TyMvQ6IMLjnsOHNHqs7zEarm",
      "include_colab_link": true
    },
    "kernelspec": {
      "name": "python3",
      "display_name": "Python 3"
    },
    "language_info": {
      "name": "python"
    }
  },
  "cells": [
    {
      "cell_type": "markdown",
      "metadata": {
        "id": "view-in-github",
        "colab_type": "text"
      },
      "source": [
        "<a href=\"https://colab.research.google.com/github/Ramanmagar/Python-Practice/blob/main/Python_Practice.ipynb\" target=\"_parent\"><img src=\"https://colab.research.google.com/assets/colab-badge.svg\" alt=\"Open In Colab\"/></a>"
      ]
    },
    {
      "cell_type": "code",
      "source": [
        "#how to debug the program by using debug command\n",
        "python -m pdb python-script.py"
      ],
      "metadata": {
        "id": "5ltwL_NJcofQ"
      },
      "execution_count": null,
      "outputs": []
    },
    {
      "cell_type": "markdown",
      "source": [
        "##What are Identifiers ?\n",
        "\n",
        "A Python identifier is a name used to identify a variable, function, class, module or other object. An identifier starts with a letter A to Z or a to z or an underscore (_) followed by zero or more letters, underscores and digits\n",
        "(0 to 9).\n",
        "\n",
        "Python does not allow punctuation characters such as @, $, and % within identifiers.Python is a case sensitive programming language. Thus, Manpower and manpower are two different identifiers in Python.\n",
        "\n"
      ],
      "metadata": {
        "id": "BD8Qd9LfhgTG"
      }
    },
    {
      "cell_type": "code",
      "source": [
        "# Run this cell and see the answer in boolean way(True, False) and don't worry if you don't\n",
        "# Just keep in mind, there's a way to cross check the identifier.\n",
        "print(\"abc\".isidentifier())\n",
        "print(\"99a\".isidentifier())\n",
        "print(\"_\".isidentifier())\n",
        "print(\"for\".isidentifier()) # True - wrong output"
      ],
      "metadata": {
        "colab": {
          "base_uri": "https://localhost:8080/"
        },
        "id": "ElkFukEvh-ia",
        "outputId": "fa2d166a-8699-4aca-fd2c-1654a289fa6c"
      },
      "execution_count": null,
      "outputs": [
        {
          "output_type": "stream",
          "name": "stdout",
          "text": [
            "True\n",
            "False\n",
            "True\n",
            "True\n"
          ]
        }
      ]
    },
    {
      "cell_type": "code",
      "source": [
        "#convert List into string\n",
        "\n",
        "weekdays = ['sun','mon','tue','wed','thu','fri','sat']\n",
        "\n",
        "list_to_String = ' '.join(weekdays)\n",
        "print(list_to_String)"
      ],
      "metadata": {
        "colab": {
          "base_uri": "https://localhost:8080/"
        },
        "id": "LcgbC9CKIwo4",
        "outputId": "861a322b-90f4-4822-e79e-56e704495e69"
      },
      "execution_count": null,
      "outputs": [
        {
          "output_type": "stream",
          "name": "stdout",
          "text": [
            "sun mon tue wed thu fri sat\n"
          ]
        }
      ]
    },
    {
      "cell_type": "code",
      "source": [
        "#convert List into string\n",
        "names = ['ram','shyam','nitin','ajay','vijay','raj']\n",
        "list_to_string = ' '.join(names)\n",
        "print(weaks)\n",
        "print(list_to_string)"
      ],
      "metadata": {
        "colab": {
          "base_uri": "https://localhost:8080/"
        },
        "id": "g6EMMvkDJZ4h",
        "outputId": "a28c3d77-a2e2-4cd7-fc40-4848d1a98833"
      },
      "execution_count": null,
      "outputs": [
        {
          "output_type": "stream",
          "name": "stdout",
          "text": [
            "['ram', 'shyam', 'nitin', 'ajay', 'vijay', 'raj']\n",
            "ram shyam nitin ajay vijay raj\n"
          ]
        }
      ]
    },
    {
      "cell_type": "code",
      "source": [
        "#convert list into tuple\n",
        "\n",
        "weekdays = ['sun','mon','tue','wed','thu','fri','sat']\n",
        "list_to_Tuple = tuple(weekdays)\n",
        "print(list_to_Tuple)"
      ],
      "metadata": {
        "colab": {
          "base_uri": "https://localhost:8080/"
        },
        "id": "MBwWIybAJICg",
        "outputId": "be6db842-b7d5-46a9-f9b8-1ea1b2fee5d2"
      },
      "execution_count": null,
      "outputs": [
        {
          "output_type": "stream",
          "name": "stdout",
          "text": [
            "('sun', 'mon', 'tue', 'wed', 'thu', 'fri', 'sat')\n"
          ]
        }
      ]
    },
    {
      "cell_type": "code",
      "source": [
        "#convert list into set\n",
        "\n",
        "weekdays = ['sun','mon','tue','wed','thu','fri','sat']\n",
        "list_to_Tuple = set(weekdays)\n",
        "print(list_to_Tuple)"
      ],
      "metadata": {
        "colab": {
          "base_uri": "https://localhost:8080/"
        },
        "id": "loC04UcbLbt-",
        "outputId": "3f36cccb-ec03-440a-8ea7-8a0be2203bdb"
      },
      "execution_count": null,
      "outputs": [
        {
          "output_type": "stream",
          "name": "stdout",
          "text": [
            "{'sun', 'sat', 'thu', 'wed', 'tue', 'mon', 'fri'}\n"
          ]
        }
      ]
    },
    {
      "cell_type": "code",
      "source": [
        "weekdays = ['sun','mon','tue','wed','thu','fri','sat','mon','tue','wed','thu','fri','sat','tue']\n",
        "\n",
        "print(weekdays.count('tue'))"
      ],
      "metadata": {
        "colab": {
          "base_uri": "https://localhost:8080/"
        },
        "id": "pXzxXvt3L3Ud",
        "outputId": "4e65edf3-3537-4172-82b1-e8c93aa935de"
      },
      "execution_count": null,
      "outputs": [
        {
          "output_type": "stream",
          "name": "stdout",
          "text": [
            "3\n"
          ]
        }
      ]
    },
    {
      "cell_type": "code",
      "source": [
        "''' What is NumPy array?\n",
        "\n",
        "NumPy arrays are more flexible then lists in Python. By using NumPy arrays reading and writing items is faster and more efficient'''"
      ],
      "metadata": {
        "id": "Fn7jCN6RMUv4"
      },
      "execution_count": null,
      "outputs": []
    },
    {
      "cell_type": "code",
      "source": [
        "# What is local and global variable??\n",
        "\n",
        "# global variable and it is not function dependant\n",
        "x = \"awesome\" \n",
        "def myfunc():\n",
        "# Local variable because it is defined inside function and it has scope\n",
        " x = \"fantastic\"\n",
        " # here local variable gets priority when name of local and g\n",
        " print(\"CloudyML is \" + x) \n",
        "myfunc()\n",
        "print(\"CloudyML is \" + x)"
      ],
      "metadata": {
        "id": "JHiB_ejEe1YA",
        "colab": {
          "base_uri": "https://localhost:8080/"
        },
        "outputId": "155b1940-e241-4fca-9fac-947ee04ba726"
      },
      "execution_count": null,
      "outputs": [
        {
          "output_type": "stream",
          "name": "stdout",
          "text": [
            "CloudyML is fantastic\n",
            "CloudyML is awesome\n"
          ]
        }
      ]
    },
    {
      "cell_type": "code",
      "source": [
        "x = 'Awesome'\n",
        "def myfunc():\n",
        "  x = \"Fantastic\"\n",
        "  print(\"it is:\", x)\n",
        "myfunc()\n",
        "print(\"it is:\", x)"
      ],
      "metadata": {
        "colab": {
          "base_uri": "https://localhost:8080/"
        },
        "id": "1LaiU7uSWQsc",
        "outputId": "0d0acae9-9825-4f87-879f-9db4e55195c9"
      },
      "execution_count": null,
      "outputs": [
        {
          "output_type": "stream",
          "name": "stdout",
          "text": [
            "it is: Fantastic\n",
            "it is: Awesome\n"
          ]
        }
      ]
    },
    {
      "cell_type": "code",
      "source": [
        " ##What if you want to call global variable with same name as local inside a function??\n",
        "# Use global keyword\n",
        "x = \"awesome\" # global variable and it is not function dependant\n",
        "def myfunc():\n",
        "  global x\n",
        " x = \"fantastic\" # Local variable because it is defined inside function and it has scope\n",
        " print(\"CloudyML is \" + x) # here global variable gets priority because I used global k\n",
        "myfunc()\n",
        "print(\"CloudyML is \" + x)\n"
      ],
      "metadata": {
        "colab": {
          "base_uri": "https://localhost:8080/"
        },
        "id": "G23xYDbimFY7",
        "outputId": "8fdd021f-9768-4d52-be37-2297f94df928"
      },
      "execution_count": null,
      "outputs": [
        {
          "output_type": "stream",
          "name": "stdout",
          "text": [
            "CloudyML is fantastic\n",
            "CloudyML is fantastic\n"
          ]
        }
      ]
    },
    {
      "cell_type": "code",
      "source": [
        "x  = \"awesome\"\n",
        "def myfunc():\n",
        "  global x\n",
        "  x= 'fantastic'\n",
        "  print(\"it is \" + x)\n",
        "myfunc()\n",
        "print(\"it is \" +x)"
      ],
      "metadata": {
        "colab": {
          "base_uri": "https://localhost:8080/"
        },
        "id": "IkI_cKzrmFVV",
        "outputId": "e1dc2afc-7876-43a1-d8b1-5c84a0163a0a"
      },
      "execution_count": null,
      "outputs": [
        {
          "output_type": "stream",
          "name": "stdout",
          "text": [
            "it is fantastic\n",
            "it is fantastic\n"
          ]
        }
      ]
    },
    {
      "cell_type": "code",
      "source": [
        " #String formatting method\n",
        "# Method 1\n",
        "quantity = 5\n",
        "item_name = \"Mango\"\n",
        "price = 10\n",
        "\n",
        "# {} is called placeholder, so 3 placehold\n",
        "order = \"I want {} pieces of {} for {} dollars.\"\n",
        "print(order.format(quantity, item_name, price))\n",
        "# Method 2\n",
        "order = \"I want {0} pieces of {1} for {2} dollars.\" # here 0,1,2 tells the position of qu\n",
        "print(order.format(quantity, item_name, price))\n",
        "# Method 3\n",
        "print(f\"I want {quantity} pieces of {item_name} for {price} dollars.\") # Observe the f out\n",
        " # names passed in\n",
        "# Method 4\n",
        "print(\"I want %d pieces of %s for %.0f dollars.\"%(quantity, item_name, price)) "
      ],
      "metadata": {
        "colab": {
          "base_uri": "https://localhost:8080/"
        },
        "id": "Dy2Dgi6pmFRe",
        "outputId": "6de8149a-d61a-4b99-f8d9-f44b2c60e81b"
      },
      "execution_count": null,
      "outputs": [
        {
          "output_type": "stream",
          "name": "stdout",
          "text": [
            "I want 5 pieces of Mango for 10 dollars.\n",
            "I want 5 pieces of Mango for 10 dollars.\n",
            "I want 5 pieces of Mango for 10 dollars.\n",
            "I want 5 pieces of Mango for 10 dollars.\n"
          ]
        }
      ]
    },
    {
      "cell_type": "code",
      "source": [
        "#astring Formating method\n",
        "#How many times excute the statement\n",
        "quantity = 4\n",
        "fruit_name = 'Appple'\n",
        "Quantity = 15\n",
        "\n",
        "#method 1\n",
        "# {} is called placeholder, so 3 placehold\n",
        "order= \"I want {} pieces of {} for {} rs\"\n",
        "print(order.format(quantity, fruit_name, Quantity))\n",
        "\n",
        "#method 2\n",
        "order = \"I want {0} pieces of {1} for {2} rs\"\n",
        "print(order.format(quantity, fruit_name, Quantity))\n",
        "\n",
        "#method 3\n",
        "print(\"I want %d pieces of %s for %0.f rs\"%(quantity, fruit_name, Quantity))\n",
        "\n"
      ],
      "metadata": {
        "colab": {
          "base_uri": "https://localhost:8080/"
        },
        "id": "_gNy295vmFNT",
        "outputId": "b838ea3f-3210-4664-99ac-3936090c7fea"
      },
      "execution_count": null,
      "outputs": [
        {
          "output_type": "stream",
          "name": "stdout",
          "text": [
            "I want 4 pieces of Appple for 15 rs\n",
            "I want 4 pieces of Appple for 15 rs\n",
            "I want 4 pieces of Appple for 15 rs\n"
          ]
        }
      ]
    },
    {
      "cell_type": "code",
      "source": [
        "## For checking Odd Even program\n",
        "\n",
        "number = int(input('Enter the number: '))\n",
        "if (number % 2) == 0:\n",
        "  print(\"{0} is even\".format(number))\n",
        "else:\n",
        "  print(\"{0} is odd\".format(number))"
      ],
      "metadata": {
        "id": "E4zbAJ39mFF4",
        "colab": {
          "base_uri": "https://localhost:8080/"
        },
        "outputId": "a652ebf2-6a04-448b-a57d-365a0ffe57cb"
      },
      "execution_count": null,
      "outputs": [
        {
          "output_type": "stream",
          "name": "stdout",
          "text": [
            "Enter the number: 8585255551\n",
            "8585255551 is odd\n"
          ]
        }
      ]
    },
    {
      "cell_type": "code",
      "source": [
        "number = int(input(\"Enter the number\"))\n",
        "if (number % 2 ) ==0:\n",
        "  print(\"{0} is even:\".format(number))\n",
        "else:\n",
        "  print(\"{0} is odd:\".format(number))\n",
        "\n"
      ],
      "metadata": {
        "colab": {
          "base_uri": "https://localhost:8080/"
        },
        "id": "VJATl8YPXEmZ",
        "outputId": "765d987d-344b-45ff-b8ae-fd4580da1df4"
      },
      "execution_count": null,
      "outputs": [
        {
          "output_type": "stream",
          "name": "stdout",
          "text": [
            "Enter the number16\n",
            "16 is even:\n"
          ]
        }
      ]
    },
    {
      "cell_type": "code",
      "source": [
        ""
      ],
      "metadata": {
        "id": "ibRFMq1FmFDQ"
      },
      "execution_count": null,
      "outputs": []
    },
    {
      "cell_type": "code",
      "source": [
        "## Check leap year\n",
        "\n",
        "def Checkleap(Year):\n",
        "  if((Year % 400 ==0) or\n",
        "    (Year % 100 !=0) and\n",
        "    (Year % 4 == 0)):\n",
        "    print(\"The given year is Leap year\")\n",
        "  else:\n",
        "    print(\"The given year is not Leap year\")\n",
        "  \n",
        "\n",
        "Year = int(input(\"Enter the number \"))\n",
        "\n",
        "Checkleap(Year)"
      ],
      "metadata": {
        "id": "NyVKTHOlmE3V",
        "colab": {
          "base_uri": "https://localhost:8080/"
        },
        "outputId": "5b2df2a9-e2ca-4700-99db-57b4b267ae83"
      },
      "execution_count": null,
      "outputs": [
        {
          "output_type": "stream",
          "name": "stdout",
          "text": [
            "Enter the number 2019\n",
            "The given year is not Leap year\n"
          ]
        }
      ]
    },
    {
      "cell_type": "code",
      "source": [
        "## Check the given number is prime or not\n",
        "def PrimeChecker(a):\n",
        "  if a>1:\n",
        "    for j in range(2, int(a/2)+1):\n",
        "      if (a %j) ==0:\n",
        "        print(a, \"is not prime number\")\n",
        "        break\n",
        "\n",
        "    else:\n",
        "      print(a,\"is not prime number\")\n",
        "a = int(input(\"Enter the number: \"))\n",
        "PrimeChecker(a)"
      ],
      "metadata": {
        "id": "gGopno04mEyg",
        "colab": {
          "base_uri": "https://localhost:8080/"
        },
        "outputId": "65999cba-4c91-4edf-8c9e-65e0d18e9e9a"
      },
      "execution_count": null,
      "outputs": [
        {
          "output_type": "stream",
          "name": "stdout",
          "text": [
            "Enter the number: 15\n",
            "15 is not prime number\n"
          ]
        }
      ]
    },
    {
      "cell_type": "code",
      "source": [
        ""
      ],
      "metadata": {
        "id": "7LFCvuiwmEvo"
      },
      "execution_count": null,
      "outputs": []
    },
    {
      "cell_type": "code",
      "source": [
        "def PrimeChecker(a):\n",
        "  if a>1:\n",
        "    for j in range(2, int(a/2) +1):\n",
        "      if (a%j) ==0:\n",
        "        print(a, 'is not prime number')\n",
        "        break\n",
        "    else:\n",
        "      print(a,'is prime number')\n",
        "  else:\n",
        "    print(a,\"is not prime number\")\n",
        "a= int(input(\"Enter the number\"))\n",
        "PrimeChecker(a)"
      ],
      "metadata": {
        "id": "6kHHhUKKmEsW",
        "colab": {
          "base_uri": "https://localhost:8080/"
        },
        "outputId": "b1f9e0f7-b259-48e4-8ea0-9636af23a9d1"
      },
      "execution_count": null,
      "outputs": [
        {
          "output_type": "stream",
          "name": "stdout",
          "text": [
            "Enter the number7\n",
            "7 is prime number\n"
          ]
        }
      ]
    },
    {
      "cell_type": "code",
      "source": [
        "def PrimeChecker(a):\n",
        "  if a>1:\n",
        "    for j in range(2, int(a/2)+1):\n",
        "      if (a%j)==0:\n",
        "        print(a, 'is not prime number')\n",
        "        break\n",
        "    else:\n",
        "      print(a,\"is prime number\")\n",
        "  else:\n",
        "    print(a,\"is not prime number\")\n",
        "a= int(input(\"Enter the number: \"))\n",
        "PrimeChecker(a)"
      ],
      "metadata": {
        "colab": {
          "base_uri": "https://localhost:8080/"
        },
        "id": "vVtH-ajrJmwl",
        "outputId": "74957892-db44-497b-d3ed-cb043a8aaf7a"
      },
      "execution_count": null,
      "outputs": [
        {
          "output_type": "stream",
          "name": "stdout",
          "text": [
            "Enter the number: 7\n",
            "7 is prime number\n"
          ]
        }
      ]
    },
    {
      "cell_type": "code",
      "source": [
        "def Leapyear(year):\n",
        "  if((year == 400) or\n",
        "     (year != 100)and\n",
        "     (year == 4)):\n",
        "    print('This is not leap year')\n",
        "  else:\n",
        "    print(\"This is leap year\")\n",
        "year = int(input('Enther The Year: '))\n",
        "Leapyear(year)"
      ],
      "metadata": {
        "colab": {
          "base_uri": "https://localhost:8080/"
        },
        "id": "TDLxhwteVF8K",
        "outputId": "fcef8c8a-d746-4d0b-8a7d-31898eb6661d"
      },
      "execution_count": null,
      "outputs": [
        {
          "output_type": "stream",
          "name": "stdout",
          "text": [
            "Enther The Year: 2020\n",
            "This is leap year\n"
          ]
        }
      ]
    },
    {
      "cell_type": "code",
      "source": [
        "## How to convert list into string\n",
        "list = ['1','2','3','4']\n",
        "con_to_string = ' '.join(list)\n",
        "print(con_to_string)"
      ],
      "metadata": {
        "colab": {
          "base_uri": "https://localhost:8080/"
        },
        "id": "3loFR_QEWDLG",
        "outputId": "11f6a505-ca88-4991-f42f-8d1b00eb9502"
      },
      "execution_count": null,
      "outputs": [
        {
          "output_type": "stream",
          "name": "stdout",
          "text": [
            "1 2 3 4\n"
          ]
        }
      ]
    },
    {
      "cell_type": "code",
      "source": [
        "## How to convert list into tuple\n",
        "list = ['1','2','3','4']\n",
        "con_to_tuple = tuple(list)\n",
        "print(con_to_tuple)"
      ],
      "metadata": {
        "colab": {
          "base_uri": "https://localhost:8080/"
        },
        "id": "ZDJlUOMGXb8M",
        "outputId": "82f6e78c-e015-4171-caf4-a7dce29109ee"
      },
      "execution_count": null,
      "outputs": [
        {
          "output_type": "stream",
          "name": "stdout",
          "text": [
            "('1', '2', '3', '4')\n"
          ]
        }
      ]
    },
    {
      "cell_type": "code",
      "source": [
        "## How to convert list into set\n",
        "\n",
        "list = ['1','2','3','4']\n",
        "con_to_tuple = set(list)\n",
        "print(con_to_tuple)"
      ],
      "metadata": {
        "colab": {
          "base_uri": "https://localhost:8080/"
        },
        "id": "6G0gXneqZyR_",
        "outputId": "5fa55504-c861-4963-8218-dff8fb8ff64b"
      },
      "execution_count": null,
      "outputs": [
        {
          "output_type": "stream",
          "name": "stdout",
          "text": [
            "{'3', '4', '1', '2'}\n"
          ]
        }
      ]
    },
    {
      "cell_type": "code",
      "source": [
        "## How to count in a list \n",
        "\n",
        "list = ['1','2','2','3','4']\n",
        "count = list.count('2')\n",
        "print(count)"
      ],
      "metadata": {
        "colab": {
          "base_uri": "https://localhost:8080/"
        },
        "id": "C0eElYpkaV3o",
        "outputId": "1cf2120c-e2c0-47b3-a6f0-783b650109b3"
      },
      "execution_count": null,
      "outputs": [
        {
          "output_type": "stream",
          "name": "stdout",
          "text": [
            "2\n"
          ]
        }
      ]
    },
    {
      "cell_type": "code",
      "source": [
        "## How to count each entity in a list \n",
        "\n",
        "list = ['1','2','2','3','4']\n",
        "count = list.count('2')\n",
        "print([[x,list.count(x)] for x in set(list)])"
      ],
      "metadata": {
        "colab": {
          "base_uri": "https://localhost:8080/"
        },
        "id": "Xmnk1iSib6Dz",
        "outputId": "3d54459a-7b8e-480b-9f48-d0b0c276263c"
      },
      "execution_count": null,
      "outputs": [
        {
          "output_type": "stream",
          "name": "stdout",
          "text": [
            "[['3', 1], ['4', 1], ['1', 1], ['2', 2]]\n"
          ]
        }
      ]
    },
    {
      "cell_type": "code",
      "source": [
        "#another example\n",
        "list = [1,2,3,2,4,1,3,2,3,3]\n",
        "print([[x,list.count(x)] for x in set(list)])"
      ],
      "metadata": {
        "colab": {
          "base_uri": "https://localhost:8080/"
        },
        "id": "PjZHqI5Lc5DZ",
        "outputId": "db8b89bc-db54-4e5b-884e-a349a2e566d6"
      },
      "execution_count": null,
      "outputs": [
        {
          "output_type": "stream",
          "name": "stdout",
          "text": [
            "[[1, 2], [2, 3], [3, 4], [4, 1]]\n"
          ]
        }
      ]
    },
    {
      "cell_type": "code",
      "source": [
        "# How to create numpy array in python \n",
        "import numpy as np\n",
        "np.array([])"
      ],
      "metadata": {
        "colab": {
          "base_uri": "https://localhost:8080/"
        },
        "id": "kOd_bu3gdre1",
        "outputId": "8a93d371-5af4-4252-d9bc-663714cec3ea"
      },
      "execution_count": null,
      "outputs": [
        {
          "output_type": "execute_result",
          "data": {
            "text/plain": [
              "array([], dtype=float64)"
            ]
          },
          "metadata": {},
          "execution_count": 53
        }
      ]
    },
    {
      "cell_type": "code",
      "source": [
        "np.empty(shape=(3,2))"
      ],
      "metadata": {
        "colab": {
          "base_uri": "https://localhost:8080/"
        },
        "id": "SWxWU8LPekhV",
        "outputId": "6a82b6d7-0928-40c4-9f2b-9eb7bdb8c615"
      },
      "execution_count": null,
      "outputs": [
        {
          "output_type": "execute_result",
          "data": {
            "text/plain": [
              "array([[2.9918845e-316, 0.0000000e+000],\n",
              "       [0.0000000e+000, 0.0000000e+000],\n",
              "       [0.0000000e+000, 0.0000000e+000]])"
            ]
          },
          "metadata": {},
          "execution_count": 60
        }
      ]
    },
    {
      "cell_type": "code",
      "source": [
        "np.empty(shape=(5,4))"
      ],
      "metadata": {
        "colab": {
          "base_uri": "https://localhost:8080/"
        },
        "id": "WCd4ioODe34b",
        "outputId": "a23f000b-8788-4e16-b6df-79d4c82862b8"
      },
      "execution_count": null,
      "outputs": [
        {
          "output_type": "execute_result",
          "data": {
            "text/plain": [
              "array([[1.3623311e-316, 0.0000000e+000, 0.0000000e+000, 0.0000000e+000],\n",
              "       [0.0000000e+000, 0.0000000e+000, 0.0000000e+000, 0.0000000e+000],\n",
              "       [0.0000000e+000, 0.0000000e+000, 0.0000000e+000, 0.0000000e+000],\n",
              "       [0.0000000e+000, 0.0000000e+000, 0.0000000e+000, 0.0000000e+000],\n",
              "       [0.0000000e+000, 0.0000000e+000, 0.0000000e+000, 0.0000000e+000]])"
            ]
          },
          "metadata": {},
          "execution_count": 61
        }
      ]
    },
    {
      "cell_type": "code",
      "source": [
        "# Hoew to use enumrate function\n",
        "\n",
        "subject = ('Python', 'Interview', 'Questions')\n",
        "for i, subject in enumerate(subject):\n",
        "   print(i, subject)"
      ],
      "metadata": {
        "colab": {
          "base_uri": "https://localhost:8080/"
        },
        "id": "GGvbMpb2fNFw",
        "outputId": "4a5d6310-b531-4709-d655-b76c77b2a071"
      },
      "execution_count": null,
      "outputs": [
        {
          "output_type": "stream",
          "name": "stdout",
          "text": [
            "0 Python\n",
            "1 Interview\n",
            "2 Questions\n"
          ]
        }
      ]
    },
    {
      "cell_type": "code",
      "source": [
        "subjects = ('Python', 'Interview', 'Questions')\n",
        "for i, subject in enumerate(subjects):\n",
        "  print(i, subject)"
      ],
      "metadata": {
        "colab": {
          "base_uri": "https://localhost:8080/"
        },
        "id": "RpRNWAHP0tK-",
        "outputId": "a88ad8c9-061a-4f08-fd25-b7451d2a1b49"
      },
      "execution_count": null,
      "outputs": [
        {
          "output_type": "stream",
          "name": "stdout",
          "text": [
            "0 Python\n",
            "1 Interview\n",
            "2 Questions\n"
          ]
        }
      ]
    },
    {
      "cell_type": "code",
      "source": [
        "subject = ('Raman', 'Ashok', 'Magar')\n",
        "for i, subject in enumerate(subject):\n",
        "  print(i, subject)\n",
        "\n",
        "  "
      ],
      "metadata": {
        "colab": {
          "base_uri": "https://localhost:8080/"
        },
        "id": "75TfPBvg0tB_",
        "outputId": "a694767c-9fcf-4a77-a31c-b735a41f2ab9"
      },
      "execution_count": null,
      "outputs": [
        {
          "output_type": "stream",
          "name": "stdout",
          "text": [
            "0 Raman\n",
            "1 Ashok\n",
            "2 Magar\n"
          ]
        }
      ]
    },
    {
      "cell_type": "code",
      "source": [
        "# Concatenate Funnction\n",
        "print('Raman ' + 'Ashok ' + 'Magar')"
      ],
      "metadata": {
        "colab": {
          "base_uri": "https://localhost:8080/"
        },
        "id": "fZlQSgtDJxW5",
        "outputId": "a5d3a42e-3c26-42b4-8d17-86f7a58e0c48"
      },
      "execution_count": null,
      "outputs": [
        {
          "output_type": "stream",
          "name": "stdout",
          "text": [
            "Raman Ashok Magar\n"
          ]
        }
      ]
    },
    {
      "cell_type": "code",
      "source": [
        "## Set example \n",
        "items_list = {\"Raman\", \"ashok\", \"Magar\"}\n",
        "\n",
        "print(items_list)\n",
        "print(len(items_list))\n",
        "# how to use \"in\" Keyword\n",
        "if \"Raman\" in items_list:\n",
        "  print('Its first Nmae')\n",
        "\n",
        "# \"not in\"\n",
        "if \"Bopala\" not in items_list:\n",
        "  print(\"it's wrong\")"
      ],
      "metadata": {
        "colab": {
          "base_uri": "https://localhost:8080/"
        },
        "id": "t7IoXF_k0s_G",
        "outputId": "3f84b535-f53e-4407-8f5c-7fc0e9e4d639"
      },
      "execution_count": null,
      "outputs": [
        {
          "output_type": "stream",
          "name": "stdout",
          "text": [
            "{'ashok', 'Raman', 'Magar'}\n",
            "3\n",
            "Its first Nmae\n",
            "it's wrong\n"
          ]
        }
      ]
    },
    {
      "cell_type": "code",
      "source": [
        "## SET is immutable not change but add\n",
        "item = set()\n",
        "item.add('Boala')\n",
        "item.add('Pune')\n",
        "item.add('Latur')\n",
        "print(item)"
      ],
      "metadata": {
        "colab": {
          "base_uri": "https://localhost:8080/",
          "height": 234
        },
        "id": "oSl0-ahd0s8E",
        "outputId": "a10715d7-2575-4a4d-de2a-6b102f6d5168"
      },
      "execution_count": null,
      "outputs": [
        {
          "output_type": "error",
          "ename": "TypeError",
          "evalue": "ignored",
          "traceback": [
            "\u001b[0;31m---------------------------------------------------------------------------\u001b[0m",
            "\u001b[0;31mTypeError\u001b[0m                                 Traceback (most recent call last)",
            "\u001b[0;32m<ipython-input-105-60a9efd53cf3>\u001b[0m in \u001b[0;36m<module>\u001b[0;34m()\u001b[0m\n\u001b[1;32m      1\u001b[0m \u001b[0;31m## SET is immutable not change but add\u001b[0m\u001b[0;34m\u001b[0m\u001b[0;34m\u001b[0m\u001b[0;34m\u001b[0m\u001b[0m\n\u001b[0;32m----> 2\u001b[0;31m \u001b[0mitem\u001b[0m \u001b[0;34m=\u001b[0m \u001b[0mset\u001b[0m\u001b[0;34m(\u001b[0m\u001b[0;34m)\u001b[0m\u001b[0;34m\u001b[0m\u001b[0;34m\u001b[0m\u001b[0m\n\u001b[0m\u001b[1;32m      3\u001b[0m \u001b[0mitem\u001b[0m\u001b[0;34m.\u001b[0m\u001b[0madd\u001b[0m\u001b[0;34m(\u001b[0m\u001b[0;34m'Boala'\u001b[0m\u001b[0;34m)\u001b[0m\u001b[0;34m\u001b[0m\u001b[0;34m\u001b[0m\u001b[0m\n\u001b[1;32m      4\u001b[0m \u001b[0mitem\u001b[0m\u001b[0;34m.\u001b[0m\u001b[0madd\u001b[0m\u001b[0;34m(\u001b[0m\u001b[0;34m'Pune'\u001b[0m\u001b[0;34m)\u001b[0m\u001b[0;34m\u001b[0m\u001b[0;34m\u001b[0m\u001b[0m\n\u001b[1;32m      5\u001b[0m \u001b[0mitem\u001b[0m\u001b[0;34m.\u001b[0m\u001b[0madd\u001b[0m\u001b[0;34m(\u001b[0m\u001b[0;34m'Latur'\u001b[0m\u001b[0;34m)\u001b[0m\u001b[0;34m\u001b[0m\u001b[0;34m\u001b[0m\u001b[0m\n",
            "\u001b[0;31mTypeError\u001b[0m: 'dict' object is not callable"
          ]
        }
      ]
    },
    {
      "cell_type": "code",
      "source": [
        "## Sum of the 1 to 10\n",
        "sum(range(1,11))"
      ],
      "metadata": {
        "colab": {
          "base_uri": "https://localhost:8080/"
        },
        "id": "_Qxj1XjW0sqS",
        "outputId": "898e0235-00a0-43d7-c258-9a823f1cefad"
      },
      "execution_count": null,
      "outputs": [
        {
          "output_type": "execute_result",
          "data": {
            "text/plain": [
              "55"
            ]
          },
          "metadata": {},
          "execution_count": 118
        }
      ]
    },
    {
      "cell_type": "code",
      "source": [
        "sum(range(1,101))"
      ],
      "metadata": {
        "colab": {
          "base_uri": "https://localhost:8080/"
        },
        "id": "i6SoGYBO0sjU",
        "outputId": "a3912899-ac01-45d4-ea34-302e6939a3a0"
      },
      "execution_count": null,
      "outputs": [
        {
          "output_type": "execute_result",
          "data": {
            "text/plain": [
              "5050"
            ]
          },
          "metadata": {},
          "execution_count": 8
        }
      ]
    },
    {
      "cell_type": "code",
      "source": [
        "## Another Way \n",
        "def GetSum(n):\n",
        "  sum = 0\n",
        "  for digit in str(n):\n",
        "    sum += int(digit)\n",
        "  return sum\n",
        "\n",
        "n = int(input(\"Enter the number\"))\n",
        "GetSum(n)\n"
      ],
      "metadata": {
        "colab": {
          "base_uri": "https://localhost:8080/"
        },
        "id": "6hoE7GAk0sgd",
        "outputId": "d9216462-bb02-4336-c041-2da0184723d4"
      },
      "execution_count": null,
      "outputs": [
        {
          "name": "stdout",
          "output_type": "stream",
          "text": [
            "Enter the number12345\n"
          ]
        },
        {
          "output_type": "execute_result",
          "data": {
            "text/plain": [
              "15"
            ]
          },
          "metadata": {},
          "execution_count": 123
        }
      ]
    },
    {
      "cell_type": "code",
      "source": [
        "list(\"hello\")\n",
        "print(list)"
      ],
      "metadata": {
        "colab": {
          "base_uri": "https://localhost:8080/",
          "height": 182
        },
        "id": "aaJUZVZs0sd1",
        "outputId": "46be0197-8846-43a1-8b5b-31d80a94f109"
      },
      "execution_count": null,
      "outputs": [
        {
          "output_type": "error",
          "ename": "TypeError",
          "evalue": "ignored",
          "traceback": [
            "\u001b[0;31m---------------------------------------------------------------------------\u001b[0m",
            "\u001b[0;31mTypeError\u001b[0m                                 Traceback (most recent call last)",
            "\u001b[0;32m<ipython-input-125-427c8482d661>\u001b[0m in \u001b[0;36m<module>\u001b[0;34m()\u001b[0m\n\u001b[0;32m----> 1\u001b[0;31m \u001b[0mlist\u001b[0m\u001b[0;34m(\u001b[0m\u001b[0;34m\"hello\"\u001b[0m\u001b[0;34m)\u001b[0m\u001b[0;34m\u001b[0m\u001b[0;34m\u001b[0m\u001b[0m\n\u001b[0m\u001b[1;32m      2\u001b[0m \u001b[0mprint\u001b[0m\u001b[0;34m(\u001b[0m\u001b[0mlist\u001b[0m\u001b[0;34m)\u001b[0m\u001b[0;34m\u001b[0m\u001b[0;34m\u001b[0m\u001b[0m\n",
            "\u001b[0;31mTypeError\u001b[0m: 'list' object is not callable"
          ]
        }
      ]
    },
    {
      "cell_type": "code",
      "source": [
        "x = lambda a:a*5\n",
        "print(x(5))"
      ],
      "metadata": {
        "id": "14JU4npdOXMu",
        "colab": {
          "base_uri": "https://localhost:8080/"
        },
        "outputId": "ff453529-034a-4f4a-a367-6cae8e747d73"
      },
      "execution_count": null,
      "outputs": [
        {
          "output_type": "stream",
          "name": "stdout",
          "text": [
            "25\n"
          ]
        }
      ]
    },
    {
      "cell_type": "code",
      "source": [
        "fruits = [\"apple\", \"banana\", \"cherry\", \"kiwi\", \"mango\"]\n",
        "\n",
        "newlist = [x for x in fruits if \"a\" in x]\n",
        "\n",
        "print(newlist)"
      ],
      "metadata": {
        "id": "pfrbsyG0a7-k"
      },
      "execution_count": null,
      "outputs": []
    },
    {
      "cell_type": "code",
      "source": [
        "name_list = (\"Raman\", \"Ashok\", \"Magar\")\n",
        "fruits = [\"apple\", \"banana\", \"cherry\", \"kiwi\", \"mango\"]\n",
        "newlist = []\n",
        "\n",
        "for x in fruits:\n",
        "  if \"a\" in x:\n",
        "    newlist.append(x)\n",
        "\n",
        "print(newlist)"
      ],
      "metadata": {
        "id": "UAarCyOPdRqB"
      },
      "execution_count": null,
      "outputs": []
    },
    {
      "cell_type": "code",
      "source": [
        "name_list = (\"Raman\", \"Ashok\", \"Magar\")\n",
        "new_list = []\n",
        "for x in name_list:\n",
        "  if \"a\" in x:\n",
        "    new_list.append(x)\n",
        "print(new_list)"
      ],
      "metadata": {
        "colab": {
          "base_uri": "https://localhost:8080/"
        },
        "id": "IHgtOu7ddhRk",
        "outputId": "cec24b59-97cb-482b-85ce-fcb1d0be9da9"
      },
      "execution_count": null,
      "outputs": [
        {
          "output_type": "stream",
          "name": "stdout",
          "text": [
            "['Raman', 'Magar']\n"
          ]
        }
      ]
    },
    {
      "cell_type": "code",
      "source": [
        "name = [\" abc\", 'def']\n",
        "new = []\n",
        "for x in name:\n",
        "  if \"d\" in x:\n",
        "    new.append(x)\n",
        "print(new)\n"
      ],
      "metadata": {
        "colab": {
          "base_uri": "https://localhost:8080/"
        },
        "id": "KGuCtkXxeJMx",
        "outputId": "a7cc1e30-3a9c-48d6-f4d0-dcf6706158d9"
      },
      "execution_count": null,
      "outputs": [
        {
          "output_type": "stream",
          "name": "stdout",
          "text": [
            "['def']\n"
          ]
        }
      ]
    },
    {
      "cell_type": "code",
      "source": [
        "import array as arr\n",
        "user_list = [\"abs\", 2, 1.2]\n",
        "user_array = arr.array('i',[1,2,3])\n",
        "print(user_list)\n",
        "print(user_array)"
      ],
      "metadata": {
        "colab": {
          "base_uri": "https://localhost:8080/"
        },
        "id": "Sm12iHdNe1_R",
        "outputId": "efad5945-14df-4376-aea8-c7b2d11f8714"
      },
      "execution_count": null,
      "outputs": [
        {
          "output_type": "stream",
          "name": "stdout",
          "text": [
            "['abs', 2, 1.2]\n",
            "array('i', [1, 2, 3])\n"
          ]
        }
      ]
    },
    {
      "cell_type": "code",
      "source": [
        ""
      ],
      "metadata": {
        "id": "ZWYpjTGYicfK"
      },
      "execution_count": null,
      "outputs": []
    }
  ]
}