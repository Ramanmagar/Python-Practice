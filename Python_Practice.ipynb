{
  "nbformat": 4,
  "nbformat_minor": 0,
  "metadata": {
    "colab": {
      "name": "Python Practice.ipynb",
      "provenance": [],
      "collapsed_sections": [],
      "include_colab_link": true
    },
    "kernelspec": {
      "name": "python3",
      "display_name": "Python 3"
    },
    "language_info": {
      "name": "python"
    }
  },
  "cells": [
    {
      "cell_type": "markdown",
      "metadata": {
        "id": "view-in-github",
        "colab_type": "text"
      },
      "source": [
        "<a href=\"https://colab.research.google.com/github/Ramanmagar/Python-Practice/blob/main/Python_Practice.ipynb\" target=\"_parent\"><img src=\"https://colab.research.google.com/assets/colab-badge.svg\" alt=\"Open In Colab\"/></a>"
      ]
    },
    {
      "cell_type": "code",
      "source": [
        "## Swapcase Function\n",
        "string_1 = \"       is id 2 an no of string\"\n",
        "print(string_1.swapcase())\n",
        "\n",
        "print(string_1.strip())\n",
        "\n",
        "print(string_1.lstrip())"
      ],
      "metadata": {
        "colab": {
          "base_uri": "https://localhost:8080/"
        },
        "id": "bVc5sMgqPxdJ",
        "outputId": "2236ec44-65ad-485a-899d-f4345b716b37"
      },
      "execution_count": null,
      "outputs": [
        {
          "output_type": "stream",
          "name": "stdout",
          "text": [
            "       IS ID 2 AN NO OF STRING\n",
            "is id 2 an no of string\n",
            "is id 2 an no of string\n"
          ]
        }
      ]
    },
    {
      "cell_type": "code",
      "source": [
        "## Enumerate Fun\n",
        "\n",
        "subject_2 = ('Python', 'Interview', 'Questions')\n",
        "for i, subject_2 in enumerate(subject_2):\n",
        "  print(i, subject_2)"
      ],
      "metadata": {
        "colab": {
          "base_uri": "https://localhost:8080/"
        },
        "id": "bsuD1fqKR054",
        "outputId": "819feea8-53c5-46c6-943b-3c91f2be5687"
      },
      "execution_count": null,
      "outputs": [
        {
          "output_type": "stream",
          "name": "stdout",
          "text": [
            "0 Python\n",
            "1 Interview\n",
            "2 Questions\n"
          ]
        }
      ]
    },
    {
      "cell_type": "code",
      "source": [
        "## Identifier\n",
        "\n",
        "# Run this cell and see the answer in boolean way(True, False) and don't worry if you don't\n",
        "# Just keep in mind, there's a way to cross check the identifier.\n",
        "print(\"abc\".isidentifier())\n",
        "print(\"99a\".isidentifier())\n",
        "print(\"_\".isidentifier())\n",
        "print(\"for\".isidentifier()) # True - wrong output"
      ],
      "metadata": {
        "colab": {
          "base_uri": "https://localhost:8080/"
        },
        "id": "ElkFukEvh-ia",
        "outputId": "db1d9eac-7a90-4aec-c8ba-656f7cef1680"
      },
      "execution_count": null,
      "outputs": [
        {
          "output_type": "stream",
          "name": "stdout",
          "text": [
            "True\n",
            "False\n",
            "True\n",
            "True\n"
          ]
        }
      ]
    },
    {
      "cell_type": "code",
      "source": [
        "#convert List into string\n",
        "\n",
        "weekdays = ['sun','mon','tue','wed','thu','fri','sat']\n",
        "\n",
        "list_to_String = ' '.join(weekdays)\n",
        "print(list_to_String)"
      ],
      "metadata": {
        "colab": {
          "base_uri": "https://localhost:8080/"
        },
        "id": "LcgbC9CKIwo4",
        "outputId": "ade7d075-66a9-44de-e0cb-0864cd0e1503"
      },
      "execution_count": null,
      "outputs": [
        {
          "output_type": "stream",
          "name": "stdout",
          "text": [
            "sun mon tue wed thu fri sat\n"
          ]
        }
      ]
    },
    {
      "cell_type": "code",
      "source": [
        "#convert List into string\n",
        "names = ['ram','shyam','nitin','ajay','vijay','raj']\n",
        "list_to_string = ' '.join(names)\n",
        "print(weaks)\n",
        "print(list_to_string)"
      ],
      "metadata": {
        "colab": {
          "base_uri": "https://localhost:8080/",
          "height": 217
        },
        "id": "g6EMMvkDJZ4h",
        "outputId": "68bd2fff-6f2a-424b-c566-fac49c99b714"
      },
      "execution_count": null,
      "outputs": [
        {
          "output_type": "error",
          "ename": "NameError",
          "evalue": "ignored",
          "traceback": [
            "\u001b[0;31m---------------------------------------------------------------------------\u001b[0m",
            "\u001b[0;31mNameError\u001b[0m                                 Traceback (most recent call last)",
            "\u001b[0;32m<ipython-input-6-cafb47f8a2d3>\u001b[0m in \u001b[0;36m<module>\u001b[0;34m()\u001b[0m\n\u001b[1;32m      2\u001b[0m \u001b[0mnames\u001b[0m \u001b[0;34m=\u001b[0m \u001b[0;34m[\u001b[0m\u001b[0;34m'ram'\u001b[0m\u001b[0;34m,\u001b[0m\u001b[0;34m'shyam'\u001b[0m\u001b[0;34m,\u001b[0m\u001b[0;34m'nitin'\u001b[0m\u001b[0;34m,\u001b[0m\u001b[0;34m'ajay'\u001b[0m\u001b[0;34m,\u001b[0m\u001b[0;34m'vijay'\u001b[0m\u001b[0;34m,\u001b[0m\u001b[0;34m'raj'\u001b[0m\u001b[0;34m]\u001b[0m\u001b[0;34m\u001b[0m\u001b[0;34m\u001b[0m\u001b[0m\n\u001b[1;32m      3\u001b[0m \u001b[0mlist_to_string\u001b[0m \u001b[0;34m=\u001b[0m \u001b[0;34m' '\u001b[0m\u001b[0;34m.\u001b[0m\u001b[0mjoin\u001b[0m\u001b[0;34m(\u001b[0m\u001b[0mnames\u001b[0m\u001b[0;34m)\u001b[0m\u001b[0;34m\u001b[0m\u001b[0;34m\u001b[0m\u001b[0m\n\u001b[0;32m----> 4\u001b[0;31m \u001b[0mprint\u001b[0m\u001b[0;34m(\u001b[0m\u001b[0mweaks\u001b[0m\u001b[0;34m)\u001b[0m\u001b[0;34m\u001b[0m\u001b[0;34m\u001b[0m\u001b[0m\n\u001b[0m\u001b[1;32m      5\u001b[0m \u001b[0mprint\u001b[0m\u001b[0;34m(\u001b[0m\u001b[0mlist_to_string\u001b[0m\u001b[0;34m)\u001b[0m\u001b[0;34m\u001b[0m\u001b[0;34m\u001b[0m\u001b[0m\n",
            "\u001b[0;31mNameError\u001b[0m: name 'weaks' is not defined"
          ]
        }
      ]
    },
    {
      "cell_type": "code",
      "source": [
        "#convert list into tuple\n",
        "\n",
        "weekdays = ['sun','mon','tue','wed','thu','fri','sat']\n",
        "list_to_Tuple = tuple(weekdays)\n",
        "print(list_to_Tuple)"
      ],
      "metadata": {
        "id": "MBwWIybAJICg"
      },
      "execution_count": null,
      "outputs": []
    },
    {
      "cell_type": "code",
      "source": [
        "#convert list into set\n",
        "\n",
        "weekdays = ['sun','mon','tue','wed','thu','fri','sat']\n",
        "list_to_Tuple = set(weekdays)\n",
        "print(list_to_Tuple)"
      ],
      "metadata": {
        "id": "loC04UcbLbt-"
      },
      "execution_count": null,
      "outputs": []
    },
    {
      "cell_type": "code",
      "source": [
        "# count the repeated words\n",
        "weekdays = ['sun','mon','tue','wed','thu','fri','sat','mon','tue','wed','thu','fri','sat','tue']\n",
        "\n",
        "print(weekdays.count('tue'))"
      ],
      "metadata": {
        "id": "pXzxXvt3L3Ud"
      },
      "execution_count": null,
      "outputs": []
    },
    {
      "cell_type": "code",
      "source": [
        "''' What is NumPy array?\n",
        "\n",
        "NumPy arrays are more flexible then lists in Python. By using NumPy arrays reading and writing items is faster and more efficient'''"
      ],
      "metadata": {
        "id": "Fn7jCN6RMUv4"
      },
      "execution_count": null,
      "outputs": []
    },
    {
      "cell_type": "code",
      "source": [
        "# What is local and global variable??\n",
        "\n",
        "# global variable and it is not function dependant\n",
        "x = \"awesome\"\n",
        "def myfunc():\n",
        "# Local variable because it is defined inside function and it has scope\n",
        " x = \"fantastic\"\n",
        " # here local variable gets priority when name of local and g\n",
        " print(x) \n",
        "myfunc()\n",
        "print(x)"
      ],
      "metadata": {
        "id": "JHiB_ejEe1YA"
      },
      "execution_count": null,
      "outputs": []
    },
    {
      "cell_type": "code",
      "source": [
        "## Global variable and local variable\n",
        "\n",
        "x = 'Awesome'\n",
        "def myfunc():\n",
        "  x = \"Fantastic\"\n",
        "  print(\"it is:\", x)\n",
        "myfunc()\n",
        "print(\"it is:\", x)"
      ],
      "metadata": {
        "id": "1LaiU7uSWQsc"
      },
      "execution_count": null,
      "outputs": []
    },
    {
      "cell_type": "code",
      "source": [
        " #String formatting method\n",
        "\n",
        "\n",
        "# Method 1\n",
        "quantity = 5\n",
        "item_name = \"Mango\"\n",
        "price = 10\n",
        "\n",
        "# {} is called placeholder, so 3 placehold\n",
        "order = \"I want {} pieces of {} for {} dollars.\"\n",
        "print(order.format(quantity, item_name, price))\n",
        "\n",
        "# Method 2\n",
        "order = \"I want {0} pieces of {1} for {2} dollars.\" # here 0,1,2 tells the position of qu\n",
        "print(order.format(quantity, item_name, price))\n",
        "\n",
        "# Method 3\n",
        "print(f\"I want {quantity} pieces of {item_name} for {price} dollars.\") # Observe the f out\n",
        " # names passed in\n",
        "# Method 4\n",
        "\n",
        "\n",
        "print(\"I want %d pieces of %s for %.0f dollars.\"%(quantity, item_name, price)) "
      ],
      "metadata": {
        "id": "Dy2Dgi6pmFRe"
      },
      "execution_count": null,
      "outputs": []
    },
    {
      "cell_type": "code",
      "source": [
        "name = 'Raman'\n",
        "surname = \"Magar\"\n",
        "print(\"my name is\", name,\"and surname is\", surname)\n",
        "order = \"My name is {0} and Surname is {1}\"\n",
        "print(order.format(name,surname))\n",
        "print(f\"My Name is {name} and surname is {surname}\")"
      ],
      "metadata": {
        "id": "ZG0SnzTpp7W_"
      },
      "execution_count": null,
      "outputs": []
    },
    {
      "cell_type": "code",
      "source": [
        "## For checking Odd Even program\n",
        "\n",
        "number = int(input('Enter the number: '))\n",
        "if (number % 2) == 0:\n",
        "  print(\"{0} is even\".format(number))\n",
        "else:\n",
        "  print(\"{0} is odd\".format(number))"
      ],
      "metadata": {
        "id": "E4zbAJ39mFF4"
      },
      "execution_count": null,
      "outputs": []
    },
    {
      "cell_type": "code",
      "source": [
        "## Leaf Checker program\n",
        "def LeafChecker():\n",
        "  if((year % 400 ==0) or\n",
        "   (year % 100 !=0) and\n",
        "   (year % 4 ==0)):\n",
        "    print(\"given year is Leap year\")\n",
        "  else:\n",
        "    print(\"given  year is not Leap year\")\n",
        "\n",
        "\n",
        "year = int(input(\"Enter the Number\"))\n",
        "LeafChecker()"
      ],
      "metadata": {
        "id": "dFg4bbGrIGg7"
      },
      "execution_count": null,
      "outputs": []
    },
    {
      "cell_type": "code",
      "source": [
        "def PrimeChecker(a):\n",
        "  if a>1:\n",
        "    for j in range(2, int(a/2)+1):\n",
        "      if a%j ==0:\n",
        "        print('Given number is not prime number.')\n",
        "        break\n",
        "    else:\n",
        "      print('Given number is prime number.')\n",
        "  else:\n",
        "  \n",
        "    print(\"Given number is not prime number.\")\n",
        "a = int(input(\"Enter the number: \"))\n",
        "PrimeChecker(a)"
      ],
      "metadata": {
        "id": "7LFCvuiwmEvo"
      },
      "execution_count": null,
      "outputs": []
    },
    {
      "cell_type": "code",
      "source": [
        "def PrimeChecker(a):\n",
        "  if a>1:\n",
        "    for j in range(2, int(a/2) +1):\n",
        "      if (a%j) ==0:\n",
        "        print(a, 'is not prime number')\n",
        "        break\n",
        "    else:\n",
        "      print(a,'is prime number')\n",
        "  else:\n",
        "    print(a,\"is not prime number\")\n",
        "a= int(input(\"Enter the number\"))\n",
        "PrimeChecker(a)"
      ],
      "metadata": {
        "id": "6kHHhUKKmEsW"
      },
      "execution_count": null,
      "outputs": []
    },
    {
      "cell_type": "code",
      "source": [
        "## How to convert list into string\n",
        "list = ['1','2','3','4']\n",
        "con_to_string = ' '.join(list)\n",
        "print(con_to_string)"
      ],
      "metadata": {
        "id": "3loFR_QEWDLG"
      },
      "execution_count": null,
      "outputs": []
    },
    {
      "cell_type": "code",
      "source": [
        "## How to convert list into tuple\n",
        "list = ['1','2','3','4']\n",
        "con_to_tuple = tuple(list)\n",
        "print(con_to_tuple)"
      ],
      "metadata": {
        "id": "ZDJlUOMGXb8M"
      },
      "execution_count": null,
      "outputs": []
    },
    {
      "cell_type": "code",
      "source": [
        "## How to convert list into set\n",
        "\n",
        "list = ['1','2','3','4']\n",
        "con_to_tuple = set(list)\n",
        "print(con_to_tuple)"
      ],
      "metadata": {
        "id": "6G0gXneqZyR_"
      },
      "execution_count": null,
      "outputs": []
    },
    {
      "cell_type": "code",
      "source": [
        "## How to count in a list \n",
        "\n",
        "list = ['1','2','2','2','4']\n",
        "count = list.count('2')\n",
        "print(count)"
      ],
      "metadata": {
        "id": "C0eElYpkaV3o"
      },
      "execution_count": null,
      "outputs": []
    },
    {
      "cell_type": "code",
      "source": [
        "## How to count each entity in a list \n",
        "\n",
        "list = ['1','2','2','3','4']\n",
        "#count = list.count('1')\n",
        "print([[x,list.count(x)] for x in set(list)])"
      ],
      "metadata": {
        "id": "Xmnk1iSib6Dz"
      },
      "execution_count": null,
      "outputs": []
    },
    {
      "cell_type": "code",
      "source": [
        "list1 = [1, 2, 3, 2, 5, 5, 3, 5,]\n",
        "print([[x,list1.count(x)] for x in set(list1)])"
      ],
      "metadata": {
        "id": "nQ9RmW-eQ_NC"
      },
      "execution_count": null,
      "outputs": []
    },
    {
      "cell_type": "code",
      "source": [
        "print([[x, list1.count(x)] for x in set(list1)])"
      ],
      "metadata": {
        "id": "8S0_XnNuR8k0"
      },
      "execution_count": null,
      "outputs": []
    },
    {
      "cell_type": "code",
      "source": [
        "#another example\n",
        "list = [1,2,3,2,4,1,3,2,3,3]\n",
        "print([[x,list.count(x)] for x in set(list)])"
      ],
      "metadata": {
        "id": "PjZHqI5Lc5DZ"
      },
      "execution_count": null,
      "outputs": []
    },
    {
      "cell_type": "code",
      "source": [
        "# How to create numpy array in python \n",
        "import numpy as np\n",
        "np.array([])\n",
        "np.array([])"
      ],
      "metadata": {
        "id": "kOd_bu3gdre1"
      },
      "execution_count": null,
      "outputs": []
    },
    {
      "cell_type": "code",
      "source": [
        "np.empty(shape=(3,4))"
      ],
      "metadata": {
        "id": "iDXkovmsSWG6"
      },
      "execution_count": null,
      "outputs": []
    },
    {
      "cell_type": "code",
      "source": [
        "np.empty(shape=(3,2))"
      ],
      "metadata": {
        "id": "SWxWU8LPekhV"
      },
      "execution_count": null,
      "outputs": []
    },
    {
      "cell_type": "code",
      "source": [
        "## Set example \n",
        "items_list = {\"Raman\", \"Ashok\", \"Magar\"}\n",
        "\n",
        "print(items_list)\n",
        "print(len(items_list))\n",
        "# how to use \"in\" Keyword\n",
        "if \"Raman\" in items_list:\n",
        "  print('Its first Nmae')\n",
        "\n",
        "# \"not in\"\n",
        "if \"Bopala\" not in items_list:\n",
        "  print(\"it's wrong\")"
      ],
      "metadata": {
        "id": "t7IoXF_k0s_G"
      },
      "execution_count": null,
      "outputs": []
    },
    {
      "cell_type": "code",
      "source": [
        "## SET is immutable not change but add\n",
        "item = set()\n",
        "item.add('Bopala')\n",
        "item.add('Pune')\n",
        "item.add('Latur')\n",
        "print(item)"
      ],
      "metadata": {
        "id": "oSl0-ahd0s8E"
      },
      "execution_count": null,
      "outputs": []
    },
    {
      "cell_type": "code",
      "source": [
        "## Sum of the 1 to 10\n",
        "sum(range(1,11))"
      ],
      "metadata": {
        "id": "_Qxj1XjW0sqS"
      },
      "execution_count": null,
      "outputs": []
    },
    {
      "cell_type": "code",
      "source": [
        "sum(range(1,101))"
      ],
      "metadata": {
        "id": "i6SoGYBO0sjU"
      },
      "execution_count": null,
      "outputs": []
    },
    {
      "cell_type": "code",
      "source": [
        "list_1 = [1,2,3,4,5]\n",
        "list = []\n",
        "def GetSum(list_1):\n",
        "  sum = 0\n",
        "  for digit in str(list_1):\n",
        "    sum += int(digit)\n",
        "  return sum\n",
        "n = int(input(\"Enter the input \"))\n",
        "GetSum(n)\n"
      ],
      "metadata": {
        "id": "zaqHLcdSUiLH"
      },
      "execution_count": null,
      "outputs": []
    },
    {
      "cell_type": "code",
      "source": [
        "x = lambda a:a*5\n",
        "print(x(5))"
      ],
      "metadata": {
        "id": "14JU4npdOXMu"
      },
      "execution_count": null,
      "outputs": []
    },
    {
      "cell_type": "code",
      "source": [
        "# list Comphrension\n",
        "fruits = [\"apple\", \"banana\", \"cherry\", \"kiwi\", \"mango\"]\n",
        "\n",
        "newlist = [x for x in fruits if \"a\" in x]\n",
        "\n",
        "print(newlist)"
      ],
      "metadata": {
        "id": "pfrbsyG0a7-k"
      },
      "execution_count": null,
      "outputs": []
    },
    {
      "cell_type": "code",
      "source": [
        "fruits = [\"apple\", \"banana\", \"cherry\", \"kiwi\", \"mango\"]\n",
        "new_list = [x for x in fruits if \"r\" in x]\n",
        "print(new_list)"
      ],
      "metadata": {
        "id": "EJ-JTe2yXDLH"
      },
      "execution_count": null,
      "outputs": []
    },
    {
      "cell_type": "code",
      "source": [
        "fruits = [\"apple\", \"banana\", \"cherry\", \"kiwi\", \"mango\"]\n",
        "newlist = []\n",
        "\n",
        "for x in fruits:\n",
        "  if \"a\" in x:\n",
        "    newlist.append(x)\n",
        "\n",
        "print(newlist)"
      ],
      "metadata": {
        "id": "UAarCyOPdRqB"
      },
      "execution_count": null,
      "outputs": []
    },
    {
      "cell_type": "code",
      "source": [
        "name = [\" abc\", 'def']\n",
        "new = []\n",
        "for x in name:\n",
        "  if 'bc' in x:\n",
        "    new.append(x)\n",
        "print(new)\n"
      ],
      "metadata": {
        "id": "KGuCtkXxeJMx"
      },
      "execution_count": null,
      "outputs": []
    },
    {
      "cell_type": "code",
      "source": [
        "## Indexing\n",
        "list = [[\"ajay\", 'vijay'], 'sujay', 'nijay']\n",
        "print(len(list))\n",
        "print(list[1][2])"
      ],
      "metadata": {
        "id": "ZWYpjTGYicfK"
      },
      "execution_count": null,
      "outputs": []
    },
    {
      "cell_type": "code",
      "source": [
        "#Slicing\n",
        "list = [\"ajay\", 'vijay', 'sujay', 'nijay']\n",
        "print(list[0:4:3])"
      ],
      "metadata": {
        "id": "P1jLk6AWz_ah"
      },
      "execution_count": null,
      "outputs": []
    },
    {
      "cell_type": "code",
      "source": [
        "import numpy as np"
      ],
      "metadata": {
        "id": "1p2mBs0J0zLw"
      },
      "execution_count": null,
      "outputs": []
    },
    {
      "cell_type": "code",
      "source": [
        "npy = np.arange=(1,5)"
      ],
      "metadata": {
        "id": "MlcekBBU13do"
      },
      "execution_count": null,
      "outputs": []
    },
    {
      "cell_type": "code",
      "source": [
        "print(npy)"
      ],
      "metadata": {
        "id": "OTGNkXYr199Y"
      },
      "execution_count": null,
      "outputs": []
    },
    {
      "cell_type": "code",
      "source": [
        " ##sum of the digits of a number in Python\n",
        "\n",
        "n=int(input(\"Enter a number:\"))\n",
        "total = 0\n",
        "\n",
        "while(n>0):\n",
        "  digit = n%10\n",
        "  total = total + digit\n",
        "  n = n//10\n",
        "print(\"The total sum of digits is:\",total)\n"
      ],
      "metadata": {
        "id": "Em1rsGkBNINf"
      },
      "execution_count": null,
      "outputs": []
    },
    {
      "cell_type": "code",
      "source": [
        "### Checking the palindrome\n",
        "\n",
        "n= int(input(\"Enter the number: \"))\n",
        "\n",
        "templete = n\n",
        "reverse = 0\n",
        "\n",
        "while(n>0):\n",
        "  digit = n%10\n",
        "  reverse = reverse*10 + digit\n",
        "  n = n//10\n",
        "\n",
        "if (templete == reverse):\n",
        "    print(\"given number is palendrome\")\n",
        "\n",
        "else:\n",
        "    print(\"given no is not palendrome \")\n",
        "    "
      ],
      "metadata": {
        "id": "l9XETpjRV2W7"
      },
      "execution_count": null,
      "outputs": []
    },
    {
      "cell_type": "code",
      "source": [
        "#Count the Number of Digits in a Number\n",
        "\n",
        "n= int(input(\"Enter the number: \"))\n",
        "count = 0\n",
        "while(n>0):\n",
        "  count = count+1\n",
        "  n= n//10\n",
        "print(\"no of digit in list: \",count)"
      ],
      "metadata": {
        "id": "Tb7Lr1bna7t2"
      },
      "execution_count": null,
      "outputs": []
    },
    {
      "cell_type": "code",
      "source": [
        "# print table of given number\n",
        "\n",
        "n= int(input(\"Enter the input: \"))\n",
        "for i in range(1,6):\n",
        "  print(n, 'x', i, '=', n*i)\n",
        "\n"
      ],
      "metadata": {
        "id": "INSAaAJBdvIX"
      },
      "execution_count": null,
      "outputs": []
    },
    {
      "cell_type": "code",
      "source": [
        "#program to reverse a number\n",
        "\n",
        "n = int(input(\"please give a number : \"))\n",
        "print(\"before reverse your numeber is : %d\" %n)\n",
        "\n",
        "reverse = 0\n",
        "\n",
        "while n!=0:\n",
        "    reverse = reverse*10 + n%10       \n",
        "    n = (n//10)\n",
        "\n",
        "print(\"After reverse : %d\" %reverse) "
      ],
      "metadata": {
        "id": "96VYrmMQvNQC"
      },
      "execution_count": null,
      "outputs": []
    },
    {
      "cell_type": "code",
      "source": [
        "#Program to check a number is Armstrong or not in python programming language\n",
        "\n",
        "i=0\n",
        "result=0\n",
        "n = int(input(\"please give a number : \"))\n",
        "\n",
        "number1 = n\n",
        "temp = n\n",
        "\n",
        "while n!=0:\n",
        "    n = (n//10)\n",
        "    i=i+1;\n",
        "\n",
        "while number1!=0:\n",
        "    n=number1%10\n",
        "    result=result+pow(n,i)\n",
        "    number1=number1//10\n",
        "\n",
        "if temp==result:\n",
        "    print(\"number is armstrong\")\n",
        "    \n",
        "else:\n",
        "    print(\"number is not armstrong\") "
      ],
      "metadata": {
        "id": "e6KYBUMDvNLy"
      },
      "execution_count": null,
      "outputs": []
    },
    {
      "cell_type": "code",
      "source": [
        "#Checking the no is binary or not\n",
        "\n",
        "num = int(input(\"please give a number : \"))\n",
        "while(num>0):\n",
        "    j=num%10\n",
        "    if j!=0 and j!=1:\n",
        "        print(\"num is not binary\")\n",
        "        break\n",
        "    num=num//10\n",
        "    if num==0:\n",
        "        print(\"num is binary\")"
      ],
      "metadata": {
        "id": "NEg11fFtvMJw"
      },
      "execution_count": null,
      "outputs": []
    },
    {
      "cell_type": "code",
      "source": [
        "#overload constructors (or methods) in Python\n",
        "\n",
        "class Student:\n",
        "  def __init__(self, name):\n",
        "    self.name = name\n",
        "\n",
        "  def __init__(self, name, email):\n",
        "    self.name = name\n",
        "    self.email = email\n",
        "\n",
        "#st = (\"rahul\")\n",
        "st = Student(\"rahul\", \"rahul@gmail.com\")\n",
        "\n",
        "print(\"name: \",st.name)\n",
        "print(\"email: \",st.email)"
      ],
      "metadata": {
        "id": "Z5UyXIvQCpq5"
      },
      "execution_count": null,
      "outputs": []
    },
    {
      "cell_type": "code",
      "source": [
        "## JOIN() in string\n",
        "\n",
        "str = \"Rohan\"\n",
        "str2 = (\"abc\", \"def\")\n",
        "# Calling function\n",
        "str2 = str.join(str2)\n",
        "# Displaying result\n",
        "print(str2)"
      ],
      "metadata": {
        "id": "0dTaHKp4luZr"
      },
      "execution_count": null,
      "outputs": []
    },
    {
      "cell_type": "code",
      "source": [
        "import numpy as np\n",
        "import pandas as pd"
      ],
      "metadata": {
        "id": "-4AA_TyieAk-"
      },
      "execution_count": null,
      "outputs": []
    },
    {
      "cell_type": "code",
      "source": [
        "working_dir_path = '/content/sample_data/california_housing_test.csv'"
      ],
      "metadata": {
        "id": "B7bcBT1qluW9"
      },
      "execution_count": null,
      "outputs": []
    },
    {
      "cell_type": "code",
      "source": [
        "df = pd.read_csv(working_dir_path)"
      ],
      "metadata": {
        "id": "Lj4XgLX2luUZ"
      },
      "execution_count": null,
      "outputs": []
    },
    {
      "cell_type": "code",
      "source": [
        "df"
      ],
      "metadata": {
        "id": "PEK1v-xpluRq"
      },
      "execution_count": null,
      "outputs": []
    },
    {
      "cell_type": "code",
      "source": [
        "df.shape"
      ],
      "metadata": {
        "id": "zCBnQYGnluOr"
      },
      "execution_count": null,
      "outputs": []
    },
    {
      "cell_type": "code",
      "source": [
        "df.isnull()"
      ],
      "metadata": {
        "id": "XamlRqL1luL9"
      },
      "execution_count": null,
      "outputs": []
    },
    {
      "cell_type": "code",
      "source": [
        "df.info()"
      ],
      "metadata": {
        "id": "RuA9RwC5luI_"
      },
      "execution_count": null,
      "outputs": []
    },
    {
      "cell_type": "code",
      "source": [
        "## Use of sort function\n",
        "\n",
        "list = [2, 5, 7, 8, 1]\n",
        "list = [int(i) for i in list]\n",
        "list.sort()\n",
        "print (list)"
      ],
      "metadata": {
        "id": "gO4Otb1KnutX"
      },
      "execution_count": null,
      "outputs": []
    },
    {
      "cell_type": "code",
      "source": [
        "## Use of .reverse function\n",
        "\n",
        "list.reverse()\n",
        "print(list)"
      ],
      "metadata": {
        "id": "3dwpUwMglHnr"
      },
      "execution_count": null,
      "outputs": []
    },
    {
      "cell_type": "code",
      "source": [
        "a= [10,20]\n",
        "b= a\n",
        "b += [30,40]\n",
        "print(a)"
      ],
      "metadata": {
        "id": "NMimuXBylHcq"
      },
      "execution_count": null,
      "outputs": []
    },
    {
      "cell_type": "code",
      "source": [
        ""
      ],
      "metadata": {
        "id": "lgjUxsanFpQy"
      },
      "execution_count": null,
      "outputs": []
    },
    {
      "cell_type": "code",
      "source": [
        "x = lambda a, b, c : a + b + c\n",
        "print(x(5, 6, 2))"
      ],
      "metadata": {
        "id": "eC0dCKGClHTs"
      },
      "execution_count": null,
      "outputs": []
    },
    {
      "cell_type": "code",
      "source": [
        "## use of *args\n",
        "\n",
        "def func(*args):\n",
        "  for i in args:\n",
        "    print(i)\n",
        "func(3,2,1,4,7)"
      ],
      "metadata": {
        "id": "CxSpIpF-lHRA"
      },
      "execution_count": null,
      "outputs": []
    },
    {
      "cell_type": "code",
      "source": [
        "## Use **kwargs\n",
        "\n",
        "def func(**kwargs):\n",
        "  for i in kwargs:\n",
        "    print(i,kwargs[i])\n",
        "func(a=1,b=3,c=5)"
      ],
      "metadata": {
        "id": "KEnwDJ05lHNP"
      },
      "execution_count": null,
      "outputs": []
    },
    {
      "cell_type": "code",
      "source": [
        " a = [1,2,3]\n",
        " b= [3,2,1]\n",
        " b,a = a,b"
      ],
      "metadata": {
        "id": "HFnqGdablHKK"
      },
      "execution_count": null,
      "outputs": []
    },
    {
      "cell_type": "code",
      "source": [
        "a"
      ],
      "metadata": {
        "id": "uTp7d6dpGxwO"
      },
      "execution_count": null,
      "outputs": []
    },
    {
      "cell_type": "code",
      "source": [
        "b\n",
        "print(len(b))"
      ],
      "metadata": {
        "id": "Z-Q1E8upsM5S"
      },
      "execution_count": null,
      "outputs": []
    },
    {
      "cell_type": "code",
      "source": [
        "c= '\\\\r'\n",
        "print(len(c))"
      ],
      "metadata": {
        "id": "n4G3ov8esM0K"
      },
      "execution_count": null,
      "outputs": []
    },
    {
      "cell_type": "code",
      "source": [
        "0>1\n"
      ],
      "metadata": {
        "id": "ibG6vG1ssMvY"
      },
      "execution_count": null,
      "outputs": []
    },
    {
      "cell_type": "code",
      "source": [
        "0<1"
      ],
      "metadata": {
        "id": "its8vRmNsMsQ"
      },
      "execution_count": null,
      "outputs": []
    },
    {
      "cell_type": "code",
      "source": [
        "## Convert numbers into String\n",
        "\n",
        "a= 1,1,22,2,2,2,2\n",
        "b= str(a)\n",
        "print(b)"
      ],
      "metadata": {
        "id": "dNJ6C18usMop"
      },
      "execution_count": null,
      "outputs": []
    },
    {
      "cell_type": "code",
      "source": [
        ""
      ],
      "metadata": {
        "id": "8wgk9Fq9sMPb"
      },
      "execution_count": null,
      "outputs": []
    },
    {
      "cell_type": "code",
      "source": [
        "def func(**kwargs):\n",
        "  for i in kwargs:\n",
        "    print(i,kwargs[i])\n",
        "    func(a=1,b=2,c=3)\n"
      ],
      "metadata": {
        "id": "LDHC_1FJ03oX"
      },
      "execution_count": null,
      "outputs": []
    },
    {
      "cell_type": "code",
      "source": [
        ""
      ],
      "metadata": {
        "id": "uTdZpYpM03kL"
      },
      "execution_count": null,
      "outputs": []
    },
    {
      "cell_type": "code",
      "source": [
        ""
      ],
      "metadata": {
        "id": "cDenu9jF03cR"
      },
      "execution_count": null,
      "outputs": []
    },
    {
      "cell_type": "code",
      "source": [
        ""
      ],
      "metadata": {
        "id": "go2c2zn003Y9"
      },
      "execution_count": null,
      "outputs": []
    },
    {
      "cell_type": "code",
      "source": [
        ""
      ],
      "metadata": {
        "id": "DasXPMNv03Vj"
      },
      "execution_count": null,
      "outputs": []
    },
    {
      "cell_type": "code",
      "source": [
        ""
      ],
      "metadata": {
        "id": "K5Q-3qat03Rp"
      },
      "execution_count": null,
      "outputs": []
    },
    {
      "cell_type": "code",
      "source": [
        ""
      ],
      "metadata": {
        "id": "B8gEeTXP03Iz"
      },
      "execution_count": null,
      "outputs": []
    },
    {
      "cell_type": "code",
      "source": [
        ""
      ],
      "metadata": {
        "id": "vpxCnZwlsMIM"
      },
      "execution_count": null,
      "outputs": []
    }
  ]
}