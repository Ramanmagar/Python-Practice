{
  "nbformat": 4,
  "nbformat_minor": 0,
  "metadata": {
    "colab": {
      "name": "Python Practice.ipynb",
      "provenance": [],
      "collapsed_sections": [],
      "authorship_tag": "ABX9TyP59XGmbWrGXnmgc3kOvdB5",
      "include_colab_link": true
    },
    "kernelspec": {
      "name": "python3",
      "display_name": "Python 3"
    },
    "language_info": {
      "name": "python"
    }
  },
  "cells": [
    {
      "cell_type": "markdown",
      "metadata": {
        "id": "view-in-github",
        "colab_type": "text"
      },
      "source": [
        "<a href=\"https://colab.research.google.com/github/Ramanmagar/Python-Practice/blob/main/Python_Practice.ipynb\" target=\"_parent\"><img src=\"https://colab.research.google.com/assets/colab-badge.svg\" alt=\"Open In Colab\"/></a>"
      ]
    },
    {
      "cell_type": "code",
      "source": [
        "#how to debug the program by using debug command\n",
        "python -m pdb python-script.py"
      ],
      "metadata": {
        "id": "5ltwL_NJcofQ"
      },
      "execution_count": null,
      "outputs": []
    },
    {
      "cell_type": "markdown",
      "source": [
        "##What are Identifiers ?\n",
        "\n",
        "A Python identifier is a name used to identify a variable, function, class, module or other object. An identifier starts with a letter A to Z or a to z or an underscore (_) followed by zero or more letters, underscores and digits\n",
        "(0 to 9).\n",
        "\n",
        "Python does not allow punctuation characters such as @, $, and % within identifiers.Python is a case sensitive programming language. Thus, Manpower and manpower are two different identifiers in Python.\n",
        "\n"
      ],
      "metadata": {
        "id": "BD8Qd9LfhgTG"
      }
    },
    {
      "cell_type": "code",
      "source": [
        "# Run this cell and see the answer in boolean way(True, False) and don't worry if you don't\n",
        "# Just keep in mind, there's a way to cross check the identifier.\n",
        "print(\"abc\".isidentifier())\n",
        "print(\"99a\".isidentifier())\n",
        "print(\"_\".isidentifier())\n",
        "print(\"for\".isidentifier()) # True - wrong output"
      ],
      "metadata": {
        "colab": {
          "base_uri": "https://localhost:8080/"
        },
        "id": "ElkFukEvh-ia",
        "outputId": "fa2d166a-8699-4aca-fd2c-1654a289fa6c"
      },
      "execution_count": null,
      "outputs": [
        {
          "output_type": "stream",
          "name": "stdout",
          "text": [
            "True\n",
            "False\n",
            "True\n",
            "True\n"
          ]
        }
      ]
    },
    {
      "cell_type": "code",
      "source": [
        "#convert List into string\n",
        "\n",
        "weekdays = ['sun','mon','tue','wed','thu','fri','sat']\n",
        "\n",
        "list_to_String = ' '.join(weekdays)\n",
        "print(list_to_String)"
      ],
      "metadata": {
        "colab": {
          "base_uri": "https://localhost:8080/"
        },
        "id": "LcgbC9CKIwo4",
        "outputId": "861a322b-90f4-4822-e79e-56e704495e69"
      },
      "execution_count": null,
      "outputs": [
        {
          "output_type": "stream",
          "name": "stdout",
          "text": [
            "sun mon tue wed thu fri sat\n"
          ]
        }
      ]
    },
    {
      "cell_type": "code",
      "source": [
        "#convert List into string\n",
        "names = ['ram','shyam','nitin','ajay','vijay','raj']\n",
        "list_to_string = ' '.join(names)\n",
        "print(weaks)\n",
        "print(list_to_string)"
      ],
      "metadata": {
        "colab": {
          "base_uri": "https://localhost:8080/"
        },
        "id": "g6EMMvkDJZ4h",
        "outputId": "a28c3d77-a2e2-4cd7-fc40-4848d1a98833"
      },
      "execution_count": null,
      "outputs": [
        {
          "output_type": "stream",
          "name": "stdout",
          "text": [
            "['ram', 'shyam', 'nitin', 'ajay', 'vijay', 'raj']\n",
            "ram shyam nitin ajay vijay raj\n"
          ]
        }
      ]
    },
    {
      "cell_type": "code",
      "source": [
        "#convert list into tuple\n",
        "\n",
        "weekdays = ['sun','mon','tue','wed','thu','fri','sat']\n",
        "list_to_Tuple = tuple(weekdays)\n",
        "print(list_to_Tuple)"
      ],
      "metadata": {
        "colab": {
          "base_uri": "https://localhost:8080/"
        },
        "id": "MBwWIybAJICg",
        "outputId": "be6db842-b7d5-46a9-f9b8-1ea1b2fee5d2"
      },
      "execution_count": null,
      "outputs": [
        {
          "output_type": "stream",
          "name": "stdout",
          "text": [
            "('sun', 'mon', 'tue', 'wed', 'thu', 'fri', 'sat')\n"
          ]
        }
      ]
    },
    {
      "cell_type": "code",
      "source": [
        "#convert list into set\n",
        "\n",
        "weekdays = ['sun','mon','tue','wed','thu','fri','sat']\n",
        "list_to_Tuple = set(weekdays)\n",
        "print(list_to_Tuple)"
      ],
      "metadata": {
        "colab": {
          "base_uri": "https://localhost:8080/"
        },
        "id": "loC04UcbLbt-",
        "outputId": "3f36cccb-ec03-440a-8ea7-8a0be2203bdb"
      },
      "execution_count": null,
      "outputs": [
        {
          "output_type": "stream",
          "name": "stdout",
          "text": [
            "{'sun', 'sat', 'thu', 'wed', 'tue', 'mon', 'fri'}\n"
          ]
        }
      ]
    },
    {
      "cell_type": "code",
      "source": [
        "# count the repeated words\n",
        "weekdays = ['sun','mon','tue','wed','thu','fri','sat','mon','tue','wed','thu','fri','sat','tue']\n",
        "\n",
        "print(weekdays.count('tue'))"
      ],
      "metadata": {
        "colab": {
          "base_uri": "https://localhost:8080/"
        },
        "id": "pXzxXvt3L3Ud",
        "outputId": "4e65edf3-3537-4172-82b1-e8c93aa935de"
      },
      "execution_count": null,
      "outputs": [
        {
          "output_type": "stream",
          "name": "stdout",
          "text": [
            "3\n"
          ]
        }
      ]
    },
    {
      "cell_type": "code",
      "source": [
        "''' What is NumPy array?\n",
        "\n",
        "NumPy arrays are more flexible then lists in Python. By using NumPy arrays reading and writing items is faster and more efficient'''"
      ],
      "metadata": {
        "id": "Fn7jCN6RMUv4"
      },
      "execution_count": null,
      "outputs": []
    },
    {
      "cell_type": "code",
      "source": [
        "# What is local and global variable??\n",
        "\n",
        "# global variable and it is not function dependant\n",
        "x = \"awesome\"\n",
        "def myfunc():\n",
        "# Local variable because it is defined inside function and it has scope\n",
        " x = \"fantastic\"\n",
        " # here local variable gets priority when name of local and g\n",
        " print(\"CloudyML is \" + x) \n",
        "myfunc()\n",
        "print(\"CloudyML is \" + x)"
      ],
      "metadata": {
        "id": "JHiB_ejEe1YA",
        "colab": {
          "base_uri": "https://localhost:8080/"
        },
        "outputId": "155b1940-e241-4fca-9fac-947ee04ba726"
      },
      "execution_count": null,
      "outputs": [
        {
          "output_type": "stream",
          "name": "stdout",
          "text": [
            "CloudyML is fantastic\n",
            "CloudyML is awesome\n"
          ]
        }
      ]
    },
    {
      "cell_type": "code",
      "source": [
        "A = 'javapoint'\n",
        "\n",
        "def myfunc():\n",
        "  A = 'java'\n",
        "  print(A)\n",
        "myfunc()\n",
        "print(A)"
      ],
      "metadata": {
        "colab": {
          "base_uri": "https://localhost:8080/"
        },
        "id": "8rzqwGSMf8DY",
        "outputId": "7e14ca2e-efb8-4a52-82ea-3db006ef711d"
      },
      "execution_count": null,
      "outputs": [
        {
          "output_type": "stream",
          "name": "stdout",
          "text": [
            "java\n",
            "javapoint\n"
          ]
        }
      ]
    },
    {
      "cell_type": "code",
      "source": [
        "x = 'Awesome'\n",
        "def myfunc():\n",
        "  x = \"Fantastic\"\n",
        "  print(\"it is:\", x)\n",
        "myfunc()\n",
        "print(\"it is:\", x)"
      ],
      "metadata": {
        "colab": {
          "base_uri": "https://localhost:8080/"
        },
        "id": "1LaiU7uSWQsc",
        "outputId": "0d0acae9-9825-4f87-879f-9db4e55195c9"
      },
      "execution_count": null,
      "outputs": [
        {
          "output_type": "stream",
          "name": "stdout",
          "text": [
            "it is: Fantastic\n",
            "it is: Awesome\n"
          ]
        }
      ]
    },
    {
      "cell_type": "code",
      "source": [
        " #String formatting method\n",
        "# Method 1\n",
        "quantity = 5\n",
        "item_name = \"Mango\"\n",
        "price = 10\n",
        "\n",
        "# {} is called placeholder, so 3 placehold\n",
        "order = \"I want {} pieces of {} for {} dollars.\"\n",
        "print(order.format(quantity, item_name, price))\n",
        "# Method 2\n",
        "order = \"I want {0} pieces of {1} for {2} dollars.\" # here 0,1,2 tells the position of qu\n",
        "print(order.format(quantity, item_name, price))\n",
        "# Method 3\n",
        "print(f\"I want {quantity} pieces of {item_name} for {price} dollars.\") # Observe the f out\n",
        " # names passed in\n",
        "# Method 4\n",
        "print(\"I want %d pieces of %s for %.0f dollars.\"%(quantity, item_name, price)) "
      ],
      "metadata": {
        "colab": {
          "base_uri": "https://localhost:8080/"
        },
        "id": "Dy2Dgi6pmFRe",
        "outputId": "6de8149a-d61a-4b99-f8d9-f44b2c60e81b"
      },
      "execution_count": null,
      "outputs": [
        {
          "output_type": "stream",
          "name": "stdout",
          "text": [
            "I want 5 pieces of Mango for 10 dollars.\n",
            "I want 5 pieces of Mango for 10 dollars.\n",
            "I want 5 pieces of Mango for 10 dollars.\n",
            "I want 5 pieces of Mango for 10 dollars.\n"
          ]
        }
      ]
    },
    {
      "cell_type": "code",
      "source": [
        "name = 'Raman'\n",
        "surname = \"Magar\"\n",
        "print(\"my name is\", name,\"and surname is\", surname)\n",
        "order = \"My name is {0} and Surname is {1}\"\n",
        "print(order.format(name,surname))\n",
        "print(f\"My Name is {name} and surname is {surname}\")"
      ],
      "metadata": {
        "colab": {
          "base_uri": "https://localhost:8080/"
        },
        "id": "ZG0SnzTpp7W_",
        "outputId": "11617a2e-c1fd-4bc8-d140-27d2664a3ae4"
      },
      "execution_count": null,
      "outputs": [
        {
          "output_type": "stream",
          "name": "stdout",
          "text": [
            "my name is Raman and surname is Magar\n",
            "My name is Raman and Surname is Magar\n",
            "My Name is Raman and surname is Magar\n"
          ]
        }
      ]
    },
    {
      "cell_type": "code",
      "source": [
        "## For checking Odd Even program\n",
        "\n",
        "number = int(input('Enter the number: '))\n",
        "if (number % 2) == 0:\n",
        "  print(\"{0} is even\".format(number))\n",
        "else:\n",
        "  print(\"{0} is odd\".format(number))"
      ],
      "metadata": {
        "id": "E4zbAJ39mFF4",
        "colab": {
          "base_uri": "https://localhost:8080/"
        },
        "outputId": "a652ebf2-6a04-448b-a57d-365a0ffe57cb"
      },
      "execution_count": null,
      "outputs": [
        {
          "output_type": "stream",
          "name": "stdout",
          "text": [
            "Enter the number: 8585255551\n",
            "8585255551 is odd\n"
          ]
        }
      ]
    },
    {
      "cell_type": "code",
      "source": [
        ""
      ],
      "metadata": {
        "id": "ibRFMq1FmFDQ"
      },
      "execution_count": null,
      "outputs": []
    },
    {
      "cell_type": "code",
      "source": [
        "## Check leap year\n",
        "\n",
        "def Checkleap(Year):\n",
        "  if((Year % 400 ==0) or\n",
        "    (Year % 100 !=0) and\n",
        "    (Year % 4 == 0)):\n",
        "    print(\"The given year is Leap year\")\n",
        "  else:\n",
        "    print(\"The given year is not Leap year\")\n",
        "  \n",
        "\n",
        "Year = int(input(\"Enter the number \"))\n",
        "\n",
        "Checkleap(Year)"
      ],
      "metadata": {
        "id": "NyVKTHOlmE3V",
        "colab": {
          "base_uri": "https://localhost:8080/"
        },
        "outputId": "5b2df2a9-e2ca-4700-99db-57b4b267ae83"
      },
      "execution_count": null,
      "outputs": [
        {
          "output_type": "stream",
          "name": "stdout",
          "text": [
            "Enter the number 2019\n",
            "The given year is not Leap year\n"
          ]
        }
      ]
    },
    {
      "cell_type": "code",
      "source": [
        "def LeafChecker():\n",
        "  if((year % 400 ==0) or\n",
        "   (year % 100 !=0) and\n",
        "   (year % 4 ==0)):\n",
        "    print(\"given year is Leap year\")\n",
        "  else:\n",
        "    print(\"given  year is not Leap year\")\n",
        "\n",
        "\n",
        "year = int(input(\"Enter the Number\"))\n",
        "LeafChecker()"
      ],
      "metadata": {
        "colab": {
          "base_uri": "https://localhost:8080/"
        },
        "id": "dFg4bbGrIGg7",
        "outputId": "bf0bb020-dcad-488f-96a3-63fd89f35d59"
      },
      "execution_count": null,
      "outputs": [
        {
          "output_type": "stream",
          "name": "stdout",
          "text": [
            "Enter the Number2021\n",
            "given  year is not Leap year\n"
          ]
        }
      ]
    },
    {
      "cell_type": "code",
      "source": [
        "## Check the given number is prime or not\n",
        "def PrimeChecker(a):\n",
        "  if a>1:\n",
        "    for j in range(2, int(a/2)+1):\n",
        "      if (a %j) ==0:\n",
        "        print(a, \"is not prime number\")\n",
        "        break\n",
        "\n",
        "    else:\n",
        "      print(a,\"is not prime number\")\n",
        "a = int(input(\"Enter the number: \"))\n",
        "PrimeChecker(a)"
      ],
      "metadata": {
        "id": "gGopno04mEyg",
        "colab": {
          "base_uri": "https://localhost:8080/"
        },
        "outputId": "65999cba-4c91-4edf-8c9e-65e0d18e9e9a"
      },
      "execution_count": null,
      "outputs": [
        {
          "output_type": "stream",
          "name": "stdout",
          "text": [
            "Enter the number: 15\n",
            "15 is not prime number\n"
          ]
        }
      ]
    },
    {
      "cell_type": "code",
      "source": [
        "def PrimeChecker(a):\n",
        "  if a>0:\n",
        "    for j in range(2, int(a/2)+1):\n",
        "      if a%j ==0:\n",
        "        print('Given No is not prime.')\n",
        "        break\n",
        "    else:\n",
        "      print('Given no is prime.')\n",
        "  else:\n",
        "  \n",
        "    print(\"Given no is not prime.\")\n",
        "a = int(input(\"Enter the number: \"))\n",
        "PrimeChecker(a)"
      ],
      "metadata": {
        "id": "7LFCvuiwmEvo",
        "colab": {
          "base_uri": "https://localhost:8080/"
        },
        "outputId": "32383a74-a604-4f29-a480-29982af204f1"
      },
      "execution_count": null,
      "outputs": [
        {
          "output_type": "stream",
          "name": "stdout",
          "text": [
            "Enter the number: 8\n",
            "Given No is not prime.\n"
          ]
        }
      ]
    },
    {
      "cell_type": "code",
      "source": [
        "def PrimeChecker(a):\n",
        "  if a>1:\n",
        "    for j in range(2, int(a/2) +1):\n",
        "      if (a%j) ==0:\n",
        "        print(a, 'is not prime number')\n",
        "        break\n",
        "    else:\n",
        "      print(a,'is prime number')\n",
        "  else:\n",
        "    print(a,\"is not prime number\")\n",
        "a= int(input(\"Enter the number\"))\n",
        "PrimeChecker(a)"
      ],
      "metadata": {
        "id": "6kHHhUKKmEsW",
        "colab": {
          "base_uri": "https://localhost:8080/"
        },
        "outputId": "b1f9e0f7-b259-48e4-8ea0-9636af23a9d1"
      },
      "execution_count": null,
      "outputs": [
        {
          "output_type": "stream",
          "name": "stdout",
          "text": [
            "Enter the number7\n",
            "7 is prime number\n"
          ]
        }
      ]
    },
    {
      "cell_type": "code",
      "source": [
        "## How to convert list into string\n",
        "list = ['1','2','3','4']\n",
        "con_to_string = ' '.join(list)\n",
        "print(con_to_string)"
      ],
      "metadata": {
        "colab": {
          "base_uri": "https://localhost:8080/"
        },
        "id": "3loFR_QEWDLG",
        "outputId": "11f6a505-ca88-4991-f42f-8d1b00eb9502"
      },
      "execution_count": null,
      "outputs": [
        {
          "output_type": "stream",
          "name": "stdout",
          "text": [
            "1 2 3 4\n"
          ]
        }
      ]
    },
    {
      "cell_type": "code",
      "source": [
        "## How to convert list into tuple\n",
        "list = ['1','2','3','4']\n",
        "con_to_tuple = tuple(list)\n",
        "print(con_to_tuple)"
      ],
      "metadata": {
        "colab": {
          "base_uri": "https://localhost:8080/"
        },
        "id": "ZDJlUOMGXb8M",
        "outputId": "82f6e78c-e015-4171-caf4-a7dce29109ee"
      },
      "execution_count": null,
      "outputs": [
        {
          "output_type": "stream",
          "name": "stdout",
          "text": [
            "('1', '2', '3', '4')\n"
          ]
        }
      ]
    },
    {
      "cell_type": "code",
      "source": [
        "## How to convert list into set\n",
        "\n",
        "list = ['1','2','3','4']\n",
        "con_to_tuple = set(list)\n",
        "print(con_to_tuple)"
      ],
      "metadata": {
        "colab": {
          "base_uri": "https://localhost:8080/"
        },
        "id": "6G0gXneqZyR_",
        "outputId": "5fa55504-c861-4963-8218-dff8fb8ff64b"
      },
      "execution_count": null,
      "outputs": [
        {
          "output_type": "stream",
          "name": "stdout",
          "text": [
            "{'3', '4', '1', '2'}\n"
          ]
        }
      ]
    },
    {
      "cell_type": "code",
      "source": [
        "## How to count in a list \n",
        "\n",
        "list = ['1','2','2','2','4']\n",
        "count = list.count('2')\n",
        "print(count)"
      ],
      "metadata": {
        "colab": {
          "base_uri": "https://localhost:8080/"
        },
        "id": "C0eElYpkaV3o",
        "outputId": "3a2890cc-0b42-49b1-87e0-b572435daf96"
      },
      "execution_count": null,
      "outputs": [
        {
          "output_type": "stream",
          "name": "stdout",
          "text": [
            "3\n"
          ]
        }
      ]
    },
    {
      "cell_type": "code",
      "source": [
        "## How to count each entity in a list \n",
        "\n",
        "list = ['1','2','2','3','4']\n",
        "#count = list.count('1')\n",
        "print([[x,list.count(x)] for x in set(list)])"
      ],
      "metadata": {
        "colab": {
          "base_uri": "https://localhost:8080/"
        },
        "id": "Xmnk1iSib6Dz",
        "outputId": "434e2da6-6168-402d-9145-c000e7c2753b"
      },
      "execution_count": null,
      "outputs": [
        {
          "output_type": "stream",
          "name": "stdout",
          "text": [
            "[['2', 2], ['3', 1], ['4', 1], ['1', 1]]\n"
          ]
        }
      ]
    },
    {
      "cell_type": "code",
      "source": [
        "list1 = [1, 2, 3, 2, 5, 5, 3, 5,]\n",
        "print([[x,list1.count(x)] for x in set(list1)])"
      ],
      "metadata": {
        "colab": {
          "base_uri": "https://localhost:8080/"
        },
        "id": "nQ9RmW-eQ_NC",
        "outputId": "b71a7dc9-0b9e-4c50-812e-9a303c3f2def"
      },
      "execution_count": null,
      "outputs": [
        {
          "output_type": "stream",
          "name": "stdout",
          "text": [
            "[[1, 1], [2, 2], [3, 2], [5, 3]]\n"
          ]
        }
      ]
    },
    {
      "cell_type": "code",
      "source": [
        "print([[x, list1.count(x)] for x in set(list1)])"
      ],
      "metadata": {
        "colab": {
          "base_uri": "https://localhost:8080/"
        },
        "id": "8S0_XnNuR8k0",
        "outputId": "5968e19e-9206-419b-af97-fe215075ad5b"
      },
      "execution_count": null,
      "outputs": [
        {
          "output_type": "stream",
          "name": "stdout",
          "text": [
            "[[1, 1], [2, 2], [3, 2], [5, 3]]\n"
          ]
        }
      ]
    },
    {
      "cell_type": "code",
      "source": [
        "#another example\n",
        "list = [1,2,3,2,4,1,3,2,3,3]\n",
        "print([[x,list.count(x)] for x in set(list)])"
      ],
      "metadata": {
        "colab": {
          "base_uri": "https://localhost:8080/"
        },
        "id": "PjZHqI5Lc5DZ",
        "outputId": "db8b89bc-db54-4e5b-884e-a349a2e566d6"
      },
      "execution_count": null,
      "outputs": [
        {
          "output_type": "stream",
          "name": "stdout",
          "text": [
            "[[1, 2], [2, 3], [3, 4], [4, 1]]\n"
          ]
        }
      ]
    },
    {
      "cell_type": "code",
      "source": [
        "# How to create numpy array in python \n",
        "import numpy as np\n",
        "np.array([])\n",
        "np.array([])"
      ],
      "metadata": {
        "colab": {
          "base_uri": "https://localhost:8080/"
        },
        "id": "kOd_bu3gdre1",
        "outputId": "b33f6261-856d-4d9b-ee8f-d7246a495132"
      },
      "execution_count": null,
      "outputs": [
        {
          "output_type": "execute_result",
          "data": {
            "text/plain": [
              "array([], dtype=float64)"
            ]
          },
          "metadata": {},
          "execution_count": 22
        }
      ]
    },
    {
      "cell_type": "code",
      "source": [
        "np.empty(shape=(3,4))"
      ],
      "metadata": {
        "colab": {
          "base_uri": "https://localhost:8080/"
        },
        "id": "iDXkovmsSWG6",
        "outputId": "59648628-0599-4f15-9b8b-7c90b1f9484a"
      },
      "execution_count": null,
      "outputs": [
        {
          "output_type": "execute_result",
          "data": {
            "text/plain": [
              "array([[4.17593928e-316, 2.14321575e-312, 2.37663529e-312,\n",
              "        2.56761491e-312],\n",
              "       [2.44029516e-312, 2.05833592e-312, 2.14321575e-312,\n",
              "        8.48798317e-313],\n",
              "       [9.33678148e-313, 8.70018275e-313, 8.70018274e-313,\n",
              "        1.46030983e-319]])"
            ]
          },
          "metadata": {},
          "execution_count": 26
        }
      ]
    },
    {
      "cell_type": "code",
      "source": [
        "np.empty(shape=(3,2))"
      ],
      "metadata": {
        "colab": {
          "base_uri": "https://localhost:8080/"
        },
        "id": "SWxWU8LPekhV",
        "outputId": "6a82b6d7-0928-40c4-9f2b-9eb7bdb8c615"
      },
      "execution_count": null,
      "outputs": [
        {
          "output_type": "execute_result",
          "data": {
            "text/plain": [
              "array([[2.9918845e-316, 0.0000000e+000],\n",
              "       [0.0000000e+000, 0.0000000e+000],\n",
              "       [0.0000000e+000, 0.0000000e+000]])"
            ]
          },
          "metadata": {},
          "execution_count": 60
        }
      ]
    },
    {
      "cell_type": "code",
      "source": [
        "# Hoew to use enumrate function\n",
        "\n",
        "subject = ('Python', 'Interview', 'Questions')\n",
        "for i, subject in enumerate(subject):\n",
        "   print(i, subject)"
      ],
      "metadata": {
        "colab": {
          "base_uri": "https://localhost:8080/"
        },
        "id": "GGvbMpb2fNFw",
        "outputId": "4a5d6310-b531-4709-d655-b76c77b2a071"
      },
      "execution_count": null,
      "outputs": [
        {
          "output_type": "stream",
          "name": "stdout",
          "text": [
            "0 Python\n",
            "1 Interview\n",
            "2 Questions\n"
          ]
        }
      ]
    },
    {
      "cell_type": "code",
      "source": [
        "subjects = ('Python', 'Interview', 'Questions')\n",
        "for i, subject in enumerate(subjects):\n",
        "  print(i, subject)"
      ],
      "metadata": {
        "colab": {
          "base_uri": "https://localhost:8080/"
        },
        "id": "RpRNWAHP0tK-",
        "outputId": "a54c84e2-9581-43d8-cbfd-1dab9c6729cf"
      },
      "execution_count": null,
      "outputs": [
        {
          "output_type": "stream",
          "name": "stdout",
          "text": [
            "0 Python\n",
            "1 Interview\n",
            "2 Questions\n"
          ]
        }
      ]
    },
    {
      "cell_type": "code",
      "source": [
        "subject = ('Raman', 'Ashok', 'Magar')\n",
        "for i, subject in enumerate(subject):\n",
        "  print(i, subject)\n",
        "\n",
        "  "
      ],
      "metadata": {
        "colab": {
          "base_uri": "https://localhost:8080/"
        },
        "id": "75TfPBvg0tB_",
        "outputId": "9fe713f1-7d6c-478a-8aaf-e64555116605"
      },
      "execution_count": null,
      "outputs": [
        {
          "output_type": "stream",
          "name": "stdout",
          "text": [
            "0 Raman\n",
            "1 Ashok\n",
            "2 Magar\n"
          ]
        }
      ]
    },
    {
      "cell_type": "code",
      "source": [
        "# Concatenate Funnction\n",
        "print('Raman ' + 'Ashok ' + 'Magar')"
      ],
      "metadata": {
        "colab": {
          "base_uri": "https://localhost:8080/"
        },
        "id": "fZlQSgtDJxW5",
        "outputId": "a5d3a42e-3c26-42b4-8d17-86f7a58e0c48"
      },
      "execution_count": null,
      "outputs": [
        {
          "output_type": "stream",
          "name": "stdout",
          "text": [
            "Raman Ashok Magar\n"
          ]
        }
      ]
    },
    {
      "cell_type": "code",
      "source": [
        "## Set example \n",
        "items_list = {\"Raman\", \"ashok\", \"Magar\"}\n",
        "\n",
        "print(items_list)\n",
        "print(len(items_list))\n",
        "# how to use \"in\" Keyword\n",
        "if \"Raman\" in items_list:\n",
        "  print('Its first Nmae')\n",
        "\n",
        "# \"not in\"\n",
        "if \"Bopala\" not in items_list:\n",
        "  print(\"it's wrong\")"
      ],
      "metadata": {
        "colab": {
          "base_uri": "https://localhost:8080/"
        },
        "id": "t7IoXF_k0s_G",
        "outputId": "3f84b535-f53e-4407-8f5c-7fc0e9e4d639"
      },
      "execution_count": null,
      "outputs": [
        {
          "output_type": "stream",
          "name": "stdout",
          "text": [
            "{'ashok', 'Raman', 'Magar'}\n",
            "3\n",
            "Its first Nmae\n",
            "it's wrong\n"
          ]
        }
      ]
    },
    {
      "cell_type": "code",
      "source": [
        "## SET is immutable not change but add\n",
        "item = set()\n",
        "item.add('Boala')\n",
        "item.add('Pune')\n",
        "item.add('Latur')\n",
        "print(item)"
      ],
      "metadata": {
        "colab": {
          "base_uri": "https://localhost:8080/",
          "height": 234
        },
        "id": "oSl0-ahd0s8E",
        "outputId": "a10715d7-2575-4a4d-de2a-6b102f6d5168"
      },
      "execution_count": null,
      "outputs": [
        {
          "output_type": "error",
          "ename": "TypeError",
          "evalue": "ignored",
          "traceback": [
            "\u001b[0;31m---------------------------------------------------------------------------\u001b[0m",
            "\u001b[0;31mTypeError\u001b[0m                                 Traceback (most recent call last)",
            "\u001b[0;32m<ipython-input-105-60a9efd53cf3>\u001b[0m in \u001b[0;36m<module>\u001b[0;34m()\u001b[0m\n\u001b[1;32m      1\u001b[0m \u001b[0;31m## SET is immutable not change but add\u001b[0m\u001b[0;34m\u001b[0m\u001b[0;34m\u001b[0m\u001b[0;34m\u001b[0m\u001b[0m\n\u001b[0;32m----> 2\u001b[0;31m \u001b[0mitem\u001b[0m \u001b[0;34m=\u001b[0m \u001b[0mset\u001b[0m\u001b[0;34m(\u001b[0m\u001b[0;34m)\u001b[0m\u001b[0;34m\u001b[0m\u001b[0;34m\u001b[0m\u001b[0m\n\u001b[0m\u001b[1;32m      3\u001b[0m \u001b[0mitem\u001b[0m\u001b[0;34m.\u001b[0m\u001b[0madd\u001b[0m\u001b[0;34m(\u001b[0m\u001b[0;34m'Boala'\u001b[0m\u001b[0;34m)\u001b[0m\u001b[0;34m\u001b[0m\u001b[0;34m\u001b[0m\u001b[0m\n\u001b[1;32m      4\u001b[0m \u001b[0mitem\u001b[0m\u001b[0;34m.\u001b[0m\u001b[0madd\u001b[0m\u001b[0;34m(\u001b[0m\u001b[0;34m'Pune'\u001b[0m\u001b[0;34m)\u001b[0m\u001b[0;34m\u001b[0m\u001b[0;34m\u001b[0m\u001b[0m\n\u001b[1;32m      5\u001b[0m \u001b[0mitem\u001b[0m\u001b[0;34m.\u001b[0m\u001b[0madd\u001b[0m\u001b[0;34m(\u001b[0m\u001b[0;34m'Latur'\u001b[0m\u001b[0;34m)\u001b[0m\u001b[0;34m\u001b[0m\u001b[0;34m\u001b[0m\u001b[0m\n",
            "\u001b[0;31mTypeError\u001b[0m: 'dict' object is not callable"
          ]
        }
      ]
    },
    {
      "cell_type": "code",
      "source": [
        "## Sum of the 1 to 10\n",
        "sum(range(1,11))"
      ],
      "metadata": {
        "colab": {
          "base_uri": "https://localhost:8080/"
        },
        "id": "_Qxj1XjW0sqS",
        "outputId": "898e0235-00a0-43d7-c258-9a823f1cefad"
      },
      "execution_count": null,
      "outputs": [
        {
          "output_type": "execute_result",
          "data": {
            "text/plain": [
              "55"
            ]
          },
          "metadata": {},
          "execution_count": 118
        }
      ]
    },
    {
      "cell_type": "code",
      "source": [
        "sum(range(1,101))"
      ],
      "metadata": {
        "colab": {
          "base_uri": "https://localhost:8080/"
        },
        "id": "i6SoGYBO0sjU",
        "outputId": "a3912899-ac01-45d4-ea34-302e6939a3a0"
      },
      "execution_count": null,
      "outputs": [
        {
          "output_type": "execute_result",
          "data": {
            "text/plain": [
              "5050"
            ]
          },
          "metadata": {},
          "execution_count": 8
        }
      ]
    },
    {
      "cell_type": "code",
      "source": [
        "## Another Way \n",
        "def GetSum(n):\n",
        "  sum = 0\n",
        "  for digit in str(n):\n",
        "    sum += int(digit)\n",
        "  return sum\n",
        "\n",
        "n = int(input(\"Enter the number\"))\n",
        "GetSum(n)\n"
      ],
      "metadata": {
        "colab": {
          "base_uri": "https://localhost:8080/"
        },
        "id": "6hoE7GAk0sgd",
        "outputId": "d9216462-bb02-4336-c041-2da0184723d4"
      },
      "execution_count": null,
      "outputs": [
        {
          "name": "stdout",
          "output_type": "stream",
          "text": [
            "Enter the number12345\n"
          ]
        },
        {
          "output_type": "execute_result",
          "data": {
            "text/plain": [
              "15"
            ]
          },
          "metadata": {},
          "execution_count": 123
        }
      ]
    },
    {
      "cell_type": "code",
      "source": [
        "list_1 = [1,2,3,4,5]\n",
        "list = []\n",
        "def GetSum(list_1):\n",
        "  sum = 0\n",
        "  for digit in str(list_1):\n",
        "    sum += int(digit)\n",
        "  return sum\n",
        "n = int(input(\"Enter the input \"))\n",
        "GetSum(n)\n"
      ],
      "metadata": {
        "colab": {
          "base_uri": "https://localhost:8080/"
        },
        "id": "zaqHLcdSUiLH",
        "outputId": "0eb1840b-1707-4a04-d6af-d357cfdfbf14"
      },
      "execution_count": null,
      "outputs": [
        {
          "name": "stdout",
          "output_type": "stream",
          "text": [
            "Enter the input 1234\n"
          ]
        },
        {
          "output_type": "execute_result",
          "data": {
            "text/plain": [
              "10"
            ]
          },
          "metadata": {},
          "execution_count": 50
        }
      ]
    },
    {
      "cell_type": "code",
      "source": [
        "x = lambda a:a*5\n",
        "print(x(5))"
      ],
      "metadata": {
        "id": "14JU4npdOXMu",
        "colab": {
          "base_uri": "https://localhost:8080/"
        },
        "outputId": "ff453529-034a-4f4a-a367-6cae8e747d73"
      },
      "execution_count": null,
      "outputs": [
        {
          "output_type": "stream",
          "name": "stdout",
          "text": [
            "25\n"
          ]
        }
      ]
    },
    {
      "cell_type": "code",
      "source": [
        "# list Comphrension\n",
        "fruits = [\"apple\", \"banana\", \"cherry\", \"kiwi\", \"mango\"]\n",
        "\n",
        "newlist = [x for x in fruits if \"a\" in x]\n",
        "\n",
        "print(newlist)"
      ],
      "metadata": {
        "id": "pfrbsyG0a7-k",
        "colab": {
          "base_uri": "https://localhost:8080/"
        },
        "outputId": "9a96a353-177e-4945-af8e-77f5210b1085"
      },
      "execution_count": null,
      "outputs": [
        {
          "output_type": "stream",
          "name": "stdout",
          "text": [
            "['apple', 'banana', 'mango']\n"
          ]
        }
      ]
    },
    {
      "cell_type": "code",
      "source": [
        "fruits = [\"apple\", \"banana\", \"cherry\", \"kiwi\", \"mango\"]\n",
        "new_list = [x for x in fruits if \"r\" in x]\n",
        "print(new_list)"
      ],
      "metadata": {
        "colab": {
          "base_uri": "https://localhost:8080/"
        },
        "id": "EJ-JTe2yXDLH",
        "outputId": "1f3863da-9621-44b1-a6ac-31bff3782327"
      },
      "execution_count": null,
      "outputs": [
        {
          "output_type": "stream",
          "name": "stdout",
          "text": [
            "['cherry']\n"
          ]
        }
      ]
    },
    {
      "cell_type": "code",
      "source": [
        "name_list = (\"Raman\", \"Ashok\", \"Magar\")\n",
        "fruits = [\"apple\", \"banana\", \"cherry\", \"kiwi\", \"mango\"]\n",
        "newlist = []\n",
        "\n",
        "for x in fruits:\n",
        "  if \"a\" in x:\n",
        "    newlist.append(x)\n",
        "\n",
        "print(newlist)"
      ],
      "metadata": {
        "id": "UAarCyOPdRqB"
      },
      "execution_count": null,
      "outputs": []
    },
    {
      "cell_type": "code",
      "source": [
        "name_list = (\"Raman\", \"Ashok\", \"Magar\")\n",
        "new_list = []\n",
        "for x in name_list:\n",
        "  if \"a\" in x:\n",
        "    new_list.append(x)\n",
        "print(new_list)"
      ],
      "metadata": {
        "colab": {
          "base_uri": "https://localhost:8080/"
        },
        "id": "IHgtOu7ddhRk",
        "outputId": "cec24b59-97cb-482b-85ce-fcb1d0be9da9"
      },
      "execution_count": null,
      "outputs": [
        {
          "output_type": "stream",
          "name": "stdout",
          "text": [
            "['Raman', 'Magar']\n"
          ]
        }
      ]
    },
    {
      "cell_type": "code",
      "source": [
        "name = [\" abc\", 'def']\n",
        "new = []\n",
        "for x in name:\n",
        "  if 'bc' in x:\n",
        "    new.append(x)\n",
        "print(new)\n"
      ],
      "metadata": {
        "colab": {
          "base_uri": "https://localhost:8080/"
        },
        "id": "KGuCtkXxeJMx",
        "outputId": "b5fdfd4f-88f4-4558-b737-eddb734326b3"
      },
      "execution_count": null,
      "outputs": [
        {
          "output_type": "stream",
          "name": "stdout",
          "text": [
            "[' abc']\n"
          ]
        }
      ]
    },
    {
      "cell_type": "code",
      "source": [
        "import array as arr\n",
        "user_list = [\"abs\", 2, 1.2]\n",
        "user_array = arr.array('i',[1,2,3])\n",
        "print(user_list)\n",
        "print(user_array)"
      ],
      "metadata": {
        "colab": {
          "base_uri": "https://localhost:8080/"
        },
        "id": "Sm12iHdNe1_R",
        "outputId": "efad5945-14df-4376-aea8-c7b2d11f8714"
      },
      "execution_count": null,
      "outputs": [
        {
          "output_type": "stream",
          "name": "stdout",
          "text": [
            "['abs', 2, 1.2]\n",
            "array('i', [1, 2, 3])\n"
          ]
        }
      ]
    },
    {
      "cell_type": "code",
      "source": [
        "## Indexing\n",
        "list = [[\"ajay\", 'vijay'], 'sujay', 'nijay']\n",
        "print(len(list))\n",
        "print(list[1][2])"
      ],
      "metadata": {
        "id": "ZWYpjTGYicfK",
        "colab": {
          "base_uri": "https://localhost:8080/"
        },
        "outputId": "aad42b2b-0804-40ba-b8b6-52243e73cc28"
      },
      "execution_count": null,
      "outputs": [
        {
          "output_type": "stream",
          "name": "stdout",
          "text": [
            "3\n",
            "j\n"
          ]
        }
      ]
    },
    {
      "cell_type": "code",
      "source": [
        "#Slicing\n",
        "list = [\"ajay\", 'vijay', 'sujay', 'nijay']\n",
        "print(list[0:4:3])"
      ],
      "metadata": {
        "colab": {
          "base_uri": "https://localhost:8080/"
        },
        "id": "P1jLk6AWz_ah",
        "outputId": "bee11202-3ec2-4b1a-d7fc-7a14f7591a35"
      },
      "execution_count": null,
      "outputs": [
        {
          "output_type": "stream",
          "name": "stdout",
          "text": [
            "['ajay', 'nijay']\n"
          ]
        }
      ]
    },
    {
      "cell_type": "code",
      "source": [
        "import numpy as np"
      ],
      "metadata": {
        "id": "1p2mBs0J0zLw"
      },
      "execution_count": null,
      "outputs": []
    },
    {
      "cell_type": "code",
      "source": [
        "npy = np.arange=(1,5)"
      ],
      "metadata": {
        "id": "MlcekBBU13do"
      },
      "execution_count": null,
      "outputs": []
    },
    {
      "cell_type": "code",
      "source": [
        "print(npy)"
      ],
      "metadata": {
        "colab": {
          "base_uri": "https://localhost:8080/"
        },
        "id": "OTGNkXYr199Y",
        "outputId": "a60309f9-223b-4d71-a8e8-5e21f66bfc38"
      },
      "execution_count": null,
      "outputs": [
        {
          "output_type": "stream",
          "name": "stdout",
          "text": [
            "(1, 5)\n"
          ]
        }
      ]
    },
    {
      "cell_type": "code",
      "source": [
        "names1 = ['Amir', 'Bear', 'Charlton', 'Daman']\n",
        "names2 = names1\n",
        "names3 = names1[:]\n",
        "print(names2)\n",
        "print(names3)\n",
        "\n",
        "\n",
        "names2[0] = 'Alice'\n",
        "names3[1] = 'Bob'\n",
        "\n",
        "sum = 0\n",
        "for ls in (names1, names2, names3):\n",
        "  if ls[0] == 'Alice':\n",
        "    sum += 1\n",
        "    if ls[1] == 'Bob':\n",
        "      sum += 10\n",
        "print(sum)"
      ],
      "metadata": {
        "colab": {
          "base_uri": "https://localhost:8080/"
        },
        "id": "GR4cvfgA8PZ6",
        "outputId": "2c0972ca-68cc-48b9-f238-278368fab617"
      },
      "execution_count": null,
      "outputs": [
        {
          "output_type": "stream",
          "name": "stdout",
          "text": [
            "['Amir', 'Bear', 'Charlton', 'Daman']\n",
            "['Amir', 'Bear', 'Charlton', 'Daman']\n",
            "2\n"
          ]
        }
      ]
    },
    {
      "cell_type": "code",
      "source": [
        "#multiply of list\n",
        "list = [1,2,3,4,5,6,7,8,9]\n",
        "avg = sum(list)/len(list)\n",
        "print(avg)"
      ],
      "metadata": {
        "colab": {
          "base_uri": "https://localhost:8080/",
          "height": 217
        },
        "id": "9DTUknN19IP7",
        "outputId": "ac240bbb-9a9e-4ecb-c9dd-c3d4affcd2f8"
      },
      "execution_count": null,
      "outputs": [
        {
          "output_type": "error",
          "ename": "TypeError",
          "evalue": "ignored",
          "traceback": [
            "\u001b[0;31m---------------------------------------------------------------------------\u001b[0m",
            "\u001b[0;31mTypeError\u001b[0m                                 Traceback (most recent call last)",
            "\u001b[0;32m<ipython-input-121-24df8ef30760>\u001b[0m in \u001b[0;36m<module>\u001b[0;34m()\u001b[0m\n\u001b[1;32m      1\u001b[0m \u001b[0;31m#multiply of list\u001b[0m\u001b[0;34m\u001b[0m\u001b[0;34m\u001b[0m\u001b[0;34m\u001b[0m\u001b[0m\n\u001b[1;32m      2\u001b[0m \u001b[0mlist\u001b[0m \u001b[0;34m=\u001b[0m \u001b[0;34m[\u001b[0m\u001b[0;36m1\u001b[0m\u001b[0;34m,\u001b[0m\u001b[0;36m2\u001b[0m\u001b[0;34m,\u001b[0m\u001b[0;36m3\u001b[0m\u001b[0;34m,\u001b[0m\u001b[0;36m4\u001b[0m\u001b[0;34m,\u001b[0m\u001b[0;36m5\u001b[0m\u001b[0;34m,\u001b[0m\u001b[0;36m6\u001b[0m\u001b[0;34m,\u001b[0m\u001b[0;36m7\u001b[0m\u001b[0;34m,\u001b[0m\u001b[0;36m8\u001b[0m\u001b[0;34m,\u001b[0m\u001b[0;36m9\u001b[0m\u001b[0;34m]\u001b[0m\u001b[0;34m\u001b[0m\u001b[0;34m\u001b[0m\u001b[0m\n\u001b[0;32m----> 3\u001b[0;31m \u001b[0mSum\u001b[0m \u001b[0;34m=\u001b[0m \u001b[0msum\u001b[0m\u001b[0;34m(\u001b[0m\u001b[0mlist\u001b[0m\u001b[0;34m)\u001b[0m\u001b[0;34m\u001b[0m\u001b[0;34m\u001b[0m\u001b[0m\n\u001b[0m\u001b[1;32m      4\u001b[0m \u001b[0mlen\u001b[0m\u001b[0;34m(\u001b[0m\u001b[0mlist\u001b[0m\u001b[0;34m)\u001b[0m\u001b[0;34m\u001b[0m\u001b[0;34m\u001b[0m\u001b[0m\n",
            "\u001b[0;31mTypeError\u001b[0m: 'int' object is not callable"
          ]
        }
      ]
    },
    {
      "cell_type": "code",
      "source": [
        "numbers = [1,2,3,4,5,1,4,5]\n",
        "  \n",
        "#start parameter is not provided\n",
        "Sum = sum(numbers)\n",
        "print(Sum)\n",
        "  \n",
        "# start = 10\n",
        "Sum = sum(numbers, 10)\n",
        "print(Sum)"
      ],
      "metadata": {
        "id": "we1-uYPF_jc7"
      },
      "execution_count": null,
      "outputs": []
    },
    {
      "cell_type": "code",
      "source": [
        "list_of_values = [1,2,3,4,5,1,4,5]\n",
        "avg_value = sum(list_of_values)/len(list_of_values)"
      ],
      "metadata": {
        "colab": {
          "base_uri": "https://localhost:8080/",
          "height": 182
        },
        "id": "wLCMAvo6FBMx",
        "outputId": "3148d7de-ea71-4531-ba96-9795bf404c2c"
      },
      "execution_count": null,
      "outputs": [
        {
          "output_type": "error",
          "ename": "TypeError",
          "evalue": "ignored",
          "traceback": [
            "\u001b[0;31m---------------------------------------------------------------------------\u001b[0m",
            "\u001b[0;31mTypeError\u001b[0m                                 Traceback (most recent call last)",
            "\u001b[0;32m<ipython-input-131-66ce43d976c6>\u001b[0m in \u001b[0;36m<module>\u001b[0;34m()\u001b[0m\n\u001b[1;32m      1\u001b[0m \u001b[0mlist_of_values\u001b[0m \u001b[0;34m=\u001b[0m \u001b[0;34m[\u001b[0m\u001b[0;36m1\u001b[0m\u001b[0;34m,\u001b[0m\u001b[0;36m2\u001b[0m\u001b[0;34m,\u001b[0m\u001b[0;36m3\u001b[0m\u001b[0;34m,\u001b[0m\u001b[0;36m4\u001b[0m\u001b[0;34m,\u001b[0m\u001b[0;36m5\u001b[0m\u001b[0;34m,\u001b[0m\u001b[0;36m1\u001b[0m\u001b[0;34m,\u001b[0m\u001b[0;36m4\u001b[0m\u001b[0;34m,\u001b[0m\u001b[0;36m5\u001b[0m\u001b[0;34m]\u001b[0m\u001b[0;34m\u001b[0m\u001b[0;34m\u001b[0m\u001b[0m\n\u001b[0;32m----> 2\u001b[0;31m \u001b[0mavg_value\u001b[0m \u001b[0;34m=\u001b[0m \u001b[0msum\u001b[0m\u001b[0;34m(\u001b[0m\u001b[0mlist_of_values\u001b[0m\u001b[0;34m)\u001b[0m\u001b[0;34m/\u001b[0m\u001b[0mlen\u001b[0m\u001b[0;34m(\u001b[0m\u001b[0mlist_of_values\u001b[0m\u001b[0;34m)\u001b[0m\u001b[0;34m\u001b[0m\u001b[0;34m\u001b[0m\u001b[0m\n\u001b[0m",
            "\u001b[0;31mTypeError\u001b[0m: 'int' object is not callable"
          ]
        }
      ]
    },
    {
      "cell_type": "code",
      "source": [
        "n= int(input(\"Enter The number of element to be inserted: \"))\n",
        "number = []\n",
        "for i in range(0,n):\n",
        "  element = int(input(\"enter the element: \"))\n",
        "  a.append(element)\n",
        "  avg = sum(a)/n\n",
        "print(\"Average of elements in the list\",round(avg,2))"
      ],
      "metadata": {
        "colab": {
          "base_uri": "https://localhost:8080/",
          "height": 270
        },
        "id": "7hu3Ad7wKLEI",
        "outputId": "1532b773-e997-4a8f-e13e-622a827a7b71"
      },
      "execution_count": null,
      "outputs": [
        {
          "name": "stdout",
          "output_type": "stream",
          "text": [
            "Enter The number of element to be inserted: 2\n",
            "enter the element: 12,10\n"
          ]
        },
        {
          "output_type": "error",
          "ename": "ValueError",
          "evalue": "ignored",
          "traceback": [
            "\u001b[0;31m---------------------------------------------------------------------------\u001b[0m",
            "\u001b[0;31mValueError\u001b[0m                                Traceback (most recent call last)",
            "\u001b[0;32m<ipython-input-136-89effdae01b3>\u001b[0m in \u001b[0;36m<module>\u001b[0;34m()\u001b[0m\n\u001b[1;32m      2\u001b[0m \u001b[0mnumber\u001b[0m \u001b[0;34m=\u001b[0m \u001b[0;34m[\u001b[0m\u001b[0;34m]\u001b[0m\u001b[0;34m\u001b[0m\u001b[0;34m\u001b[0m\u001b[0m\n\u001b[1;32m      3\u001b[0m \u001b[0;32mfor\u001b[0m \u001b[0mi\u001b[0m \u001b[0;32min\u001b[0m \u001b[0mrange\u001b[0m\u001b[0;34m(\u001b[0m\u001b[0;36m0\u001b[0m\u001b[0;34m,\u001b[0m\u001b[0mn\u001b[0m\u001b[0;34m)\u001b[0m\u001b[0;34m:\u001b[0m\u001b[0;34m\u001b[0m\u001b[0;34m\u001b[0m\u001b[0m\n\u001b[0;32m----> 4\u001b[0;31m   \u001b[0melement\u001b[0m \u001b[0;34m=\u001b[0m \u001b[0mint\u001b[0m\u001b[0;34m(\u001b[0m\u001b[0minput\u001b[0m\u001b[0;34m(\u001b[0m\u001b[0;34m\"enter the element: \"\u001b[0m\u001b[0;34m)\u001b[0m\u001b[0;34m)\u001b[0m\u001b[0;34m\u001b[0m\u001b[0;34m\u001b[0m\u001b[0m\n\u001b[0m\u001b[1;32m      5\u001b[0m   \u001b[0ma\u001b[0m\u001b[0;34m.\u001b[0m\u001b[0mappend\u001b[0m\u001b[0;34m(\u001b[0m\u001b[0melement\u001b[0m\u001b[0;34m)\u001b[0m\u001b[0;34m\u001b[0m\u001b[0;34m\u001b[0m\u001b[0m\n\u001b[1;32m      6\u001b[0m   \u001b[0mavg\u001b[0m \u001b[0;34m=\u001b[0m \u001b[0msum\u001b[0m\u001b[0;34m(\u001b[0m\u001b[0ma\u001b[0m\u001b[0;34m)\u001b[0m\u001b[0;34m/\u001b[0m\u001b[0mn\u001b[0m\u001b[0;34m\u001b[0m\u001b[0;34m\u001b[0m\u001b[0m\n",
            "\u001b[0;31mValueError\u001b[0m: invalid literal for int() with base 10: '12,10'"
          ]
        }
      ]
    },
    {
      "cell_type": "code",
      "source": [
        " ##sum of the digits of a number in Python\n",
        "\n",
        "n=int(input(\"Enter a number:\"))\n",
        "tot=0\n",
        "while(n>0):\n",
        "  dig=n%10\n",
        "  tot=tot+dig\n",
        "  n=n//10\n",
        "print(\"The total sum of digits is:\",tot)\n"
      ],
      "metadata": {
        "colab": {
          "base_uri": "https://localhost:8080/"
        },
        "id": "Em1rsGkBNINf",
        "outputId": "d0935c86-2080-4aeb-df3e-f08816fb015a"
      },
      "execution_count": null,
      "outputs": [
        {
          "output_type": "stream",
          "name": "stdout",
          "text": [
            "Enter a number:99856\n",
            "The total sum of digits is: 37\n"
          ]
        }
      ]
    },
    {
      "cell_type": "code",
      "source": [
        "n= int(input(\"Enter the number\"))\n",
        "total = 0\n",
        "while(n>0):\n",
        "  digit = n%10\n",
        "  total = total + digit\n",
        "  n = n//10\n",
        "print('Given no of total is: ',total)"
      ],
      "metadata": {
        "colab": {
          "base_uri": "https://localhost:8080/"
        },
        "id": "zDwIEPwlVLzb",
        "outputId": "f0342064-6fac-4718-c09e-e374ea946985"
      },
      "execution_count": null,
      "outputs": [
        {
          "output_type": "stream",
          "name": "stdout",
          "text": [
            "Enter the number123\n",
            "Given no of total is:  6\n"
          ]
        }
      ]
    },
    {
      "cell_type": "code",
      "source": [
        "### Checking the palindrome\n",
        "n= int(input(\"Enter the number: \"))\n",
        "templete = n\n",
        "reverse = 0\n",
        "while(n>0):\n",
        "  digit = n%10\n",
        "  reverse = reverse*10 + digit\n",
        "  n = n//10\n",
        "if (templete == reverse):\n",
        "    print(\"given number is palendrome\")\n",
        "else:\n",
        "    print(\"given no is not palendrome \")"
      ],
      "metadata": {
        "colab": {
          "base_uri": "https://localhost:8080/"
        },
        "id": "l9XETpjRV2W7",
        "outputId": "2e7533aa-3aca-4fad-b4b9-7f71c1a55068"
      },
      "execution_count": null,
      "outputs": [
        {
          "output_type": "stream",
          "name": "stdout",
          "text": [
            "Enter the number: 144\n",
            "given no is not palendrome \n"
          ]
        }
      ]
    },
    {
      "cell_type": "code",
      "source": [
        "#Count the Number of Digits in a Number\n",
        "\n",
        "n= int(input(\"Enter the number: \"))\n",
        "count = 0\n",
        "while(n>0):\n",
        "  count = count+1\n",
        "  n= n//10\n",
        "print(\"no of digit in list: \",count)"
      ],
      "metadata": {
        "colab": {
          "base_uri": "https://localhost:8080/"
        },
        "id": "Tb7Lr1bna7t2",
        "outputId": "af0a0f92-9d93-49ad-ddda-ee9c3f967bab"
      },
      "execution_count": null,
      "outputs": [
        {
          "output_type": "stream",
          "name": "stdout",
          "text": [
            "Enter the number: 8465654\n",
            "no of digit in list:  7\n"
          ]
        }
      ]
    },
    {
      "cell_type": "code",
      "source": [
        "##Adding no into previous number\n",
        "\n",
        "list = [1,2,3,4,5]\n",
        "new_list = []\n",
        "while(n>0):\n",
        "  for i in list:\n",
        "    new_list += list.append()+i\n",
        "    n =  n//10\n",
        "    print(new_list)\n",
        "print(new_list)"
      ],
      "metadata": {
        "colab": {
          "base_uri": "https://localhost:8080/"
        },
        "id": "1gH3xbOccIb0",
        "outputId": "fbc72bb9-76d1-49ea-cc3f-b16d87a62031"
      },
      "execution_count": null,
      "outputs": [
        {
          "output_type": "stream",
          "name": "stdout",
          "text": [
            "[]\n"
          ]
        }
      ]
    },
    {
      "cell_type": "code",
      "source": [
        "# print table of given number\n",
        "n= int(input(\"Enter the input: \"))\n",
        "for i in range(1,6):\n",
        "  print(n, 'x', i, '=', n*i)\n",
        "\n"
      ],
      "metadata": {
        "colab": {
          "base_uri": "https://localhost:8080/"
        },
        "id": "INSAaAJBdvIX",
        "outputId": "960133ca-c8db-4012-e9cf-72b5ab2950c1"
      },
      "execution_count": null,
      "outputs": [
        {
          "output_type": "stream",
          "name": "stdout",
          "text": [
            "Enter the input: 5\n",
            "5 x 1 = 5\n",
            "5 x 2 = 10\n",
            "5 x 3 = 15\n",
            "5 x 4 = 20\n",
            "5 x 5 = 25\n"
          ]
        }
      ]
    },
    {
      "cell_type": "code",
      "source": [
        "# print table of given number\n",
        "list= int(input(\"Enter the input: \"))\n",
        "for i in range(1,5):\n",
        "  print(n, 'x', i, '=', n*i)"
      ],
      "metadata": {
        "colab": {
          "base_uri": "https://localhost:8080/"
        },
        "id": "KYzLbq80iCYS",
        "outputId": "c3a464ee-b17e-40ed-d003-f62b5754e2cf"
      },
      "execution_count": null,
      "outputs": [
        {
          "output_type": "stream",
          "name": "stdout",
          "text": [
            "Enter the input: 5\n",
            "5 x 1 = 5\n",
            "5 x 2 = 10\n",
            "5 x 3 = 15\n",
            "5 x 4 = 20\n"
          ]
        }
      ]
    },
    {
      "cell_type": "code",
      "source": [
        "def PrimeChecker(a):\n",
        "  if a>1:\n",
        "    for j in range(2, int(a/2)+1):\n",
        "      if a%j==0:\n",
        "        print(a,'This is not prime')\n",
        "        break\n",
        "    else:\n",
        "      print(a,'this is prime number')\n",
        "  else:\n",
        "    print(a,'this is not prime number')\n",
        "a = int(input('enter the number: '))\n",
        "PrimeChecker(a)"
      ],
      "metadata": {
        "colab": {
          "base_uri": "https://localhost:8080/"
        },
        "id": "AaVP195PymQm",
        "outputId": "5cce782d-186d-483f-e4f6-560a53901759"
      },
      "execution_count": null,
      "outputs": [
        {
          "output_type": "stream",
          "name": "stdout",
          "text": [
            "enter the number: 8\n",
            "8 This is not prime\n"
          ]
        }
      ]
    },
    {
      "cell_type": "code",
      "source": [
        "def PrimeChecker(a):\n",
        "  if a>1:\n",
        "    for j in range(2, int(a/2)+1):\n",
        "      if a%j ==0:\n",
        "        print(a, \"not prime\")\n",
        "        break\n",
        "    else:\n",
        "      print(a, 'is prime')\n",
        "  else:\n",
        "    print(a,'not prime')\n",
        "a = int(input(\"enter no\"))\n",
        "PrimeChecker(a)"
      ],
      "metadata": {
        "colab": {
          "base_uri": "https://localhost:8080/"
        },
        "id": "lmd5vlOQ8w1E",
        "outputId": "ac571eda-6f9a-4098-bec5-942690d0db85"
      },
      "execution_count": null,
      "outputs": [
        {
          "output_type": "stream",
          "name": "stdout",
          "text": [
            "enter no5\n",
            "5 is prime\n"
          ]
        }
      ]
    },
    {
      "cell_type": "code",
      "source": [
        "\n",
        "import math\n",
        "import os\n",
        "import random\n",
        "import re\n",
        "import sys\n",
        "\n",
        "\n",
        "#\n",
        "# Complete the 'efficientJanitor' function below.\n",
        "#\n",
        "# The function is expected to return an INTEGER.\n",
        "# The function accepts FLOAT_ARRAY weight as parameter.\n",
        "#\n",
        "\n",
        "def efficientJanitor(weight):\n",
        "    # Write your code here\n",
        "\n",
        "\n",
        "if __name__ == '__main__':\n",
        "    fptr = open(os.environ['OUTPUT_PATH'], 'w')\n",
        "\n",
        "    weight_count = int(input().strip())\n",
        "\n",
        "    weight = []\n",
        "\n",
        "    for _ in range(weight_count):\n",
        "        weight_item = float(input().strip())\n",
        "        weight.append(weight_item)\n",
        "\n",
        "    result = efficientJanitor(weight)\n",
        "\n",
        "    fptr.write(str(result) + '\\n')\n",
        "\n",
        "    fptr.close()"
      ],
      "metadata": {
        "colab": {
          "base_uri": "https://localhost:8080/",
          "height": 131
        },
        "id": "dhvSndPwvNqu",
        "outputId": "19ac9e32-8216-4503-89c1-fc3c70756381"
      },
      "execution_count": 1,
      "outputs": [
        {
          "output_type": "error",
          "ename": "IndentationError",
          "evalue": "ignored",
          "traceback": [
            "\u001b[0;36m  File \u001b[0;32m\"<ipython-input-1-1a6d0165948c>\"\u001b[0;36m, line \u001b[0;32m20\u001b[0m\n\u001b[0;31m    if __name__ == '__main__':\u001b[0m\n\u001b[0m     ^\u001b[0m\n\u001b[0;31mIndentationError\u001b[0m\u001b[0;31m:\u001b[0m expected an indented block\n"
          ]
        }
      ]
    },
    {
      "cell_type": "code",
      "source": [
        "def efficientJanitor(weight):\n",
        "    weight.sort()\n",
        "    n = len(weight)\n",
        "    lo = 0\n",
        "    hi = n - 1\n",
        "    ans = 0\n",
        "    while(lo < hi):\n",
        "        # too big to pair, so decrement hi\n",
        "        if(weight[lo] + weight[hi] > 3.0):\n",
        "            hi = hi - 1\n",
        "        # small enough to pair, so increment lo, decrement hi\n",
        "        else:\n",
        "            lo = lo + 1\n",
        "            hi = hi - 1\n",
        "        # increment trip counter in either case\n",
        "        ans = ans + 1\n",
        "    # a bag is left, so 1 more trip\n",
        "    if(lo == hi):\n",
        "        ans = ans + 1\n",
        "    return ans"
      ],
      "metadata": {
        "id": "ZaKBio8JvNWh"
      },
      "execution_count": 2,
      "outputs": []
    },
    {
      "cell_type": "code",
      "source": [
        ""
      ],
      "metadata": {
        "colab": {
          "base_uri": "https://localhost:8080/",
          "height": 166
        },
        "id": "k0uORoCjvNTQ",
        "outputId": "4b0e3652-aecd-4e31-a6bf-27f7796a66a2"
      },
      "execution_count": 3,
      "outputs": [
        {
          "output_type": "error",
          "ename": "NameError",
          "evalue": "ignored",
          "traceback": [
            "\u001b[0;31m---------------------------------------------------------------------------\u001b[0m",
            "\u001b[0;31mNameError\u001b[0m                                 Traceback (most recent call last)",
            "\u001b[0;32m<ipython-input-3-4ab70f7f1bf7>\u001b[0m in \u001b[0;36m<module>\u001b[0;34m()\u001b[0m\n\u001b[0;32m----> 1\u001b[0;31m \u001b[0mWeight\u001b[0m\u001b[0;34m\u001b[0m\u001b[0;34m\u001b[0m\u001b[0m\n\u001b[0m",
            "\u001b[0;31mNameError\u001b[0m: name 'Weight' is not defined"
          ]
        }
      ]
    },
    {
      "cell_type": "code",
      "source": [
        "#program to reverse a number\n",
        "\n",
        "n = int(input(\"please give a number : \"))\n",
        "print(\"before reverse your numeber is : %d\" %n)\n",
        "reverse = 0\n",
        "while n!=0:\n",
        "    reverse = reverse*10 + n%10       \n",
        "    n = (n//10)\n",
        "print(\"After reverse : %d\" %reverse) "
      ],
      "metadata": {
        "colab": {
          "base_uri": "https://localhost:8080/"
        },
        "id": "96VYrmMQvNQC",
        "outputId": "dd08a19c-7d22-4ad2-c372-373d992e4be5"
      },
      "execution_count": 4,
      "outputs": [
        {
          "output_type": "stream",
          "name": "stdout",
          "text": [
            "please give a number : 124\n",
            "before reverse your numeber is : 124\n",
            "After reverse : 421\n"
          ]
        }
      ]
    },
    {
      "cell_type": "code",
      "source": [
        "#Program to check a number is Armstrong or not in python programming language\n",
        "\n",
        "i=0\n",
        "result=0\n",
        "n = int(input(\"please give a number : \"))\n",
        "number1 = n\n",
        "temp = n\n",
        "while n!=0:\n",
        "    n = (n//10)\n",
        "    i=i+1;\n",
        "while number1!=0:\n",
        "    n=number1%10\n",
        "    result=result+pow(n,i)\n",
        "    number1=number1//10\n",
        "if temp==result:\n",
        "    print(\"number is armstrong\")\n",
        "else:\n",
        "    print(\"number is not armstrong\") "
      ],
      "metadata": {
        "colab": {
          "base_uri": "https://localhost:8080/"
        },
        "id": "e6KYBUMDvNLy",
        "outputId": "8a3710e3-098d-48d8-e880-3953ffc19911"
      },
      "execution_count": 5,
      "outputs": [
        {
          "output_type": "stream",
          "name": "stdout",
          "text": [
            "please give a number : 370\n",
            "number is armstrong\n"
          ]
        }
      ]
    },
    {
      "cell_type": "code",
      "source": [
        "#program to print Fibonacci series program in using Iterative methods\n",
        "\n",
        "first,second=0,1\n",
        "n = int(input(\"please give a number for fibonacci series : \"))\n",
        "print(\"fibonacci series are : \")\n",
        "for i in range(0,n):\n",
        "    if i<=1:\n",
        "        result=iS\n",
        "    else:\n",
        "      result = first + second;\n",
        "      first = second;\n",
        "      second = result;\n",
        "    print(result)"
      ],
      "metadata": {
        "colab": {
          "base_uri": "https://localhost:8080/"
        },
        "id": "n6YTS2OJvNIe",
        "outputId": "9c22d8ed-448a-4edb-c6f6-7d7c573dc50a"
      },
      "execution_count": 7,
      "outputs": [
        {
          "output_type": "stream",
          "name": "stdout",
          "text": [
            "please give a number for fibonacci series : 9\n",
            "fibonacci series are : \n",
            "0\n",
            "1\n",
            "1\n",
            "2\n",
            "3\n",
            "5\n",
            "8\n",
            "13\n",
            "21\n"
          ]
        }
      ]
    },
    {
      "cell_type": "code",
      "source": [
        ""
      ],
      "metadata": {
        "id": "ai3GtFbmvLlL"
      },
      "execution_count": null,
      "outputs": []
    },
    {
      "cell_type": "code",
      "source": [
        ""
      ],
      "metadata": {
        "id": "NEg11fFtvMJw"
      },
      "execution_count": null,
      "outputs": []
    },
    {
      "cell_type": "code",
      "source": [
        ""
      ],
      "metadata": {
        "id": "Ob8hxu_AvMPs"
      },
      "execution_count": null,
      "outputs": []
    },
    {
      "cell_type": "code",
      "source": [
        ""
      ],
      "metadata": {
        "id": "sCdQfBwpvMTk"
      },
      "execution_count": null,
      "outputs": []
    }
  ]
}