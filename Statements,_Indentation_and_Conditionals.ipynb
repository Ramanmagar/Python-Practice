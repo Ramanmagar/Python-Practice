{
  "nbformat": 4,
  "nbformat_minor": 0,
  "metadata": {
    "kernelspec": {
      "display_name": "Python 3",
      "language": "python",
      "name": "python3"
    },
    "language_info": {
      "codemirror_mode": {
        "name": "ipython",
        "version": 3
      },
      "file_extension": ".py",
      "mimetype": "text/x-python",
      "name": "python",
      "nbconvert_exporter": "python",
      "pygments_lexer": "ipython3",
      "version": "3.7.4"
    },
    "colab": {
      "name": "Statements, Indentation and Conditionals.ipynb",
      "provenance": [],
      "collapsed_sections": [],
      "include_colab_link": true
    }
  },
  "cells": [
    {
      "cell_type": "markdown",
      "metadata": {
        "id": "view-in-github",
        "colab_type": "text"
      },
      "source": [
        "<a href=\"https://colab.research.google.com/github/Ramanmagar/Python-Practice/blob/main/Statements%2C_Indentation_and_Conditionals.ipynb\" target=\"_parent\"><img src=\"https://colab.research.google.com/assets/colab-badge.svg\" alt=\"Open In Colab\"/></a>"
      ]
    },
    {
      "cell_type": "markdown",
      "metadata": {
        "id": "uCEngv6FHnnb"
      },
      "source": [
        "# <u>Understanding the difference between Statements and Expressions</u>"
      ]
    },
    {
      "cell_type": "markdown",
      "metadata": {
        "id": "6KySHsyNHnne"
      },
      "source": [
        "* A Statement is an instruction that the Python interpreter can execute. We have only seen the assignment statement so far. Some other kinds of statements that we’ll see shortly are while statements, for statements, if statements, and import statements. (There are other kinds too!)\n",
        "\n",
        "\n",
        "* An Expression is a combination of values, variables, operators, and calls to functions. Expressions need to be evaluated. If you ask Python to print an expression, the interpreter evaluates the expression and displays the result."
      ]
    },
    {
      "cell_type": "code",
      "metadata": {
        "id": "WT3EsLAIYUPx"
      },
      "source": [
        "# Assignment statement\n",
        "x = 3"
      ],
      "execution_count": null,
      "outputs": []
    },
    {
      "cell_type": "code",
      "metadata": {
        "id": "ZN-GxWfKHnng",
        "colab": {
          "base_uri": "https://localhost:8080/"
        },
        "outputId": "fb51d7a7-325a-439f-f7fa-21df611f89fa"
      },
      "source": [
        "print(1 +1 *3)\n",
        "print(len(\"Hello Team AlmaBetter\"))"
      ],
      "execution_count": null,
      "outputs": [
        {
          "output_type": "stream",
          "text": [
            "4\n",
            "21\n"
          ],
          "name": "stdout"
        }
      ]
    },
    {
      "cell_type": "markdown",
      "metadata": {
        "id": "sHO6fat6Hnns"
      },
      "source": [
        "* In this example <code>len()</code> is a built-in Python function that returns the number of characters in a string. We’ve previously seen the <code>print()</code> and the <code>type()</code> functions, so this is an example of another function!\n",
        "\n",
        "\n",
        "* The evaluation of an expression produces a value, which is why expressions can appear on the right hand side of assignment statements. A value all by itself is a simple expression, and so is a variable. Evaluating a variable gives the value that the variable refers to."
      ]
    },
    {
      "cell_type": "code",
      "metadata": {
        "id": "0QCxgyEbHnnu"
      },
      "source": [
        "y = 3.14"
      ],
      "execution_count": null,
      "outputs": []
    },
    {
      "cell_type": "code",
      "metadata": {
        "id": "yHx-90qB7llg",
        "colab": {
          "base_uri": "https://localhost:8080/"
        },
        "outputId": "f2c1cede-4c24-4b1e-a960-365ca573fbbc"
      },
      "source": [
        "y"
      ],
      "execution_count": null,
      "outputs": [
        {
          "output_type": "execute_result",
          "data": {
            "text/plain": [
              "3.14"
            ]
          },
          "metadata": {
            "tags": []
          },
          "execution_count": 6
        }
      ]
    },
    {
      "cell_type": "code",
      "metadata": {
        "id": "XQayBiLeZ1eg"
      },
      "source": [
        "a = 'Mighty'\n",
        "# b = a == True"
      ],
      "execution_count": null,
      "outputs": []
    },
    {
      "cell_type": "code",
      "metadata": {
        "colab": {
          "base_uri": "https://localhost:8080/"
        },
        "id": "n1rgy43RZ70I",
        "outputId": "795edc28-0ab1-42c3-d95f-fb9dc28392da"
      },
      "source": [
        "a == True"
      ],
      "execution_count": null,
      "outputs": [
        {
          "output_type": "execute_result",
          "data": {
            "text/plain": [
              "False"
            ]
          },
          "metadata": {
            "tags": []
          },
          "execution_count": 8
        }
      ]
    },
    {
      "cell_type": "markdown",
      "metadata": {
        "id": "VC98TpZyHnn0"
      },
      "source": [
        "* Note that when we enter the assignment statement, <code>y = 3.14 </code>, only the prompt is returned. There is no value. This is due to the fact that statements, such as the assignment statement, do not return a value. They are simply executed."
      ]
    },
    {
      "cell_type": "code",
      "metadata": {
        "id": "k8mZhU9naj6b"
      },
      "source": [
        "# Import statement\n",
        "import pandas as pd"
      ],
      "execution_count": null,
      "outputs": []
    },
    {
      "cell_type": "code",
      "metadata": {
        "id": "QvpFXqHvHnn1",
        "colab": {
          "base_uri": "https://localhost:8080/"
        },
        "outputId": "dc36e10b-0ec3-4df3-d0e8-24a88b69749c"
      },
      "source": [
        "print(y)"
      ],
      "execution_count": null,
      "outputs": [
        {
          "output_type": "stream",
          "text": [
            "3.14\n"
          ],
          "name": "stdout"
        }
      ]
    },
    {
      "cell_type": "code",
      "metadata": {
        "id": "UOlQvndGHnn6",
        "colab": {
          "base_uri": "https://localhost:8080/"
        },
        "outputId": "f29b6460-6c93-49e0-88d9-a5cacd428ef3"
      },
      "source": [
        "y"
      ],
      "execution_count": null,
      "outputs": [
        {
          "output_type": "execute_result",
          "data": {
            "text/plain": [
              "3.14"
            ]
          },
          "metadata": {
            "tags": []
          },
          "execution_count": 11
        }
      ]
    },
    {
      "cell_type": "markdown",
      "metadata": {
        "id": "w945dRqiHnn9"
      },
      "source": [
        "* On the other hand, the result of executing the assignment statement is the creation of a reference from a variable, y, to a value, 3.14. When we execute the <code>print()</code> function working on y, we see the value that y is referring to. In fact, evaluating y by itself results in the same response."
      ]
    },
    {
      "cell_type": "markdown",
      "metadata": {
        "id": "mvOHovwVHnn9"
      },
      "source": [
        "* Instructions that a Python interpreter can execute are called statements. For example, <code>a = 1</code> is an assignment statement. <code>if</code> statement, <code>for</code> statement, <code>while</code> statement, etc. are other kinds of statements which will be discussed later."
      ]
    },
    {
      "cell_type": "markdown",
      "metadata": {
        "id": "LfTpVhrcHnn-"
      },
      "source": [
        "### Multi-line Statements"
      ]
    },
    {
      "cell_type": "markdown",
      "metadata": {
        "id": "8WI-7DFHHnn-"
      },
      "source": [
        "* In Python, the end of a statement is marked by a newline character. But we can make a statement extend over multiple lines with the line continuation character (\\)."
      ]
    },
    {
      "cell_type": "code",
      "metadata": {
        "id": "JgAslWA9b2Md"
      },
      "source": [
        "x = 1\n",
        "y = 2\n",
        "+ 5\n",
        "z = 3"
      ],
      "execution_count": null,
      "outputs": []
    },
    {
      "cell_type": "code",
      "metadata": {
        "colab": {
          "base_uri": "https://localhost:8080/"
        },
        "id": "_gWSgBDrb4yj",
        "outputId": "907d4c89-99e8-41b2-e1d9-3f20817a0cb0"
      },
      "source": [
        "y"
      ],
      "execution_count": null,
      "outputs": [
        {
          "output_type": "execute_result",
          "data": {
            "text/plain": [
              "2"
            ]
          },
          "metadata": {
            "tags": []
          },
          "execution_count": 14
        }
      ]
    },
    {
      "cell_type": "code",
      "metadata": {
        "id": "P3XeEpxgHnn_"
      },
      "source": [
        "a = (1 + 2 + 3 + 4 + \n",
        "5 + 6+ 7+ 8+ \n",
        "9 + 10)"
      ],
      "execution_count": null,
      "outputs": []
    },
    {
      "cell_type": "code",
      "metadata": {
        "id": "uKiA4sBFHnoC",
        "colab": {
          "base_uri": "https://localhost:8080/"
        },
        "outputId": "ff0e4ff9-d05f-447d-b334-d2fcc9cc688a"
      },
      "source": [
        "a"
      ],
      "execution_count": null,
      "outputs": [
        {
          "output_type": "execute_result",
          "data": {
            "text/plain": [
              "55"
            ]
          },
          "metadata": {
            "tags": []
          },
          "execution_count": 16
        }
      ]
    },
    {
      "cell_type": "markdown",
      "metadata": {
        "id": "ZT6MwgGsHnoF"
      },
      "source": [
        "* This is an explicit line continuation. In Python, line continuation is implied inside parentheses <code>( )</code>, brackets <code>[ ]</code>, and braces <code>{ }</code>. For instance, we can implement the above multi-line statement as:"
      ]
    },
    {
      "cell_type": "code",
      "metadata": {
        "id": "V6l3evBTdpGg"
      },
      "source": [
        "my_list = [1]\n",
        "my_tuple = (1,)\n",
        "my_str = ('raman')"
      ],
      "execution_count": null,
      "outputs": []
    },
    {
      "cell_type": "code",
      "metadata": {
        "colab": {
          "base_uri": "https://localhost:8080/"
        },
        "id": "d5xpwMgAdtLo",
        "outputId": "e1c12db9-b1c3-4bcb-893d-a03714764352"
      },
      "source": [
        "my_list, my_tuple, my_str"
      ],
      "execution_count": null,
      "outputs": [
        {
          "output_type": "execute_result",
          "data": {
            "text/plain": [
              "([1], (1,), 'raman')"
            ]
          },
          "metadata": {
            "tags": []
          },
          "execution_count": 21
        }
      ]
    },
    {
      "cell_type": "code",
      "metadata": {
        "id": "pbQlDAYyHnoG"
      },
      "source": [
        "a = (1 + 2 + 3 + 4 + 5 + 6 + 7  + 8 + 9 + 10)"
      ],
      "execution_count": null,
      "outputs": []
    },
    {
      "cell_type": "code",
      "metadata": {
        "id": "D_OaHIHz8xJZ",
        "colab": {
          "base_uri": "https://localhost:8080/"
        },
        "outputId": "bb1da702-16eb-488d-9323-7ceacae4e0d9"
      },
      "source": [
        "a"
      ],
      "execution_count": null,
      "outputs": [
        {
          "output_type": "execute_result",
          "data": {
            "text/plain": [
              "55"
            ]
          },
          "metadata": {
            "tags": []
          },
          "execution_count": 44
        }
      ]
    },
    {
      "cell_type": "code",
      "metadata": {
        "colab": {
          "base_uri": "https://localhost:8080/"
        },
        "id": "sF5Ncyoldjsq",
        "outputId": "a8462cfd-a82c-4f0e-f5d6-b039823107d6"
      },
      "source": [
        "type(a)"
      ],
      "execution_count": null,
      "outputs": [
        {
          "output_type": "execute_result",
          "data": {
            "text/plain": [
              "int"
            ]
          },
          "metadata": {
            "tags": []
          },
          "execution_count": 45
        }
      ]
    },
    {
      "cell_type": "markdown",
      "metadata": {
        "id": "PNsXf6IfHnoI"
      },
      "source": [
        "* Here, the surrounding parentheses <code>( )</code> do the line continuation implicitly. Same is the case with <code>[ ]</code> and <code>{ }</code>. For example:"
      ]
    },
    {
      "cell_type": "code",
      "metadata": {
        "id": "UXPQjcvL9Mwq"
      },
      "source": [
        "a = 1\n",
        "b = 2"
      ],
      "execution_count": null,
      "outputs": []
    },
    {
      "cell_type": "code",
      "metadata": {
        "id": "V4vEIYUde5Qv"
      },
      "source": [
        "colors = 'Set theory is the mathematical theory of well-determined collections, called sets, of objects that are called members, or elements, of the set. Pure set theory deals exclusively with sets, so the only sets under consideration are those whose members are also sets. The theory of the hereditarily-finite sets, namely those finite sets whose elements are also finite sets, the elements of which are also finite, and so on, is formally equivalent to arithmetic. So, the essence of set theory is the study of infinite sets, and therefore it can be defined as the mathematical theory of the actual—as opposed to potential—infinite.'"
      ],
      "execution_count": null,
      "outputs": []
    },
    {
      "cell_type": "code",
      "metadata": {
        "id": "acavVLtgHnoI"
      },
      "source": [
        "colors = 'Set theory is the mathematical theory of well-determined collections, called sets, \\\n",
        "of objects that are called members, or elements, of the set. Pure set theory deals exclusively \\\n",
        "with sets, so the only sets under consideration are those whose members are also sets.\\\n",
        "The theory of the hereditarily-finite sets, namely those finite sets whose elements are also finite sets,\\\n",
        " the elements of which are also finite, and so on, is formally equivalent to arithmetic. \\\n",
        " So, the essence of set theory is the study of infinite sets, and \\\n",
        " therefore it can be defined as the mathematical theory of the actual—as opposed to potential—infinite.'"
      ],
      "execution_count": null,
      "outputs": []
    },
    {
      "cell_type": "code",
      "metadata": {
        "id": "b84McgJT9zhw",
        "colab": {
          "base_uri": "https://localhost:8080/",
          "height": 85
        },
        "outputId": "9dc0a2f5-d623-4ed7-de99-913c0976d074"
      },
      "source": [
        "colors"
      ],
      "execution_count": null,
      "outputs": [
        {
          "output_type": "execute_result",
          "data": {
            "application/vnd.google.colaboratory.intrinsic+json": {
              "type": "string"
            },
            "text/plain": [
              "'Set theory is the mathematical theory of well-determined collections, called sets, of objects that are called members, or elements, of the set. Pure set theory deals exclusively with sets, so the only sets under consideration are those whose members are also sets.The theory of the hereditarily-finite sets, namely those finite sets whose elements are also finite sets, the elements of which are also finite, and so on, is formally equivalent to arithmetic.  So, the essence of set theory is the study of infinite sets, and  therefore it can be defined as the mathematical theory of the actual—as opposed to potential—infinite.'"
            ]
          },
          "metadata": {
            "tags": []
          },
          "execution_count": 49
        }
      ]
    },
    {
      "cell_type": "markdown",
      "metadata": {
        "id": "B03yfZ97HnoK"
      },
      "source": [
        "* We can also put multiple statements in a single line using semicolons, as follows:"
      ]
    },
    {
      "cell_type": "code",
      "metadata": {
        "id": "OQDamWX8fYK4"
      },
      "source": [
        "a = 1 \n",
        "b = 2 \n",
        "c = 3 "
      ],
      "execution_count": null,
      "outputs": []
    },
    {
      "cell_type": "code",
      "metadata": {
        "id": "Ai_uK72yHnoL"
      },
      "source": [
        "a = 1 ; b = 2 ; c = 3"
      ],
      "execution_count": null,
      "outputs": []
    },
    {
      "cell_type": "code",
      "metadata": {
        "id": "Fk3LFubjgyzA"
      },
      "source": [
        "a = 1 ; b = 2 ; c = 3 "
      ],
      "execution_count": null,
      "outputs": []
    },
    {
      "cell_type": "code",
      "metadata": {
        "colab": {
          "base_uri": "https://localhost:8080/"
        },
        "id": "7Ban7IPTg80k",
        "outputId": "87058025-a2a5-451a-fd83-f80d08403692"
      },
      "source": [
        " b "
      ],
      "execution_count": null,
      "outputs": [
        {
          "output_type": "execute_result",
          "data": {
            "text/plain": [
              "2"
            ]
          },
          "metadata": {
            "tags": []
          },
          "execution_count": 53
        }
      ]
    },
    {
      "cell_type": "code",
      "metadata": {
        "id": "1UpKwsua-HIk",
        "colab": {
          "base_uri": "https://localhost:8080/"
        },
        "outputId": "d1583bc2-a876-48e8-a222-c3423f9dae80"
      },
      "source": [
        "c"
      ],
      "execution_count": null,
      "outputs": [
        {
          "output_type": "execute_result",
          "data": {
            "text/plain": [
              "3"
            ]
          },
          "metadata": {
            "tags": []
          },
          "execution_count": 54
        }
      ]
    },
    {
      "cell_type": "code",
      "metadata": {
        "id": "mIRQZGsxhD4W"
      },
      "source": [
        "a, b, c = [2, 3, 4], (1, 2, 3), (1, 2)"
      ],
      "execution_count": null,
      "outputs": []
    },
    {
      "cell_type": "code",
      "metadata": {
        "id": "4_wgRL90htrg"
      },
      "source": [
        "a, b = b, a"
      ],
      "execution_count": null,
      "outputs": []
    },
    {
      "cell_type": "code",
      "metadata": {
        "colab": {
          "base_uri": "https://localhost:8080/"
        },
        "id": "s7MHqm1ghdv5",
        "outputId": "1bf65293-6cc3-4b9d-d47b-5513a27eda8a"
      },
      "source": [
        "a"
      ],
      "execution_count": null,
      "outputs": [
        {
          "output_type": "execute_result",
          "data": {
            "text/plain": [
              "(1, 2, 3)"
            ]
          },
          "metadata": {
            "tags": []
          },
          "execution_count": 72
        }
      ]
    },
    {
      "cell_type": "code",
      "metadata": {
        "colab": {
          "base_uri": "https://localhost:8080/"
        },
        "id": "UZ3UZATdhdS4",
        "outputId": "227578f9-c145-4649-8b22-6add76987f8e"
      },
      "source": [
        "b"
      ],
      "execution_count": null,
      "outputs": [
        {
          "output_type": "execute_result",
          "data": {
            "text/plain": [
              "[2, 3, 4]"
            ]
          },
          "metadata": {
            "tags": []
          },
          "execution_count": 73
        }
      ]
    },
    {
      "cell_type": "code",
      "metadata": {
        "id": "P_A4qzdCgdFO"
      },
      "source": [
        "a = 1\n",
        "b = 2\n",
        "c = 3"
      ],
      "execution_count": null,
      "outputs": []
    },
    {
      "cell_type": "code",
      "metadata": {
        "id": "Qi411Crhoy_X"
      },
      "source": [
        "a, b, c = [1, 'a', True], (45, 67), {'Name' : 'Vikash' , 'Age' : 27}"
      ],
      "execution_count": null,
      "outputs": []
    },
    {
      "cell_type": "code",
      "metadata": {
        "id": "_MLqT90co1uM",
        "colab": {
          "base_uri": "https://localhost:8080/"
        },
        "outputId": "403e6b6e-14d0-44af-8e4b-a6b9b7670206"
      },
      "source": [
        "a"
      ],
      "execution_count": null,
      "outputs": [
        {
          "output_type": "execute_result",
          "data": {
            "text/plain": [
              "[1, 'a', True]"
            ]
          },
          "metadata": {
            "tags": []
          },
          "execution_count": 62
        }
      ]
    },
    {
      "cell_type": "code",
      "metadata": {
        "id": "wFWj0Mo1o6e0",
        "colab": {
          "base_uri": "https://localhost:8080/"
        },
        "outputId": "8ec738e4-c726-4082-e501-c07c55b06deb"
      },
      "source": [
        "b"
      ],
      "execution_count": null,
      "outputs": [
        {
          "output_type": "execute_result",
          "data": {
            "text/plain": [
              "(45, 67)"
            ]
          },
          "metadata": {
            "tags": []
          },
          "execution_count": 63
        }
      ]
    },
    {
      "cell_type": "code",
      "metadata": {
        "id": "cX-CIJFwo8ce",
        "colab": {
          "base_uri": "https://localhost:8080/"
        },
        "outputId": "3a46dbe2-02e1-4673-9429-d226bcedbcb8"
      },
      "source": [
        "c"
      ],
      "execution_count": null,
      "outputs": [
        {
          "output_type": "execute_result",
          "data": {
            "text/plain": [
              "{'Age': 27, 'Name': 'Vikash'}"
            ]
          },
          "metadata": {
            "tags": []
          },
          "execution_count": 64
        }
      ]
    },
    {
      "cell_type": "code",
      "metadata": {
        "id": "yOwjB-YYhQfk"
      },
      "source": [
        "a, b = b, a"
      ],
      "execution_count": null,
      "outputs": []
    },
    {
      "cell_type": "code",
      "metadata": {
        "colab": {
          "base_uri": "https://localhost:8080/"
        },
        "id": "5F9bYYGDhS5J",
        "outputId": "bdb71d83-864e-4586-b2af-944fc25cdb49"
      },
      "source": [
        "a"
      ],
      "execution_count": null,
      "outputs": [
        {
          "output_type": "execute_result",
          "data": {
            "text/plain": [
              "(45, 67)"
            ]
          },
          "metadata": {
            "tags": []
          },
          "execution_count": 66
        }
      ]
    },
    {
      "cell_type": "code",
      "metadata": {
        "colab": {
          "base_uri": "https://localhost:8080/"
        },
        "id": "5vod6tsShUvH",
        "outputId": "c7fe4761-4e95-4c88-fa90-af5d43a93a1b"
      },
      "source": [
        "b"
      ],
      "execution_count": null,
      "outputs": [
        {
          "output_type": "execute_result",
          "data": {
            "text/plain": [
              "[1, 'a', True]"
            ]
          },
          "metadata": {
            "tags": []
          },
          "execution_count": 67
        }
      ]
    },
    {
      "cell_type": "markdown",
      "metadata": {
        "id": "khxoqawIHnoN"
      },
      "source": [
        "# <u>Python Comments</u>"
      ]
    },
    {
      "cell_type": "markdown",
      "metadata": {
        "id": "7he_1JNlHnoN"
      },
      "source": [
        "* Comments are very important while writing a program. They describe what is going on inside a program, so that a person looking at the source code does not have a hard time figuring it out.\n",
        "\n",
        "\n",
        "* You might forget the key details of the program you just wrote in a month's time. So taking the time to explain these concepts in the form of comments is always fruitful.\n",
        "\n",
        "\n",
        "* In Python, we use the hash (#) symbol to start writing a comment.\n",
        "\n",
        "\n",
        "* It extends up to the newline character. Comments are for programmers to better understand a program. Python Interpreter ignores comments."
      ]
    },
    {
      "cell_type": "code",
      "metadata": {
        "id": "r5BzV1ITHnoN",
        "colab": {
          "base_uri": "https://localhost:8080/"
        },
        "outputId": "0ffa20fa-a0c3-40c1-9151-e1dff74b8221"
      },
      "source": [
        "# This is a comment \n",
        "# print('Hello')\n",
        "print('Hello')"
      ],
      "execution_count": null,
      "outputs": [
        {
          "output_type": "stream",
          "text": [
            "Hello\n"
          ],
          "name": "stdout"
        }
      ]
    },
    {
      "cell_type": "markdown",
      "metadata": {
        "id": "rt8jeajiHnoQ"
      },
      "source": [
        "* We can have comments that extend up to multiple lines. One way is to use the hash(#) symbol at the beginning of each line. For example:"
      ]
    },
    {
      "cell_type": "code",
      "metadata": {
        "id": "ke5LH88CHnoQ"
      },
      "source": [
        "# This is a long comment\n",
        "# and it extends\n",
        "# to multiple lines"
      ],
      "execution_count": null,
      "outputs": []
    },
    {
      "cell_type": "markdown",
      "metadata": {
        "id": "dM5xcR6uHnoS"
      },
      "source": [
        "* Another way of doing this is to use triple quotes, either ''' or \"\"\".\n",
        "\n",
        "\n",
        "* These triple quotes are generally used for multi-line strings. But they can be used as a multi-line comment as well. Unless they are not docstrings, they do not generate any extra code."
      ]
    },
    {
      "cell_type": "code",
      "metadata": {
        "id": "o1Aw0HL7HnoT",
        "colab": {
          "base_uri": "https://localhost:8080/"
        },
        "outputId": "d1ecb41f-19ee-4c04-9da3-024337376e6d"
      },
      "source": [
        "'''This is also a\n",
        "perfect example of\n",
        "ahjcdjh\n",
        "sdjbdkjas\n",
        "mnbscjsab\n",
        "bkjabfa\n",
        "multi-line comments'''\n",
        "\n",
        "a = 3\n",
        "print(a)"
      ],
      "execution_count": null,
      "outputs": [
        {
          "output_type": "stream",
          "text": [
            "3\n"
          ],
          "name": "stdout"
        }
      ]
    },
    {
      "cell_type": "markdown",
      "metadata": {
        "id": "XM2CjOCyHnoV"
      },
      "source": [
        "# <u>Indentation in Python </u>\n",
        "\n",
        "It is important to keep a good understanding of how indentation works in Python to maintain the structure and order of your code. We will touch on this topic again when we start building out functions!"
      ]
    },
    {
      "cell_type": "markdown",
      "metadata": {
        "id": "uhAgTP0tHnoW"
      },
      "source": [
        "* Let's create a simple statement that says: \"If a is greater than b, assign 2 to a and 4 to b\"\n",
        "\n",
        "\n",
        "* Take a look at how to write a simple if statement                 "
      ]
    },
    {
      "cell_type": "code",
      "metadata": {
        "id": "cubiTvRkHnoW"
      },
      "source": [
        " a=2\n",
        " b=1\n",
        "\n",
        "# if b > a:\n",
        "#   a = 5\n",
        "#   b = 5"
      ],
      "execution_count": null,
      "outputs": []
    },
    {
      "cell_type": "code",
      "metadata": {
        "id": "x3pl15PBHnoZ",
        "colab": {
          "base_uri": "https://localhost:8080/"
        },
        "outputId": "22eeecdb-a3bc-453d-ca5c-4b133df0d27f"
      },
      "source": [
        " a"
      ],
      "execution_count": null,
      "outputs": [
        {
          "output_type": "execute_result",
          "data": {
            "text/plain": [
              "2"
            ]
          },
          "metadata": {
            "tags": []
          },
          "execution_count": 79
        }
      ]
    },
    {
      "cell_type": "code",
      "metadata": {
        "id": "fPEVAaRLHnoc",
        "colab": {
          "base_uri": "https://localhost:8080/"
        },
        "outputId": "09ba6363-2f1d-4db3-d563-489749fe89df"
      },
      "source": [
        "b"
      ],
      "execution_count": null,
      "outputs": [
        {
          "output_type": "execute_result",
          "data": {
            "text/plain": [
              "1"
            ]
          },
          "metadata": {
            "tags": []
          },
          "execution_count": 80
        }
      ]
    },
    {
      "cell_type": "code",
      "metadata": {
        "id": "5dv6qNOXlL6X"
      },
      "source": [
        "a, b = 1, 2"
      ],
      "execution_count": null,
      "outputs": []
    },
    {
      "cell_type": "code",
      "metadata": {
        "id": "RKk2I-kKHnoe",
        "colab": {
          "base_uri": "https://localhost:8080/"
        },
        "outputId": "81e58c1f-2a45-4931-f94e-08a5c120771d"
      },
      "source": [
        " a < b \n",
        "  "
      ],
      "execution_count": null,
      "outputs": [
        {
          "output_type": "execute_result",
          "data": {
            "text/plain": [
              "True"
            ]
          },
          "metadata": {
            "tags": []
          },
          "execution_count": 86
        }
      ]
    },
    {
      "cell_type": "markdown",
      "metadata": {
        "id": "7zf6T5CSHnog"
      },
      "source": [
        "* You'll notice that Python is less cluttered and much more readable than other languages like C or Java. How does Python manage this?\n",
        "\n",
        "\n",
        "* The statement is ended with a colon, and whitespace(tab) is used (indentation) to describe what takes place in case of the statement.\n",
        "\n",
        "\n",
        "* Another major difference is the lack of semicolons in Python. \n",
        "\n",
        "\n",
        "* Semicolons are used to denote statement endings in many other languages, but in Python, **the end of a line is the same as the end of a statement.**\n",
        "\n",
        "\n",
        "* Lastly, to end this brief overview of differences, let's take a closer look at indentation syntax in Python vs other languages:"
      ]
    },
    {
      "cell_type": "markdown",
      "metadata": {
        "id": "1tDQg0B1Hnog"
      },
      "source": [
        "# <u> Conditional Statements </u>\n",
        "\n",
        "* <code>if</code> Statements in Python allows us to tell the computer to perform alternative actions based on a certain set of results.\n",
        "\n",
        "\n",
        "* Verbally, we can imagine we are telling the computer:\"Hey if this case happens, perform some action\"\n",
        "\n",
        "\n",
        "* We can then expand the idea further with <code>elif</code> and <code>else</code> statements, which allow us to tell the computer: \"Hey if this case happens, perform some action. Else, if another case happens, perform some other action. Else, if *none* of the above cases happened, perform this action.\"\n",
        "\n",
        "\n",
        "* Let's go ahead and look at the syntax format for <code>if</code> statements to get a better idea of this:\n",
        "\n",
        "    if case1:\n",
        "        perform action1\n",
        "    elif case2:\n",
        "        perform action2\n",
        "    else: \n",
        "        perform action3"
      ]
    },
    {
      "cell_type": "code",
      "metadata": {
        "id": "9HTiofEDoOR6",
        "colab": {
          "base_uri": "https://localhost:8080/",
          "height": 128
        },
        "outputId": "a4b3e53f-7ee2-4da0-af1a-1c05701af610"
      },
      "source": [
        "if case1 :\n",
        "  # do some action \n",
        "\n",
        "elif case3 :\n",
        "\n",
        "    # another action\n",
        "elif case2 :\n",
        "  # do some another action\n",
        "else:\n",
        "  # do some yet another action"
      ],
      "execution_count": null,
      "outputs": [
        {
          "output_type": "error",
          "ename": "IndentationError",
          "evalue": "ignored",
          "traceback": [
            "\u001b[0;36m  File \u001b[0;32m\"<ipython-input-1-c37cf6af6c01>\"\u001b[0;36m, line \u001b[0;32m4\u001b[0m\n\u001b[0;31m    elif case3 :\u001b[0m\n\u001b[0m       ^\u001b[0m\n\u001b[0;31mIndentationError\u001b[0m\u001b[0;31m:\u001b[0m expected an indented block\n"
          ]
        }
      ]
    },
    {
      "cell_type": "code",
      "metadata": {
        "colab": {
          "base_uri": "https://localhost:8080/",
          "height": 128
        },
        "id": "AQxEC1X-j_cq",
        "outputId": "29f5cf6c-0bbc-4248-d641-20a926232a1d"
      },
      "source": [
        "if case1 :\n",
        "  # do another action\n",
        "elif case5 :\n",
        "  # another action\n",
        "elif case2 :\n",
        "  # do some another action \n",
        "else:\n",
        " # do some yet another action"
      ],
      "execution_count": null,
      "outputs": [
        {
          "output_type": "error",
          "ename": "IndentationError",
          "evalue": "ignored",
          "traceback": [
            "\u001b[0;36m  File \u001b[0;32m\"<ipython-input-100-7d36a98ef45d>\"\u001b[0;36m, line \u001b[0;32m3\u001b[0m\n\u001b[0;31m    elif case5 :\u001b[0m\n\u001b[0m       ^\u001b[0m\n\u001b[0;31mIndentationError\u001b[0m\u001b[0;31m:\u001b[0m expected an indented block\n"
          ]
        }
      ]
    },
    {
      "cell_type": "code",
      "metadata": {
        "id": "bFe8-H-oHnoh"
      },
      "source": [
        "x=20   # Statement 1 - Assignment statement\n",
        "\n",
        "if x == 30 :\n",
        "  print('x is greater than 10!')\n",
        "  print(f'x is {x}')"
      ],
      "execution_count": null,
      "outputs": []
    },
    {
      "cell_type": "markdown",
      "metadata": {
        "id": "RI18dXE4Hnok"
      },
      "source": [
        "* <code>if</code> statement evaluates the True condition"
      ]
    },
    {
      "cell_type": "code",
      "metadata": {
        "colab": {
          "base_uri": "https://localhost:8080/"
        },
        "id": "0c6qcOShq1AI",
        "outputId": "7534cbaf-3a09-4117-ff3c-aea2f819c846"
      },
      "source": [
        "x == 20"
      ],
      "execution_count": null,
      "outputs": [
        {
          "output_type": "execute_result",
          "data": {
            "text/plain": [
              "True"
            ]
          },
          "metadata": {
            "tags": []
          },
          "execution_count": 7
        }
      ]
    },
    {
      "cell_type": "code",
      "metadata": {
        "id": "n2L2kPAkHnol",
        "colab": {
          "base_uri": "https://localhost:8080/"
        },
        "outputId": "763bdba3-24cb-4f0d-ee6c-07cf1a39a308"
      },
      "source": [
        "if True:\n",
        "  print('It was true!')"
      ],
      "execution_count": null,
      "outputs": [
        {
          "output_type": "stream",
          "text": [
            "It was true!\n"
          ],
          "name": "stdout"
        }
      ]
    },
    {
      "cell_type": "code",
      "metadata": {
        "id": "qvVhD8tYHnon"
      },
      "source": [
        "if False:\n",
        "  print('It was false!')"
      ],
      "execution_count": null,
      "outputs": []
    },
    {
      "cell_type": "markdown",
      "metadata": {
        "id": "ofrPBG8ZHnop"
      },
      "source": [
        "Let's add in some else logic:"
      ]
    },
    {
      "cell_type": "code",
      "metadata": {
        "id": "EF7AiLkrHnoq",
        "colab": {
          "base_uri": "https://localhost:8080/"
        },
        "outputId": "481f84f4-6d0c-4580-ac37-f5c6f66dda67"
      },
      "source": [
        "x = False\n",
        "y = True\n",
        "\n",
        "if x:\n",
        "  print('y was True!')\n",
        "else:\n",
        "  print('I will be printed in any case where x is not true')"
      ],
      "execution_count": null,
      "outputs": [
        {
          "output_type": "stream",
          "text": [
            "I will be printed in any case where x is not true\n"
          ],
          "name": "stdout"
        }
      ]
    },
    {
      "cell_type": "code",
      "metadata": {
        "colab": {
          "base_uri": "https://localhost:8080/"
        },
        "id": "3Gnz2PY2ht6t",
        "outputId": "cd764be9-eb33-4513-ca3f-6375d63a721b"
      },
      "source": [
        "x = False\n",
        "y = True \n",
        "\n",
        "if x:\n",
        "  print('y was true')\n",
        "else:\n",
        "  print('grater value')\n"
      ],
      "execution_count": null,
      "outputs": [
        {
          "output_type": "stream",
          "text": [
            "grater value\n"
          ],
          "name": "stdout"
        }
      ]
    },
    {
      "cell_type": "markdown",
      "metadata": {
        "id": "lEGoq9pjHnos"
      },
      "source": [
        "* Let's get a fuller picture of how far <code>if</code>, <code>elif</code>, and <code>else</code> can take us!\n",
        "\n",
        "\n",
        "* We write this out in a nested structure. Take note of how the <code>if</code>, <code>elif</code>, and <code>else</code> line up in the code. This can help you see what <code>if</code> is related to what <code>elif</code> or <code>else</code> statements."
      ]
    },
    {
      "cell_type": "code",
      "metadata": {
        "id": "DbV35ChhHnot",
        "colab": {
          "base_uri": "https://localhost:8080/"
        },
        "outputId": "0dc6b760-3639-4422-b952-4ca7d0b996cf"
      },
      "source": [
        "city = 'Pune'\n",
        "\n",
        "if city == 'New Delhi':\n",
        "  print('Welcome to the Indian Capital')\n",
        "elif city == 'Mumbai':\n",
        "  print('Welcome to the Financial Capital of India!')\n",
        "else:\n",
        "  print('Where are you?')"
      ],
      "execution_count": null,
      "outputs": [
        {
          "output_type": "stream",
          "text": [
            "Where are you?\n"
          ],
          "name": "stdout"
        }
      ]
    },
    {
      "cell_type": "code",
      "metadata": {
        "colab": {
          "base_uri": "https://localhost:8080/"
        },
        "id": "6n9BW8ucjh8H",
        "outputId": "21f671ac-b78e-43a0-c570-b5433d25948c"
      },
      "source": [
        "city = 'Bopala'\n",
        "\n",
        "if city == 'Kawatha':\n",
        " print('mandir')\n",
        "elif city == 'takli':\n",
        "  print('chata')\n",
        "else:\n",
        " print('nothing is impossible')"
      ],
      "execution_count": null,
      "outputs": [
        {
          "output_type": "stream",
          "text": [
            "nothing is impossible\n"
          ],
          "name": "stdout"
        }
      ]
    },
    {
      "cell_type": "markdown",
      "metadata": {
        "id": "Crk-mLkYHnow"
      },
      "source": [
        "* Note how the nested <code>if</code> statements are each checked until a True boolean causes the nested code below it to run. You should also note that you can put in as many <code>elif</code> statements as you want before you close off with an <code>else</code>.\n",
        "\n",
        "\n",
        "* Let's create two more simple examples for the <code>if</code>, <code>elif</code>, and <code>else</code> statements:"
      ]
    },
    {
      "cell_type": "code",
      "metadata": {
        "id": "gclDFcteHnow",
        "colab": {
          "base_uri": "https://localhost:8080/"
        },
        "outputId": "6ebe1851-96e0-4cda-8321-92d7294d4445"
      },
      "source": [
        "person = 'Johnny'\n",
        "\n",
        "if person == 'John':\n",
        "    print(f'Welcome {person}!')\n",
        "else:\n",
        "    print(\"Welcome, what's your name?\")"
      ],
      "execution_count": null,
      "outputs": [
        {
          "output_type": "stream",
          "text": [
            "Welcome, what's your name?\n"
          ],
          "name": "stdout"
        }
      ]
    },
    {
      "cell_type": "code",
      "metadata": {
        "id": "b3kcCb1oHnoz",
        "colab": {
          "base_uri": "https://localhost:8080/"
        },
        "outputId": "298c86c1-fae7-4319-e823-217cd5ebc068"
      },
      "source": [
        "number1 = -2\n",
        "number2 = 9\n",
        "\n",
        "if number1 > 0:\n",
        "  if number2 < 10 :\n",
        "    print(number2 + number1)\n",
        "  else:\n",
        "    print(\"Should be greater than 10\")\n",
        "\n",
        "elif number1 < 0:\n",
        "    print(\"Ah, that's a negative number\")\n",
        "else:\n",
        "    print(\"The number is zero!\")"
      ],
      "execution_count": null,
      "outputs": [
        {
          "output_type": "stream",
          "text": [
            "Ah, that's a negative number\n"
          ],
          "name": "stdout"
        }
      ]
    },
    {
      "cell_type": "code",
      "metadata": {
        "colab": {
          "base_uri": "https://localhost:8080/"
        },
        "id": "5KaRwtsglYmY",
        "outputId": "c98c046f-413a-4574-ccb4-c2dda32cab31"
      },
      "source": [
        "number3 = -5\n",
        "number4 = 12\n",
        "\n",
        "if number3 > 0:\n",
        "  if number4 < 12:\n",
        "    print(number3 + number4)\n",
        "  else:\n",
        "    print('should be grater than 12')\n",
        "elif number3 < 0:\n",
        "  print(\"Ah, that's a negative number\")\n",
        "else:\n",
        "   print('waw')"
      ],
      "execution_count": null,
      "outputs": [
        {
          "output_type": "stream",
          "text": [
            "Ah, that's a negative number\n"
          ],
          "name": "stdout"
        }
      ]
    },
    {
      "cell_type": "markdown",
      "metadata": {
        "id": "2NN-koY-6af9"
      },
      "source": [
        "## <u>Truthy & Falsy</u>\n",
        "\n",
        "### A \"truthy\" value will satisfy the check performed by if or while statements. We use \"truthy\" and \"falsy\" to differentiate from the boolean values True and False."
      ]
    },
    {
      "cell_type": "markdown",
      "metadata": {
        "id": "iAhlDVWQ61kr"
      },
      "source": [
        "### All values are considered \"truthy\" except for the following, which are \"falsy\":\n",
        "\n",
        "* <code>None</code>\n",
        "* <code>False</code>\n",
        "* <code>0</code>\n",
        "* <code>0.0</code>\n",
        "* <code>[]</code> - an empty <code>list</code>\n",
        "* <code>{}</code> - an empty <code>dict</code>\n",
        "* <code>()</code> - an empty <code>tuple</code>\n",
        "* <code>''</code> - an empty <code>str</code>"
      ]
    },
    {
      "cell_type": "code",
      "metadata": {
        "id": "TsUz73an6dQy",
        "colab": {
          "base_uri": "https://localhost:8080/"
        },
        "outputId": "6193f121-18ad-4cd4-b382-34fe651b1865"
      },
      "source": [
        "# Consider the following statement\n",
        "\n",
        "if False:\n",
        "  print(\"What do you say?\")\n",
        "else:\n",
        "  print(\"I have nothing to say\")"
      ],
      "execution_count": null,
      "outputs": [
        {
          "output_type": "stream",
          "text": [
            "I have nothing to say\n"
          ],
          "name": "stdout"
        }
      ]
    },
    {
      "cell_type": "code",
      "metadata": {
        "id": "3eaS1zDP7tN3",
        "colab": {
          "base_uri": "https://localhost:8080/"
        },
        "outputId": "ea86f39f-43f6-4c25-c99e-67982d20730f"
      },
      "source": [
        "if [None]:\n",
        "  print(\"Well I had a really bad day!\")\n",
        "else:\n",
        "  print(\"Come on you aced your test.\")"
      ],
      "execution_count": null,
      "outputs": [
        {
          "output_type": "stream",
          "text": [
            "Well I had a really bad day!\n"
          ],
          "name": "stdout"
        }
      ]
    },
    {
      "cell_type": "code",
      "metadata": {
        "id": "2kWdK2bt758j",
        "colab": {
          "base_uri": "https://localhost:8080/"
        },
        "outputId": "09636bd4-cb76-4fd6-a1da-510f8afaedbd"
      },
      "source": [
        "if {1:2,3:4}:\n",
        "  print(\"This is True\")\n",
        "else:\n",
        "  print(\"This is False\")"
      ],
      "execution_count": null,
      "outputs": [
        {
          "output_type": "stream",
          "text": [
            "This is True\n"
          ],
          "name": "stdout"
        }
      ]
    },
    {
      "cell_type": "code",
      "metadata": {
        "id": "cXFu9xHC-2V-",
        "colab": {
          "base_uri": "https://localhost:8080/"
        },
        "outputId": "741c20a8-47b4-4bee-a8e7-8397b0352a75"
      },
      "source": [
        "if False :\n",
        "  print('this is true')\n",
        "\n",
        "else:\n",
        "  print('i am well')"
      ],
      "execution_count": null,
      "outputs": [
        {
          "output_type": "stream",
          "text": [
            "i am well\n"
          ],
          "name": "stdout"
        }
      ]
    },
    {
      "cell_type": "code",
      "metadata": {
        "id": "9i71EtxUos8B"
      },
      "source": [
        ""
      ],
      "execution_count": null,
      "outputs": []
    }
  ]
}